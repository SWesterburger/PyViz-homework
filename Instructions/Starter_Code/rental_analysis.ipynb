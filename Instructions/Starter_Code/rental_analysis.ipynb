{
 "cells": [
  {
   "cell_type": "markdown",
   "metadata": {},
   "source": [
    "# San Francisco Housing Rental Analysis\n",
    "\n",
    "In this assignment, you will perform basic analysis for the San Francisco Housing Market to allow potential real estate investors to choose rental investment properties. "
   ]
  },
  {
   "cell_type": "code",
   "execution_count": 24,
   "metadata": {},
   "outputs": [],
   "source": [
    "# initial imports\n",
    "import os\n",
    "import pandas as pd\n",
    "import matplotlib.pyplot as plt\n",
    "import hvplot.pandas\n",
    "import plotly.express as px\n",
    "from pathlib import Path\n",
    "from dotenv import load_dotenv\n",
    "\n",
    "%matplotlib inline"
   ]
  },
  {
   "cell_type": "code",
   "execution_count": 25,
   "metadata": {},
   "outputs": [],
   "source": [
    "# Read the Mapbox API key\n",
    "load_dotenv()\n",
    "mapbox_token = os.getenv(\"MAPBOX_API_KEY\")"
   ]
  },
  {
   "cell_type": "code",
   "execution_count": 26,
   "metadata": {},
   "outputs": [
    {
     "data": {
      "text/plain": [
       "str"
      ]
     },
     "execution_count": 26,
     "metadata": {},
     "output_type": "execute_result"
    }
   ],
   "source": [
    "# check if API key is properly loaded\n",
    "type(mapbox_token)"
   ]
  },
  {
   "cell_type": "markdown",
   "metadata": {},
   "source": [
    "## Load Data"
   ]
  },
  {
   "cell_type": "code",
   "execution_count": 27,
   "metadata": {},
   "outputs": [
    {
     "data": {
      "text/html": [
       "<div>\n",
       "<style scoped>\n",
       "    .dataframe tbody tr th:only-of-type {\n",
       "        vertical-align: middle;\n",
       "    }\n",
       "\n",
       "    .dataframe tbody tr th {\n",
       "        vertical-align: top;\n",
       "    }\n",
       "\n",
       "    .dataframe thead th {\n",
       "        text-align: right;\n",
       "    }\n",
       "</style>\n",
       "<table border=\"1\" class=\"dataframe\">\n",
       "  <thead>\n",
       "    <tr style=\"text-align: right;\">\n",
       "      <th></th>\n",
       "      <th>neighborhood</th>\n",
       "      <th>sale_price_sqr_foot</th>\n",
       "      <th>housing_units</th>\n",
       "      <th>gross_rent</th>\n",
       "    </tr>\n",
       "    <tr>\n",
       "      <th>year</th>\n",
       "      <th></th>\n",
       "      <th></th>\n",
       "      <th></th>\n",
       "      <th></th>\n",
       "    </tr>\n",
       "  </thead>\n",
       "  <tbody>\n",
       "    <tr>\n",
       "      <th>2010</th>\n",
       "      <td>Alamo Square</td>\n",
       "      <td>291.182945</td>\n",
       "      <td>372560</td>\n",
       "      <td>1239</td>\n",
       "    </tr>\n",
       "    <tr>\n",
       "      <th>2010</th>\n",
       "      <td>Anza Vista</td>\n",
       "      <td>267.932583</td>\n",
       "      <td>372560</td>\n",
       "      <td>1239</td>\n",
       "    </tr>\n",
       "    <tr>\n",
       "      <th>2010</th>\n",
       "      <td>Bayview</td>\n",
       "      <td>170.098665</td>\n",
       "      <td>372560</td>\n",
       "      <td>1239</td>\n",
       "    </tr>\n",
       "    <tr>\n",
       "      <th>2010</th>\n",
       "      <td>Buena Vista Park</td>\n",
       "      <td>347.394919</td>\n",
       "      <td>372560</td>\n",
       "      <td>1239</td>\n",
       "    </tr>\n",
       "    <tr>\n",
       "      <th>2010</th>\n",
       "      <td>Central Richmond</td>\n",
       "      <td>319.027623</td>\n",
       "      <td>372560</td>\n",
       "      <td>1239</td>\n",
       "    </tr>\n",
       "  </tbody>\n",
       "</table>\n",
       "</div>"
      ],
      "text/plain": [
       "          neighborhood  sale_price_sqr_foot  housing_units  gross_rent\n",
       "year                                                                  \n",
       "2010      Alamo Square           291.182945         372560        1239\n",
       "2010        Anza Vista           267.932583         372560        1239\n",
       "2010           Bayview           170.098665         372560        1239\n",
       "2010  Buena Vista Park           347.394919         372560        1239\n",
       "2010  Central Richmond           319.027623         372560        1239"
      ]
     },
     "execution_count": 27,
     "metadata": {},
     "output_type": "execute_result"
    }
   ],
   "source": [
    "# Read the census data into a Pandas DataFrame\n",
    "file_path = Path(\"Data/sfo_neighborhoods_census_data.csv\")\n",
    "sfo_data = pd.read_csv(file_path, index_col=\"year\")\n",
    "sfo_data.head()"
   ]
  },
  {
   "cell_type": "markdown",
   "metadata": {},
   "source": [
    "- - - "
   ]
  },
  {
   "cell_type": "markdown",
   "metadata": {},
   "source": [
    "## Housing Units Per Year\n",
    "\n",
    "In this section, you will calculate the number of housing units per year and visualize the results as a bar chart using the Pandas plot function. \n",
    "\n",
    "Hint: Use the Pandas groupby function\n",
    "\n",
    "Optional challenge: Use the min, max, and std to scale the y limits of the chart."
   ]
  },
  {
   "cell_type": "code",
   "execution_count": 28,
   "metadata": {},
   "outputs": [
    {
     "name": "stdout",
     "output_type": "stream",
     "text": [
      "      housing_units\n",
      "year               \n",
      "2010         372560\n",
      "2011         374507\n",
      "2012         376454\n",
      "2013         378401\n",
      "2014         380348\n",
      "2015         382295\n",
      "2016         384242\n"
     ]
    }
   ],
   "source": [
    "# Calculate the mean number of housing units per year (hint: use groupby) \n",
    "# YOUR CODE HERE!\n",
    "housing_units_to_plot = sfo_data.groupby('year').mean()\n",
    "\n",
    "# drop sales price and gross rent columns, specify axis=1 because of double layered head \n",
    "housing_units_to_plot.drop(['sale_price_sqr_foot','gross_rent'], axis=1, inplace=True)\n",
    "print(housing_units_to_plot)"
   ]
  },
  {
   "cell_type": "code",
   "execution_count": 29,
   "metadata": {},
   "outputs": [
    {
     "data": {
      "text/plain": [
       "<matplotlib.axes._subplots.AxesSubplot at 0x128b7ce10>"
      ]
     },
     "execution_count": 29,
     "metadata": {},
     "output_type": "execute_result"
    },
    {
     "data": {
      "image/png": "[encoded data removed]",
      "text/plain": [
       "<Figure size 432x288 with 1 Axes>"
      ]
     },
     "metadata": {
      "needs_background": "light"
     },
     "output_type": "display_data"
    }
   ],
   "source": [
    "# Use the Pandas plot function to plot the average housing units per year.\n",
    "# Note: You will need to manually adjust the y limit of the chart using the min and max values from above.\n",
    "# YOUR CODE HERE!\n",
    "housing_plt = housing_units_to_plot.plot(kind='bar',legend=False,label='Housing Units in San Francisco from 2010 to 2016')\n",
    "housing_plt\n"
   ]
  },
  {
   "cell_type": "code",
   "execution_count": 30,
   "metadata": {},
   "outputs": [
    {
     "data": {
      "text/plain": [
       "Text(0.5, 0, 'Year')"
      ]
     },
     "execution_count": 30,
     "metadata": {},
     "output_type": "execute_result"
    },
    {
     "data": {
      "image/png": "[encoded data removed]",
      "text/plain": [
       "<Figure size 720x432 with 1 Axes>"
      ]
     },
     "metadata": {
      "needs_background": "light"
     },
     "output_type": "display_data"
    }
   ],
   "source": [
    "# Optional Challenge: Use the min, max, and std to scale the y limits of the chart\n",
    "# YOUR CODE HERE!\n",
    "\n",
    "# Determine min and max values to see range of y-axis\n",
    "min_housing = sfo_data['housing_units'].min()\n",
    "max_housing = sfo_data['housing_units'].max()\n",
    "std_housing = sfo_data['housing_units'].std()\n",
    "\n",
    "# Determine std to properly set lower and upper range\n",
    "std_housing = sfo_data['housing_units'].std()\n",
    "min_housing_corrected = min_housing - std_housing\n",
    "max_housing_corrected = max_housing + std_housing\n",
    "\n",
    "plt = housing_units_to_plot.plot(kind='bar',title='Housing Units in San Francisco from 2010 to 2016', ylim=(min_housing_corrected, max_housing_corrected), figsize=(10,6))\n",
    "plt.set_ylabel(\"Housing Units\")\n",
    "plt.set_xlabel('Year')"
   ]
  },
  {
   "cell_type": "markdown",
   "metadata": {},
   "source": [
    "- - - "
   ]
  },
  {
   "cell_type": "markdown",
   "metadata": {},
   "source": [
    "## Average Prices per Square Foot\n",
    "\n",
    "In this section, you will calculate the average gross rent and average sales price for each year. Plot the results as a line chart."
   ]
  },
  {
   "cell_type": "markdown",
   "metadata": {},
   "source": [
    "### Average Gross Rent in San Francisco Per Year"
   ]
  },
  {
   "cell_type": "code",
   "execution_count": 9,
   "metadata": {},
   "outputs": [],
   "source": [
    "# Calculate the average gross rent and average sale price per square foot\n",
    "# YOUR CODE HERE!\n",
    "\n",
    "# average gross rent\n",
    "\n",
    "avg_gross_rent = sfo_data.groupby('year').mean()\n",
    "avg_gross_rent.drop(['sale_price_sqr_foot','housing_units'], axis=1, inplace=True)\n",
    "\n",
    "# average sale price per square foot\n",
    "avg_sale_price = sfo_data.groupby('year').mean()\n",
    "avg_sale_price.drop(['gross_rent','housing_units'], axis=1, inplace=True)"
   ]
  },
  {
   "cell_type": "code",
   "execution_count": 10,
   "metadata": {},
   "outputs": [
    {
     "data": {
      "text/plain": [
       "Text(0.5, 0, 'Year')"
      ]
     },
     "execution_count": 10,
     "metadata": {},
     "output_type": "execute_result"
    },
    {
     "data": {
      "image/png": "[encoded data removed]",
      "text/plain": [
       "<Figure size 720x432 with 1 Axes>"
      ]
     },
     "metadata": {
      "needs_background": "light"
     },
     "output_type": "display_data"
    }
   ],
   "source": [
    "# Plot the Average Gross Rent per Year as a Line Chart \n",
    "# YOUR CODE HERE!\n",
    "\n",
    "rent_plot = avg_gross_rent.plot(title=\"Average Gross Rent in San Francisco\", figsize=(10,6))\n",
    "rent_plot.set_ylabel(\"Gross Rent\")\n",
    "rent_plot.set_xlabel('Year')"
   ]
  },
  {
   "cell_type": "markdown",
   "metadata": {},
   "source": [
    "### Average Sales Price per Year"
   ]
  },
  {
   "cell_type": "code",
   "execution_count": 11,
   "metadata": {},
   "outputs": [
    {
     "data": {
      "text/plain": [
       "Text(0.5, 0, 'Year')"
      ]
     },
     "execution_count": 11,
     "metadata": {},
     "output_type": "execute_result"
    },
    {
     "data": {
      "image/png": "[encoded data removed]",
      "text/plain": [
       "<Figure size 720x432 with 1 Axes>"
      ]
     },
     "metadata": {
      "needs_background": "light"
     },
     "output_type": "display_data"
    }
   ],
   "source": [
    "# Plot the Average Sales Price per Year as a line chart\n",
    "# YOUR CODE HERE!\n",
    "sale_plot = avg_sale_price.plot(title=\"Average Sale Price per Square Foot in San Francisco\", figsize=(10,6))\n",
    "sale_plot.set_ylabel(\"Avg Sale Price\")\n",
    "sale_plot.set_xlabel('Year')"
   ]
  },
  {
   "cell_type": "markdown",
   "metadata": {},
   "source": [
    "- - - "
   ]
  },
  {
   "cell_type": "markdown",
   "metadata": {},
   "source": [
    "## Average Prices by Neighborhood\n",
    "\n",
    "In this section, you will use hvplot to create an interactive visulization of the Average Prices with a dropdown selector for the neighborhood.\n",
    "\n",
    "Hint: It will be easier to create a new DataFrame from grouping the data and calculating the mean prices for each year and neighborhood"
   ]
  },
  {
   "cell_type": "code",
   "execution_count": 44,
   "metadata": {},
   "outputs": [
    {
     "data": {
      "text/html": [
       "<div>\n",
       "<style scoped>\n",
       "    .dataframe tbody tr th:only-of-type {\n",
       "        vertical-align: middle;\n",
       "    }\n",
       "\n",
       "    .dataframe tbody tr th {\n",
       "        vertical-align: top;\n",
       "    }\n",
       "\n",
       "    .dataframe thead th {\n",
       "        text-align: right;\n",
       "    }\n",
       "</style>\n",
       "<table border=\"1\" class=\"dataframe\">\n",
       "  <thead>\n",
       "    <tr style=\"text-align: right;\">\n",
       "      <th></th>\n",
       "      <th>year</th>\n",
       "      <th>neighborhood</th>\n",
       "      <th>sale_price_sqr_foot</th>\n",
       "    </tr>\n",
       "  </thead>\n",
       "  <tbody>\n",
       "    <tr>\n",
       "      <th>0</th>\n",
       "      <td>2010</td>\n",
       "      <td>Alamo Square</td>\n",
       "      <td>291.182945</td>\n",
       "    </tr>\n",
       "    <tr>\n",
       "      <th>1</th>\n",
       "      <td>2010</td>\n",
       "      <td>Anza Vista</td>\n",
       "      <td>267.932583</td>\n",
       "    </tr>\n",
       "    <tr>\n",
       "      <th>2</th>\n",
       "      <td>2010</td>\n",
       "      <td>Bayview</td>\n",
       "      <td>170.098665</td>\n",
       "    </tr>\n",
       "    <tr>\n",
       "      <th>3</th>\n",
       "      <td>2010</td>\n",
       "      <td>Buena Vista Park</td>\n",
       "      <td>347.394919</td>\n",
       "    </tr>\n",
       "    <tr>\n",
       "      <th>4</th>\n",
       "      <td>2010</td>\n",
       "      <td>Central Richmond</td>\n",
       "      <td>319.027623</td>\n",
       "    </tr>\n",
       "  </tbody>\n",
       "</table>\n",
       "</div>"
      ],
      "text/plain": [
       "   year      neighborhood  sale_price_sqr_foot\n",
       "0  2010      Alamo Square           291.182945\n",
       "1  2010        Anza Vista           267.932583\n",
       "2  2010           Bayview           170.098665\n",
       "3  2010  Buena Vista Park           347.394919\n",
       "4  2010  Central Richmond           319.027623"
      ]
     },
     "execution_count": 44,
     "metadata": {},
     "output_type": "execute_result"
    }
   ],
   "source": [
    "# Group by year and neighborhood and then create a new dataframe of the mean values\n",
    "# YOUR CODE HERE!\n",
    "avg_price_neighborhood = sfo_data.groupby(['year', 'neighborhood']).mean()\n",
    "avg_price_neighborhood.drop(['housing_units', 'gross_rent'], axis=1, inplace=True)\n",
    "avg_price_neighborhood_df = avg_price_neighborhood.reset_index()\n",
    "avg_price_neighborhood_df.head()"
   ]
  },
  {
   "cell_type": "code",
   "execution_count": 52,
   "metadata": {},
   "outputs": [
    {
     "data": {},
     "metadata": {},
     "output_type": "display_data"
    },
    {
     "data": {
      "application/vnd.holoviews_exec.v0+json": "",
      "text/html": [
       "<div id='10939'>\n",
       "\n",
       "\n",
       "\n",
       "\n",
       "\n",
       "  <div class=\"bk-root\" id=\"e8c23f2c-6a02-40a6-aab3-8d6f251edd2f\" data-root-id=\"10939\"></div>\n",
       "</div>\n",
       "<script type=\"application/javascript\">(function(root) {\n",
       "  function embed_document(root) {\n",
       "  var docs_json = {\"c46f892b-7451-4285-96d1-ad623abccabf\":{\"roots\":{\"references\":[{\"attributes\":{\"end\":2016.0,\"reset_end\":2016.0,\"reset_start\":2010.0,\"start\":2010.0,\"tags\":[[[\"year\",\"year\",null]]]},\"id\":\"10941\",\"type\":\"Range1d\"},{\"attributes\":{\"margin\":[5,5,5,5],\"name\":\"VSpacer135083\",\"sizing_mode\":\"stretch_height\"},\"id\":\"11004\",\"type\":\"Spacer\"},{\"attributes\":{\"margin\":[5,5,5,5],\"name\":\"VSpacer135084\",\"sizing_mode\":\"stretch_height\"},\"id\":\"11007\",\"type\":\"Spacer\"},{\"attributes\":{\"children\":[{\"id\":\"10940\"},{\"id\":\"10944\"},{\"id\":\"11002\"},{\"id\":\"11003\"}],\"margin\":[0,0,0,0],\"name\":\"Row135075\",\"tags\":[\"embedded\"]},\"id\":\"10939\",\"type\":\"Row\"},{\"attributes\":{\"margin\":[5,5,5,5],\"name\":\"HSpacer135087\",\"sizing_mode\":\"stretch_width\"},\"id\":\"11002\",\"type\":\"Spacer\"},{\"attributes\":{\"line_alpha\":0.1,\"line_color\":\"#1f77b3\",\"line_width\":2,\"x\":{\"field\":\"year\"},\"y\":{\"field\":\"sale_price_sqr_foot\"}},\"id\":\"10978\",\"type\":\"Line\"},{\"attributes\":{\"line_alpha\":0.2,\"line_color\":\"#1f77b3\",\"line_width\":2,\"x\":{\"field\":\"year\"},\"y\":{\"field\":\"sale_price_sqr_foot\"}},\"id\":\"10979\",\"type\":\"Line\"},{\"attributes\":{},\"id\":\"10984\",\"type\":\"BasicTickFormatter\"},{\"attributes\":{\"js_property_callbacks\":{\"change:value\":[{\"id\":\"11017\"}]},\"margin\":[20,20,20,20],\"min_width\":250,\"options\":[\"Alamo Square\",\"Anza Vista\",\"Bayview\",\"Bayview Heights\",\"Bernal Heights \",\"Buena Vista Park\",\"Central Richmond\",\"Central Sunset\",\"Clarendon Heights\",\"Corona Heights\",\"Cow Hollow\",\"Croker Amazon\",\"Diamond Heights\",\"Downtown \",\"Duboce Triangle\",\"Eureka Valley/Dolores Heights\",\"Excelsior\",\"Financial District North\",\"Financial District South\",\"Forest Knolls\",\"Glen Park\",\"Golden Gate Heights\",\"Haight Ashbury\",\"Hayes Valley\",\"Hunters Point\",\"Ingleside \",\"Ingleside Heights\",\"Inner Mission\",\"Inner Parkside\",\"Inner Richmond\",\"Inner Sunset\",\"Jordan Park/Laurel Heights\",\"Lake --The Presidio\",\"Lone Mountain\",\"Lower Pacific Heights\",\"Marina\",\"Merced Heights\",\"Midtown Terrace\",\"Miraloma Park\",\"Mission Bay\",\"Mission Dolores\",\"Mission Terrace\",\"Nob Hill\",\"Noe Valley\",\"North Beach\",\"North Waterfront\",\"Oceanview\",\"Outer Mission\",\"Outer Parkside\",\"Outer Richmond \",\"Outer Sunset\",\"Pacific Heights\",\"Park North\",\"Parkside\",\"Parnassus/Ashbury Heights\",\"Portola\",\"Potrero Hill\",\"Presidio Heights\",\"Russian Hill\",\"Silver Terrace\",\"South Beach\",\"South of Market\",\"Sunnyside\",\"Telegraph Hill\",\"Twin Peaks\",\"Union Square District\",\"Van Ness/ Civic Center\",\"Visitacion Valley\",\"West Portal\",\"Western Addition\",\"Westwood Highlands\",\"Westwood Park\",\"Yerba Buena\"],\"title\":\"neighborhood\",\"value\":\"Alamo Square\",\"width\":250},\"id\":\"11006\",\"type\":\"Select\"},{\"attributes\":{\"margin\":[5,5,5,5],\"name\":\"HSpacer135086\",\"sizing_mode\":\"stretch_width\"},\"id\":\"10940\",\"type\":\"Spacer\"},{\"attributes\":{\"source\":{\"id\":\"10974\"}},\"id\":\"10981\",\"type\":\"CDSView\"},{\"attributes\":{},\"id\":\"10961\",\"type\":\"SaveTool\"},{\"attributes\":{},\"id\":\"10963\",\"type\":\"WheelZoomTool\"},{\"attributes\":{\"code\":\"\\nvar state = null\\nfor (var root of cb_obj.document.roots()) {\\n  if (root.id == '11016') {\\n    state = root;\\n    break;\\n  }\\n}\\nif (!state) { return; }\\nstate.set_state(cb_obj, cb_obj.value)\\n\"},\"id\":\"11017\",\"type\":\"CustomJS\"},{\"attributes\":{\"axis_label\":\"Avg. Sale Price per Sqft\",\"bounds\":\"auto\",\"formatter\":{\"id\":\"10984\"},\"major_label_orientation\":\"horizontal\",\"ticker\":{\"id\":\"10958\"}},\"id\":\"10957\",\"type\":\"LinearAxis\"},{\"attributes\":{\"end\":644.0175329447045,\"reset_end\":644.0175329447045,\"reset_start\":141.1976609302527,\"start\":141.1976609302527,\"tags\":[[[\"sale_price_sqr_foot\",\"sale_price_sqr_foot\",null]]]},\"id\":\"10942\",\"type\":\"Range1d\"},{\"attributes\":{\"children\":[{\"id\":\"11004\"},{\"id\":\"11005\"},{\"id\":\"11007\"}],\"margin\":[0,0,0,0],\"name\":\"Column135085\"},\"id\":\"11003\",\"type\":\"Column\"},{\"attributes\":{\"text\":\"neighborhood: Alamo Square\",\"text_color\":{\"value\":\"black\"},\"text_font_size\":{\"value\":\"12pt\"}},\"id\":\"10945\",\"type\":\"Title\"},{\"attributes\":{},\"id\":\"10958\",\"type\":\"BasicTicker\"},{\"attributes\":{\"callback\":null,\"renderers\":[{\"id\":\"10980\"}],\"tags\":[\"hv_created\"],\"tooltips\":[[\"year\",\"@{year}\"],[\"sale_price_sqr_foot\",\"@{sale_price_sqr_foot}\"]]},\"id\":\"10943\",\"type\":\"HoverTool\"},{\"attributes\":{},\"id\":\"10954\",\"type\":\"BasicTicker\"},{\"attributes\":{},\"id\":\"10965\",\"type\":\"ResetTool\"},{\"attributes\":{\"align\":null,\"below\":[{\"id\":\"10953\"}],\"center\":[{\"id\":\"10956\"},{\"id\":\"10960\"}],\"left\":[{\"id\":\"10957\"}],\"margin\":null,\"min_border_bottom\":10,\"min_border_left\":10,\"min_border_right\":10,\"min_border_top\":10,\"plot_height\":300,\"plot_width\":700,\"renderers\":[{\"id\":\"10980\"}],\"sizing_mode\":\"fixed\",\"title\":{\"id\":\"10945\"},\"toolbar\":{\"id\":\"10967\"},\"x_range\":{\"id\":\"10941\"},\"x_scale\":{\"id\":\"10949\"},\"y_range\":{\"id\":\"10942\"},\"y_scale\":{\"id\":\"10951\"}},\"id\":\"10944\",\"subtype\":\"Figure\",\"type\":\"Plot\"},{\"attributes\":{\"axis_label\":\"year\",\"bounds\":\"auto\",\"formatter\":{\"id\":\"10982\"},\"major_label_orientation\":\"horizontal\",\"ticker\":{\"id\":\"10954\"}},\"id\":\"10953\",\"type\":\"LinearAxis\"},{\"attributes\":{\"overlay\":{\"id\":\"10966\"}},\"id\":\"10964\",\"type\":\"BoxZoomTool\"},{\"attributes\":{\"axis\":{\"id\":\"10953\"},\"grid_line_color\":null,\"ticker\":null},\"id\":\"10956\",\"type\":\"Grid\"},{\"attributes\":{\"data_source\":{\"id\":\"10974\"},\"glyph\":{\"id\":\"10977\"},\"hover_glyph\":null,\"muted_glyph\":{\"id\":\"10979\"},\"nonselection_glyph\":{\"id\":\"10978\"},\"selection_glyph\":null,\"view\":{\"id\":\"10981\"}},\"id\":\"10980\",\"type\":\"GlyphRenderer\"},{\"attributes\":{},\"id\":\"10951\",\"type\":\"LinearScale\"},{\"attributes\":{},\"id\":\"10982\",\"type\":\"BasicTickFormatter\"},{\"attributes\":{\"active_drag\":\"auto\",\"active_inspect\":\"auto\",\"active_multi\":null,\"active_scroll\":\"auto\",\"active_tap\":\"auto\",\"tools\":[{\"id\":\"10943\"},{\"id\":\"10961\"},{\"id\":\"10962\"},{\"id\":\"10963\"},{\"id\":\"10964\"},{\"id\":\"10965\"}]},\"id\":\"10967\",\"type\":\"Toolbar\"},{\"attributes\":{},\"id\":\"10975\",\"type\":\"Selection\"},{\"attributes\":{\"children\":[{\"id\":\"11006\"}],\"css_classes\":[\"widget-box\"],\"margin\":[5,5,5,5],\"name\":\"WidgetBox135076\"},\"id\":\"11005\",\"type\":\"Column\"},{\"attributes\":{},\"id\":\"11000\",\"type\":\"UnionRenderers\"},{\"attributes\":{\"axis\":{\"id\":\"10957\"},\"dimension\":1,\"grid_line_color\":null,\"ticker\":null},\"id\":\"10960\",\"type\":\"Grid\"},{\"attributes\":{},\"id\":\"10949\",\"type\":\"LinearScale\"},{\"attributes\":{\"state\":{\"Alamo Square\":{\"content\":\"{\\\"events\\\": [{\\\"attr\\\": \\\"start\\\", \\\"kind\\\": \\\"ModelChanged\\\", \\\"model\\\": {\\\"id\\\": \\\"10942\\\"}, \\\"new\\\": 141.1976609302527}, {\\\"attr\\\": \\\"reset_start\\\", \\\"kind\\\": \\\"ModelChanged\\\", \\\"model\\\": {\\\"id\\\": \\\"10942\\\"}, \\\"new\\\": 141.1976609302527}, {\\\"attr\\\": \\\"end\\\", \\\"kind\\\": \\\"ModelChanged\\\", \\\"model\\\": {\\\"id\\\": \\\"10942\\\"}, \\\"new\\\": 644.0175329447045}, {\\\"attr\\\": \\\"reset_end\\\", \\\"kind\\\": \\\"ModelChanged\\\", \\\"model\\\": {\\\"id\\\": \\\"10942\\\"}, \\\"new\\\": 644.0175329447045}, {\\\"attr\\\": \\\"text\\\", \\\"kind\\\": \\\"ModelChanged\\\", \\\"model\\\": {\\\"id\\\": \\\"10945\\\"}, \\\"new\\\": \\\"neighborhood: Alamo Square\\\"}, {\\\"cols\\\": null, \\\"column_source\\\": {\\\"id\\\": \\\"10974\\\"}, \\\"kind\\\": \\\"ColumnDataChanged\\\", \\\"new\\\": {\\\"sale_price_sqr_foot\\\": {\\\"__ndarray__\\\": \\\"Dkc7WO0yckCafszcbwhxQIGRs5ot42ZAJzog0LQ8eEAWMinKGEd+QI0V5FDt0IJAVCHcmLVPdUA=\\\", \\\"dtype\\\": \\\"float64\\\", \\\"shape\\\": [7]}, \\\"year\\\": [2010, 2011, 2012, 2013, 2014, 2015, 2016]}}], \\\"references\\\": []}\",\"header\":\"{\\\"msgid\\\": \\\"11398\\\", \\\"msgtype\\\": \\\"PATCH-DOC\\\"}\",\"metadata\":\"{}\"},\"Anza Vista\":{\"content\":\"{\\\"events\\\": [{\\\"attr\\\": \\\"end\\\", \\\"kind\\\": \\\"ModelChanged\\\", \\\"model\\\": {\\\"id\\\": \\\"10941\\\"}, \\\"new\\\": 2016.0}, {\\\"attr\\\": \\\"reset_end\\\", \\\"kind\\\": \\\"ModelChanged\\\", \\\"model\\\": {\\\"id\\\": \\\"10941\\\"}, \\\"new\\\": 2016.0}, {\\\"attr\\\": \\\"start\\\", \\\"kind\\\": \\\"ModelChanged\\\", \\\"model\\\": {\\\"id\\\": \\\"10942\\\"}, \\\"new\\\": 35.19752138501505}, {\\\"attr\\\": \\\"reset_start\\\", \\\"kind\\\": \\\"ModelChanged\\\", \\\"model\\\": {\\\"id\\\": \\\"10942\\\"}, \\\"new\\\": 35.19752138501505}, {\\\"attr\\\": \\\"end\\\", \\\"kind\\\": \\\"ModelChanged\\\", \\\"model\\\": {\\\"id\\\": \\\"10942\\\"}, \\\"new\\\": 673.6453961176034}, {\\\"attr\\\": \\\"reset_end\\\", \\\"kind\\\": \\\"ModelChanged\\\", \\\"model\\\": {\\\"id\\\": \\\"10942\\\"}, \\\"new\\\": 673.6453961176034}, {\\\"attr\\\": \\\"text\\\", \\\"kind\\\": \\\"ModelChanged\\\", \\\"model\\\": {\\\"id\\\": \\\"10945\\\"}, \\\"new\\\": \\\"neighborhood: Anza Vista\\\"}, {\\\"cols\\\": null, \\\"column_source\\\": {\\\"id\\\": \\\"10974\\\"}, \\\"kind\\\": \\\"ColumnDataChanged\\\", \\\"new\\\": {\\\"sale_price_sqr_foot\\\": {\\\"__ndarray__\\\": \\\"G/PQ2+u+cEATzZrI2od1QB4UWK5yVXxAICUpAIhjg0D6+vr6+hp9QDOV91qyGVZA\\\", \\\"dtype\\\": \\\"float64\\\", \\\"shape\\\": [6]}, \\\"year\\\": [2010, 2012, 2013, 2014, 2015, 2016]}}], \\\"references\\\": []}\",\"header\":\"{\\\"msgid\\\": \\\"11393\\\", \\\"msgtype\\\": \\\"PATCH-DOC\\\"}\",\"metadata\":\"{}\"},\"Bayview\":{\"content\":\"{\\\"events\\\": [{\\\"attr\\\": \\\"start\\\", \\\"kind\\\": \\\"ModelChanged\\\", \\\"model\\\": {\\\"id\\\": \\\"10941\\\"}, \\\"new\\\": 2010.0}, {\\\"attr\\\": \\\"reset_start\\\", \\\"kind\\\": \\\"ModelChanged\\\", \\\"model\\\": {\\\"id\\\": \\\"10941\\\"}, \\\"new\\\": 2010.0}, {\\\"attr\\\": \\\"end\\\", \\\"kind\\\": \\\"ModelChanged\\\", \\\"model\\\": {\\\"id\\\": \\\"10941\\\"}, \\\"new\\\": 2014.0}, {\\\"attr\\\": \\\"reset_end\\\", \\\"kind\\\": \\\"ModelChanged\\\", \\\"model\\\": {\\\"id\\\": \\\"10941\\\"}, \\\"new\\\": 2014.0}, {\\\"attr\\\": \\\"start\\\", \\\"kind\\\": \\\"ModelChanged\\\", \\\"model\\\": {\\\"id\\\": \\\"10942\\\"}, \\\"new\\\": 156.42315237151172}, {\\\"attr\\\": \\\"reset_start\\\", \\\"kind\\\": \\\"ModelChanged\\\", \\\"model\\\": {\\\"id\\\": \\\"10942\\\"}, \\\"new\\\": 156.42315237151172}, {\\\"attr\\\": \\\"end\\\", \\\"kind\\\": \\\"ModelChanged\\\", \\\"model\\\": {\\\"id\\\": \\\"10942\\\"}, \\\"new\\\": 268.92207261322307}, {\\\"attr\\\": \\\"reset_end\\\", \\\"kind\\\": \\\"ModelChanged\\\", \\\"model\\\": {\\\"id\\\": \\\"10942\\\"}, \\\"new\\\": 268.92207261322307}, {\\\"attr\\\": \\\"text\\\", \\\"kind\\\": \\\"ModelChanged\\\", \\\"model\\\": {\\\"id\\\": \\\"10945\\\"}, \\\"new\\\": \\\"neighborhood: Bayview\\\"}, {\\\"cols\\\": null, \\\"column_source\\\": {\\\"id\\\": \\\"10974\\\"}, \\\"kind\\\": \\\"ColumnDataChanged\\\", \\\"new\\\": {\\\"sale_price_sqr_foot\\\": {\\\"__ndarray__\\\": \\\"PPRDRChDZUAQP5VJTJFlQFUKJLqJuWRAAC6QLcE4cEBWESlbrd5vQA==\\\", \\\"dtype\\\": \\\"float64\\\", \\\"shape\\\": [5]}, \\\"year\\\": [2010, 2011, 2012, 2013, 2014]}}], \\\"references\\\": []}\",\"header\":\"{\\\"msgid\\\": \\\"11388\\\", \\\"msgtype\\\": \\\"PATCH-DOC\\\"}\",\"metadata\":\"{}\"},\"Bayview Heights\":{\"content\":\"{\\\"events\\\": [{\\\"attr\\\": \\\"start\\\", \\\"kind\\\": \\\"ModelChanged\\\", \\\"model\\\": {\\\"id\\\": \\\"10941\\\"}, \\\"new\\\": 2014.0}, {\\\"attr\\\": \\\"reset_start\\\", \\\"kind\\\": \\\"ModelChanged\\\", \\\"model\\\": {\\\"id\\\": \\\"10941\\\"}, \\\"new\\\": 2014.0}, {\\\"attr\\\": \\\"start\\\", \\\"kind\\\": \\\"ModelChanged\\\", \\\"model\\\": {\\\"id\\\": \\\"10942\\\"}, \\\"new\\\": 589.5928388746802}, {\\\"attr\\\": \\\"reset_start\\\", \\\"kind\\\": \\\"ModelChanged\\\", \\\"model\\\": {\\\"id\\\": \\\"10942\\\"}, \\\"new\\\": 589.5928388746802}, {\\\"attr\\\": \\\"end\\\", \\\"kind\\\": \\\"ModelChanged\\\", \\\"model\\\": {\\\"id\\\": \\\"10942\\\"}, \\\"new\\\": 591.9928388746803}, {\\\"attr\\\": \\\"reset_end\\\", \\\"kind\\\": \\\"ModelChanged\\\", \\\"model\\\": {\\\"id\\\": \\\"10942\\\"}, \\\"new\\\": 591.9928388746803}, {\\\"attr\\\": \\\"text\\\", \\\"kind\\\": \\\"ModelChanged\\\", \\\"model\\\": {\\\"id\\\": \\\"10945\\\"}, \\\"new\\\": \\\"neighborhood: Bayview Heights\\\"}, {\\\"cols\\\": null, \\\"column_source\\\": {\\\"id\\\": \\\"10974\\\"}, \\\"kind\\\": \\\"ColumnDataChanged\\\", \\\"new\\\": {\\\"sale_price_sqr_foot\\\": {\\\"__ndarray__\\\": \\\"/m3ou1d2gkA=\\\", \\\"dtype\\\": \\\"float64\\\", \\\"shape\\\": [1]}, \\\"year\\\": [2015]}}], \\\"references\\\": []}\",\"header\":\"{\\\"msgid\\\": \\\"11383\\\", \\\"msgtype\\\": \\\"PATCH-DOC\\\"}\",\"metadata\":\"{}\"},\"Bernal Heights \":{\"content\":\"{\\\"events\\\": [{\\\"attr\\\": \\\"start\\\", \\\"kind\\\": \\\"ModelChanged\\\", \\\"model\\\": {\\\"id\\\": \\\"10941\\\"}, \\\"new\\\": 2011.0}, {\\\"attr\\\": \\\"reset_start\\\", \\\"kind\\\": \\\"ModelChanged\\\", \\\"model\\\": {\\\"id\\\": \\\"10941\\\"}, \\\"new\\\": 2011.0}, {\\\"attr\\\": \\\"start\\\", \\\"kind\\\": \\\"ModelChanged\\\", \\\"model\\\": {\\\"id\\\": \\\"10942\\\"}, \\\"new\\\": 306.40900634090787}, {\\\"attr\\\": \\\"reset_start\\\", \\\"kind\\\": \\\"ModelChanged\\\", \\\"model\\\": {\\\"id\\\": \\\"10942\\\"}, \\\"new\\\": 306.40900634090787}, {\\\"attr\\\": \\\"end\\\", \\\"kind\\\": \\\"ModelChanged\\\", \\\"model\\\": {\\\"id\\\": \\\"10942\\\"}, \\\"new\\\": 1048.6996597106352}, {\\\"attr\\\": \\\"reset_end\\\", \\\"kind\\\": \\\"ModelChanged\\\", \\\"model\\\": {\\\"id\\\": \\\"10942\\\"}, \\\"new\\\": 1048.6996597106352}, {\\\"attr\\\": \\\"text\\\", \\\"kind\\\": \\\"ModelChanged\\\", \\\"model\\\": {\\\"id\\\": \\\"10945\\\"}, \\\"new\\\": \\\"neighborhood: Bernal Heights\\\"}, {\\\"cols\\\": null, \\\"column_source\\\": {\\\"id\\\": \\\"10974\\\"}, \\\"kind\\\": \\\"ColumnDataChanged\\\", \\\"new\\\": {\\\"sale_price_sqr_foot\\\": {\\\"__ndarray__\\\": \\\"HjEmar9+fUAqyD7VQwR3QCfG9awtt4NAqiUgHGAEgUB/Ui+cEaB8QGwor6G81o5A\\\", \\\"dtype\\\": \\\"float64\\\", \\\"shape\\\": [6]}, \\\"year\\\": [2011, 2012, 2013, 2014, 2015, 2016]}}], \\\"references\\\": []}\",\"header\":\"{\\\"msgid\\\": \\\"11378\\\", \\\"msgtype\\\": \\\"PATCH-DOC\\\"}\",\"metadata\":\"{}\"},\"Buena Vista Park\":{\"content\":\"{\\\"events\\\": [{\\\"attr\\\": \\\"start\\\", \\\"kind\\\": \\\"ModelChanged\\\", \\\"model\\\": {\\\"id\\\": \\\"10942\\\"}, \\\"new\\\": 103.80944082033817}, {\\\"attr\\\": \\\"reset_start\\\", \\\"kind\\\": \\\"ModelChanged\\\", \\\"model\\\": {\\\"id\\\": \\\"10942\\\"}, \\\"new\\\": 103.80944082033817}, {\\\"attr\\\": \\\"end\\\", \\\"kind\\\": \\\"ModelChanged\\\", \\\"model\\\": {\\\"id\\\": \\\"10942\\\"}, \\\"new\\\": 919.3643112155331}, {\\\"attr\\\": \\\"reset_end\\\", \\\"kind\\\": \\\"ModelChanged\\\", \\\"model\\\": {\\\"id\\\": \\\"10942\\\"}, \\\"new\\\": 919.3643112155331}, {\\\"attr\\\": \\\"text\\\", \\\"kind\\\": \\\"ModelChanged\\\", \\\"model\\\": {\\\"id\\\": \\\"10945\\\"}, \\\"new\\\": \\\"neighborhood: Buena Vista Park\\\"}, {\\\"cols\\\": null, \\\"column_source\\\": {\\\"id\\\": \\\"10974\\\"}, \\\"kind\\\": \\\"ColumnDataChanged\\\", \\\"new\\\": {\\\"sale_price_sqr_foot\\\": {\\\"__ndarray__\\\": \\\"8TcCl1G2dUB6BGYQt3hlQNMPoV2eKXVAK46qSn1zfEA6NDCikD2BQFP8ARQ2m4pA\\\", \\\"dtype\\\": \\\"float64\\\", \\\"shape\\\": [6]}, \\\"year\\\": [2010, 2011, 2012, 2013, 2015, 2016]}}], \\\"references\\\": []}\",\"header\":\"{\\\"msgid\\\": \\\"11373\\\", \\\"msgtype\\\": \\\"PATCH-DOC\\\"}\",\"metadata\":\"{}\"},\"Central Richmond\":{\"content\":\"{\\\"events\\\": [{\\\"attr\\\": \\\"start\\\", \\\"kind\\\": \\\"ModelChanged\\\", \\\"model\\\": {\\\"id\\\": \\\"10942\\\"}, \\\"new\\\": 221.72373779878612}, {\\\"attr\\\": \\\"reset_start\\\", \\\"kind\\\": \\\"ModelChanged\\\", \\\"model\\\": {\\\"id\\\": \\\"10942\\\"}, \\\"new\\\": 221.72373779878612}, {\\\"attr\\\": \\\"end\\\", \\\"kind\\\": \\\"ModelChanged\\\", \\\"model\\\": {\\\"id\\\": \\\"10942\\\"}, \\\"new\\\": 701.004488313174}, {\\\"attr\\\": \\\"reset_end\\\", \\\"kind\\\": \\\"ModelChanged\\\", \\\"model\\\": {\\\"id\\\": \\\"10942\\\"}, \\\"new\\\": 701.004488313174}, {\\\"attr\\\": \\\"text\\\", \\\"kind\\\": \\\"ModelChanged\\\", \\\"model\\\": {\\\"id\\\": \\\"10945\\\"}, \\\"new\\\": \\\"neighborhood: Central Richmond\\\"}, {\\\"cols\\\": null, \\\"column_source\\\": {\\\"id\\\": \\\"10974\\\"}, \\\"kind\\\": \\\"ColumnDataChanged\\\", \\\"new\\\": {\\\"sale_price_sqr_foot\\\": {\\\"__ndarray__\\\": \\\"/qBYJHHwc0B9ZxvtnlpwQB+s/3N7cHFAjxvCQN5wdUCCLplePn96QG3yb/yekn1A84Oo8YOohEA=\\\", \\\"dtype\\\": \\\"float64\\\", \\\"shape\\\": [7]}, \\\"year\\\": [2010, 2011, 2012, 2013, 2014, 2015, 2016]}}], \\\"references\\\": []}\",\"header\":\"{\\\"msgid\\\": \\\"11368\\\", \\\"msgtype\\\": \\\"PATCH-DOC\\\"}\",\"metadata\":\"{}\"},\"Central Sunset\":{\"content\":\"{\\\"events\\\": [{\\\"attr\\\": \\\"start\\\", \\\"kind\\\": \\\"ModelChanged\\\", \\\"model\\\": {\\\"id\\\": \\\"10941\\\"}, \\\"new\\\": 2010.0}, {\\\"attr\\\": \\\"reset_start\\\", \\\"kind\\\": \\\"ModelChanged\\\", \\\"model\\\": {\\\"id\\\": \\\"10941\\\"}, \\\"new\\\": 2010.0}, {\\\"attr\\\": \\\"end\\\", \\\"kind\\\": \\\"ModelChanged\\\", \\\"model\\\": {\\\"id\\\": \\\"10941\\\"}, \\\"new\\\": 2016.0}, {\\\"attr\\\": \\\"reset_end\\\", \\\"kind\\\": \\\"ModelChanged\\\", \\\"model\\\": {\\\"id\\\": \\\"10941\\\"}, \\\"new\\\": 2016.0}, {\\\"attr\\\": \\\"start\\\", \\\"kind\\\": \\\"ModelChanged\\\", \\\"model\\\": {\\\"id\\\": \\\"10942\\\"}, \\\"new\\\": 305.6729866138623}, {\\\"attr\\\": \\\"reset_start\\\", \\\"kind\\\": \\\"ModelChanged\\\", \\\"model\\\": {\\\"id\\\": \\\"10942\\\"}, \\\"new\\\": 305.6729866138623}, {\\\"attr\\\": \\\"end\\\", \\\"kind\\\": \\\"ModelChanged\\\", \\\"model\\\": {\\\"id\\\": \\\"10942\\\"}, \\\"new\\\": 606.4343194777864}, {\\\"attr\\\": \\\"reset_end\\\", \\\"kind\\\": \\\"ModelChanged\\\", \\\"model\\\": {\\\"id\\\": \\\"10942\\\"}, \\\"new\\\": 606.4343194777864}, {\\\"attr\\\": \\\"text\\\", \\\"kind\\\": \\\"ModelChanged\\\", \\\"model\\\": {\\\"id\\\": \\\"10945\\\"}, \\\"new\\\": \\\"neighborhood: Central Sunset\\\"}, {\\\"cols\\\": null, \\\"column_source\\\": {\\\"id\\\": \\\"10974\\\"}, \\\"kind\\\": \\\"ColumnDataChanged\\\", \\\"new\\\": {\\\"sale_price_sqr_foot\\\": {\\\"__ndarray__\\\": \\\"Bv22h8IiekAzufO80nZ4QOlValPO53RA2XLka8irdEAWLPo234N8QKwFse0RVnxA65hZjfcqgkA=\\\", \\\"dtype\\\": \\\"float64\\\", \\\"shape\\\": [7]}, \\\"year\\\": [2010, 2011, 2012, 2013, 2014, 2015, 2016]}}], \\\"references\\\": []}\",\"header\":\"{\\\"msgid\\\": \\\"11363\\\", \\\"msgtype\\\": \\\"PATCH-DOC\\\"}\",\"metadata\":\"{}\"},\"Clarendon Heights\":{\"content\":\"{\\\"events\\\": [{\\\"attr\\\": \\\"start\\\", \\\"kind\\\": \\\"ModelChanged\\\", \\\"model\\\": {\\\"id\\\": \\\"10941\\\"}, \\\"new\\\": 2011.0}, {\\\"attr\\\": \\\"reset_start\\\", \\\"kind\\\": \\\"ModelChanged\\\", \\\"model\\\": {\\\"id\\\": \\\"10941\\\"}, \\\"new\\\": 2011.0}, {\\\"attr\\\": \\\"end\\\", \\\"kind\\\": \\\"ModelChanged\\\", \\\"model\\\": {\\\"id\\\": \\\"10941\\\"}, \\\"new\\\": 2013.0}, {\\\"attr\\\": \\\"reset_end\\\", \\\"kind\\\": \\\"ModelChanged\\\", \\\"model\\\": {\\\"id\\\": \\\"10941\\\"}, \\\"new\\\": 2013.0}, {\\\"attr\\\": \\\"start\\\", \\\"kind\\\": \\\"ModelChanged\\\", \\\"model\\\": {\\\"id\\\": \\\"10942\\\"}, \\\"new\\\": 447.076948221115}, {\\\"attr\\\": \\\"reset_start\\\", \\\"kind\\\": \\\"ModelChanged\\\", \\\"model\\\": {\\\"id\\\": \\\"10942\\\"}, \\\"new\\\": 447.076948221115}, {\\\"attr\\\": \\\"end\\\", \\\"kind\\\": \\\"ModelChanged\\\", \\\"model\\\": {\\\"id\\\": \\\"10942\\\"}, \\\"new\\\": 527.4128238314}, {\\\"attr\\\": \\\"reset_end\\\", \\\"kind\\\": \\\"ModelChanged\\\", \\\"model\\\": {\\\"id\\\": \\\"10942\\\"}, \\\"new\\\": 527.4128238314}, {\\\"attr\\\": \\\"text\\\", \\\"kind\\\": \\\"ModelChanged\\\", \\\"model\\\": {\\\"id\\\": \\\"10945\\\"}, \\\"new\\\": \\\"neighborhood: Clarendon Heights\\\"}, {\\\"cols\\\": null, \\\"column_source\\\": {\\\"id\\\": \\\"10974\\\"}, \\\"kind\\\": \\\"ColumnDataChanged\\\", \\\"new\\\": {\\\"sale_price_sqr_foot\\\": {\\\"__ndarray__\\\": \\\"2UWezr5FgEAOtft9WFx8QA==\\\", \\\"dtype\\\": \\\"float64\\\", \\\"shape\\\": [2]}, \\\"year\\\": [2011, 2013]}}], \\\"references\\\": []}\",\"header\":\"{\\\"msgid\\\": \\\"11358\\\", \\\"msgtype\\\": \\\"PATCH-DOC\\\"}\",\"metadata\":\"{}\"},\"Corona Heights\":{\"content\":\"{\\\"events\\\": [{\\\"attr\\\": \\\"end\\\", \\\"kind\\\": \\\"ModelChanged\\\", \\\"model\\\": {\\\"id\\\": \\\"10941\\\"}, \\\"new\\\": 2015.0}, {\\\"attr\\\": \\\"reset_end\\\", \\\"kind\\\": \\\"ModelChanged\\\", \\\"model\\\": {\\\"id\\\": \\\"10941\\\"}, \\\"new\\\": 2015.0}, {\\\"attr\\\": \\\"start\\\", \\\"kind\\\": \\\"ModelChanged\\\", \\\"model\\\": {\\\"id\\\": \\\"10942\\\"}, \\\"new\\\": 134.74551348542053}, {\\\"attr\\\": \\\"reset_start\\\", \\\"kind\\\": \\\"ModelChanged\\\", \\\"model\\\": {\\\"id\\\": \\\"10942\\\"}, \\\"new\\\": 134.74551348542053}, {\\\"attr\\\": \\\"end\\\", \\\"kind\\\": \\\"ModelChanged\\\", \\\"model\\\": {\\\"id\\\": \\\"10942\\\"}, \\\"new\\\": 1188.6135282327261}, {\\\"attr\\\": \\\"reset_end\\\", \\\"kind\\\": \\\"ModelChanged\\\", \\\"model\\\": {\\\"id\\\": \\\"10942\\\"}, \\\"new\\\": 1188.6135282327261}, {\\\"attr\\\": \\\"text\\\", \\\"kind\\\": \\\"ModelChanged\\\", \\\"model\\\": {\\\"id\\\": \\\"10945\\\"}, \\\"new\\\": \\\"neighborhood: Corona Heights\\\"}, {\\\"cols\\\": null, \\\"column_source\\\": {\\\"id\\\": \\\"10974\\\"}, \\\"kind\\\": \\\"ColumnDataChanged\\\", \\\"new\\\": {\\\"sale_price_sqr_foot\\\": {\\\"__ndarray__\\\": \\\"of802b8Vd0B1PqvPK9JrQGuzdI63THZAEx6pB3XBi0CNbawuKjORQA==\\\", \\\"dtype\\\": \\\"float64\\\", \\\"shape\\\": [5]}, \\\"year\\\": [2010, 2011, 2012, 2014, 2015]}}], \\\"references\\\": []}\",\"header\":\"{\\\"msgid\\\": \\\"11353\\\", \\\"msgtype\\\": \\\"PATCH-DOC\\\"}\",\"metadata\":\"{}\"},\"Cow Hollow\":{\"content\":\"{\\\"events\\\": [{\\\"attr\\\": \\\"start\\\", \\\"kind\\\": \\\"ModelChanged\\\", \\\"model\\\": {\\\"id\\\": \\\"10942\\\"}, \\\"new\\\": 323.7486581763337}, {\\\"attr\\\": \\\"reset_start\\\", \\\"kind\\\": \\\"ModelChanged\\\", \\\"model\\\": {\\\"id\\\": \\\"10942\\\"}, \\\"new\\\": 323.7486581763337}, {\\\"attr\\\": \\\"end\\\", \\\"kind\\\": \\\"ModelChanged\\\", \\\"model\\\": {\\\"id\\\": \\\"10942\\\"}, \\\"new\\\": 1125.9125964013463}, {\\\"attr\\\": \\\"reset_end\\\", \\\"kind\\\": \\\"ModelChanged\\\", \\\"model\\\": {\\\"id\\\": \\\"10942\\\"}, \\\"new\\\": 1125.9125964013463}, {\\\"attr\\\": \\\"text\\\", \\\"kind\\\": \\\"ModelChanged\\\", \\\"model\\\": {\\\"id\\\": \\\"10945\\\"}, \\\"new\\\": \\\"neighborhood: Cow Hollow\\\"}, {\\\"cols\\\": null, \\\"column_source\\\": {\\\"id\\\": \\\"10974\\\"}, \\\"kind\\\": \\\"ColumnDataChanged\\\", \\\"new\\\": {\\\"sale_price_sqr_foot\\\": {\\\"__ndarray__\\\": \\\"LMKfLArLgUAbTXjLh2l4QAnYXuSLJoRAMODd8zgbhkCYJdtc7J6FQJ+1dd72tIJAlnINLUOMkEA=\\\", \\\"dtype\\\": \\\"float64\\\", \\\"shape\\\": [7]}, \\\"year\\\": [2010, 2011, 2012, 2013, 2014, 2015, 2016]}}], \\\"references\\\": []}\",\"header\":\"{\\\"msgid\\\": \\\"11348\\\", \\\"msgtype\\\": \\\"PATCH-DOC\\\"}\",\"metadata\":\"{}\"},\"Croker Amazon\":{\"content\":\"{\\\"events\\\": [{\\\"attr\\\": \\\"end\\\", \\\"kind\\\": \\\"ModelChanged\\\", \\\"model\\\": {\\\"id\\\": \\\"10941\\\"}, \\\"new\\\": 2016.0}, {\\\"attr\\\": \\\"reset_end\\\", \\\"kind\\\": \\\"ModelChanged\\\", \\\"model\\\": {\\\"id\\\": \\\"10941\\\"}, \\\"new\\\": 2016.0}, {\\\"attr\\\": \\\"start\\\", \\\"kind\\\": \\\"ModelChanged\\\", \\\"model\\\": {\\\"id\\\": \\\"10942\\\"}, \\\"new\\\": 103.76860070011341}, {\\\"attr\\\": \\\"reset_start\\\", \\\"kind\\\": \\\"ModelChanged\\\", \\\"model\\\": {\\\"id\\\": \\\"10942\\\"}, \\\"new\\\": 103.76860070011341}, {\\\"attr\\\": \\\"end\\\", \\\"kind\\\": \\\"ModelChanged\\\", \\\"model\\\": {\\\"id\\\": \\\"10942\\\"}, \\\"new\\\": 608.7859556100437}, {\\\"attr\\\": \\\"reset_end\\\", \\\"kind\\\": \\\"ModelChanged\\\", \\\"model\\\": {\\\"id\\\": \\\"10942\\\"}, \\\"new\\\": 608.7859556100437}, {\\\"attr\\\": \\\"text\\\", \\\"kind\\\": \\\"ModelChanged\\\", \\\"model\\\": {\\\"id\\\": \\\"10945\\\"}, \\\"new\\\": \\\"neighborhood: Croker Amazon\\\"}, {\\\"cols\\\": null, \\\"column_source\\\": {\\\"id\\\": \\\"10974\\\"}, \\\"kind\\\": \\\"ColumnDataChanged\\\", \\\"new\\\": {\\\"sale_price_sqr_foot\\\": {\\\"__ndarray__\\\": \\\"4fEY0qm0ZED4BifkTjtiQGWBeAhy8XlAM4U057Tja0B+YXb65dlyQJU9LgKctYFA\\\", \\\"dtype\\\": \\\"float64\\\", \\\"shape\\\": [6]}, \\\"year\\\": [2010, 2011, 2012, 2013, 2015, 2016]}}], \\\"references\\\": []}\",\"header\":\"{\\\"msgid\\\": \\\"11343\\\", \\\"msgtype\\\": \\\"PATCH-DOC\\\"}\",\"metadata\":\"{}\"},\"Diamond Heights\":{\"content\":\"{\\\"events\\\": [{\\\"attr\\\": \\\"end\\\", \\\"kind\\\": \\\"ModelChanged\\\", \\\"model\\\": {\\\"id\\\": \\\"10941\\\"}, \\\"new\\\": 2013.0}, {\\\"attr\\\": \\\"reset_end\\\", \\\"kind\\\": \\\"ModelChanged\\\", \\\"model\\\": {\\\"id\\\": \\\"10941\\\"}, \\\"new\\\": 2013.0}, {\\\"attr\\\": \\\"start\\\", \\\"kind\\\": \\\"ModelChanged\\\", \\\"model\\\": {\\\"id\\\": \\\"10942\\\"}, \\\"new\\\": 350.32612556163474}, {\\\"attr\\\": \\\"reset_start\\\", \\\"kind\\\": \\\"ModelChanged\\\", \\\"model\\\": {\\\"id\\\": \\\"10942\\\"}, \\\"new\\\": 350.32612556163474}, {\\\"attr\\\": \\\"end\\\", \\\"kind\\\": \\\"ModelChanged\\\", \\\"model\\\": {\\\"id\\\": \\\"10942\\\"}, \\\"new\\\": 550.3577489572901}, {\\\"attr\\\": \\\"reset_end\\\", \\\"kind\\\": \\\"ModelChanged\\\", \\\"model\\\": {\\\"id\\\": \\\"10942\\\"}, \\\"new\\\": 550.3577489572901}, {\\\"attr\\\": \\\"text\\\", \\\"kind\\\": \\\"ModelChanged\\\", \\\"model\\\": {\\\"id\\\": \\\"10945\\\"}, \\\"new\\\": \\\"neighborhood: Diamond Heights\\\"}, {\\\"cols\\\": null, \\\"column_source\\\": {\\\"id\\\": \\\"10974\\\"}, \\\"kind\\\": \\\"ColumnDataChanged\\\", \\\"new\\\": {\\\"sale_price_sqr_foot\\\": {\\\"__ndarray__\\\": \\\"CCbRpeSOfECTXH/couV3QEfnZUXt73ZAKTeB8IGtgEA=\\\", \\\"dtype\\\": \\\"float64\\\", \\\"shape\\\": [4]}, \\\"year\\\": [2010, 2011, 2012, 2013]}}], \\\"references\\\": []}\",\"header\":\"{\\\"msgid\\\": \\\"11338\\\", \\\"msgtype\\\": \\\"PATCH-DOC\\\"}\",\"metadata\":\"{}\"},\"Downtown \":{\"content\":\"{\\\"events\\\": [{\\\"attr\\\": \\\"start\\\", \\\"kind\\\": \\\"ModelChanged\\\", \\\"model\\\": {\\\"id\\\": \\\"10941\\\"}, \\\"new\\\": 2010.0}, {\\\"attr\\\": \\\"reset_start\\\", \\\"kind\\\": \\\"ModelChanged\\\", \\\"model\\\": {\\\"id\\\": \\\"10941\\\"}, \\\"new\\\": 2010.0}, {\\\"attr\\\": \\\"end\\\", \\\"kind\\\": \\\"ModelChanged\\\", \\\"model\\\": {\\\"id\\\": \\\"10941\\\"}, \\\"new\\\": 2016.0}, {\\\"attr\\\": \\\"reset_end\\\", \\\"kind\\\": \\\"ModelChanged\\\", \\\"model\\\": {\\\"id\\\": \\\"10941\\\"}, \\\"new\\\": 2016.0}, {\\\"attr\\\": \\\"start\\\", \\\"kind\\\": \\\"ModelChanged\\\", \\\"model\\\": {\\\"id\\\": \\\"10942\\\"}, \\\"new\\\": 185.8321028868664}, {\\\"attr\\\": \\\"reset_start\\\", \\\"kind\\\": \\\"ModelChanged\\\", \\\"model\\\": {\\\"id\\\": \\\"10942\\\"}, \\\"new\\\": 185.8321028868664}, {\\\"attr\\\": \\\"end\\\", \\\"kind\\\": \\\"ModelChanged\\\", \\\"model\\\": {\\\"id\\\": \\\"10942\\\"}, \\\"new\\\": 767.2263503687225}, {\\\"attr\\\": \\\"reset_end\\\", \\\"kind\\\": \\\"ModelChanged\\\", \\\"model\\\": {\\\"id\\\": \\\"10942\\\"}, \\\"new\\\": 767.2263503687225}, {\\\"attr\\\": \\\"text\\\", \\\"kind\\\": \\\"ModelChanged\\\", \\\"model\\\": {\\\"id\\\": \\\"10945\\\"}, \\\"new\\\": \\\"neighborhood: Downtown\\\"}, {\\\"cols\\\": null, \\\"column_source\\\": {\\\"id\\\": \\\"10974\\\"}, \\\"kind\\\": \\\"ColumnDataChanged\\\", \\\"new\\\": {\\\"sale_price_sqr_foot\\\": {\\\"__ndarray__\\\": \\\"6c744745bkA52E4PA0ltQGAISaHA0XBArpUZa0aXdkCJO7vgn8t6QBz07a4wXn5AvXKD8jZ2hkA=\\\", \\\"dtype\\\": \\\"float64\\\", \\\"shape\\\": [7]}, \\\"year\\\": [2010, 2011, 2012, 2013, 2014, 2015, 2016]}}], \\\"references\\\": []}\",\"header\":\"{\\\"msgid\\\": \\\"11333\\\", \\\"msgtype\\\": \\\"PATCH-DOC\\\"}\",\"metadata\":\"{}\"},\"Duboce Triangle\":{\"content\":\"{\\\"events\\\": [{\\\"attr\\\": \\\"start\\\", \\\"kind\\\": \\\"ModelChanged\\\", \\\"model\\\": {\\\"id\\\": \\\"10941\\\"}, \\\"new\\\": 2011.0}, {\\\"attr\\\": \\\"reset_start\\\", \\\"kind\\\": \\\"ModelChanged\\\", \\\"model\\\": {\\\"id\\\": \\\"10941\\\"}, \\\"new\\\": 2011.0}, {\\\"attr\\\": \\\"end\\\", \\\"kind\\\": \\\"ModelChanged\\\", \\\"model\\\": {\\\"id\\\": \\\"10941\\\"}, \\\"new\\\": 2015.0}, {\\\"attr\\\": \\\"reset_end\\\", \\\"kind\\\": \\\"ModelChanged\\\", \\\"model\\\": {\\\"id\\\": \\\"10941\\\"}, \\\"new\\\": 2015.0}, {\\\"attr\\\": \\\"start\\\", \\\"kind\\\": \\\"ModelChanged\\\", \\\"model\\\": {\\\"id\\\": \\\"10942\\\"}, \\\"new\\\": 262.1927474193487}, {\\\"attr\\\": \\\"reset_start\\\", \\\"kind\\\": \\\"ModelChanged\\\", \\\"model\\\": {\\\"id\\\": \\\"10942\\\"}, \\\"new\\\": 262.1927474193487}, {\\\"attr\\\": \\\"end\\\", \\\"kind\\\": \\\"ModelChanged\\\", \\\"model\\\": {\\\"id\\\": \\\"10942\\\"}, \\\"new\\\": 665.2323171378882}, {\\\"attr\\\": \\\"reset_end\\\", \\\"kind\\\": \\\"ModelChanged\\\", \\\"model\\\": {\\\"id\\\": \\\"10942\\\"}, \\\"new\\\": 665.2323171378882}, {\\\"attr\\\": \\\"text\\\", \\\"kind\\\": \\\"ModelChanged\\\", \\\"model\\\": {\\\"id\\\": \\\"10945\\\"}, \\\"new\\\": \\\"neighborhood: Duboce Triangle\\\"}, {\\\"cols\\\": null, \\\"column_source\\\": {\\\"id\\\": \\\"10974\\\"}, \\\"kind\\\": \\\"ColumnDataChanged\\\", \\\"new\\\": {\\\"sale_price_sqr_foot\\\": {\\\"__ndarray__\\\": \\\"6FtOVXh8ckCp7K1zj0p8QIjRLwZ+soNAN/KXXSq9g0A=\\\", \\\"dtype\\\": \\\"float64\\\", \\\"shape\\\": [4]}, \\\"year\\\": [2011, 2012, 2014, 2015]}}], \\\"references\\\": []}\",\"header\":\"{\\\"msgid\\\": \\\"11328\\\", \\\"msgtype\\\": \\\"PATCH-DOC\\\"}\",\"metadata\":\"{}\"},\"Eureka Valley/Dolores Heights\":{\"content\":\"{\\\"events\\\": [{\\\"attr\\\": \\\"start\\\", \\\"kind\\\": \\\"ModelChanged\\\", \\\"model\\\": {\\\"id\\\": \\\"10942\\\"}, \\\"new\\\": 340.7510331616334}, {\\\"attr\\\": \\\"reset_start\\\", \\\"kind\\\": \\\"ModelChanged\\\", \\\"model\\\": {\\\"id\\\": \\\"10942\\\"}, \\\"new\\\": 340.7510331616334}, {\\\"attr\\\": \\\"end\\\", \\\"kind\\\": \\\"ModelChanged\\\", \\\"model\\\": {\\\"id\\\": \\\"10942\\\"}, \\\"new\\\": 1089.1583870112154}, {\\\"attr\\\": \\\"reset_end\\\", \\\"kind\\\": \\\"ModelChanged\\\", \\\"model\\\": {\\\"id\\\": \\\"10942\\\"}, \\\"new\\\": 1089.1583870112154}, {\\\"attr\\\": \\\"text\\\", \\\"kind\\\": \\\"ModelChanged\\\", \\\"model\\\": {\\\"id\\\": \\\"10945\\\"}, \\\"new\\\": \\\"neighborhood: Eureka Valley/Dolores Heights\\\"}, {\\\"cols\\\": null, \\\"column_source\\\": {\\\"id\\\": \\\"10974\\\"}, \\\"kind\\\": \\\"ColumnDataChanged\\\", \\\"new\\\": {\\\"sale_price_sqr_foot\\\": {\\\"__ndarray__\\\": \\\"TunNm+QxeUDoLWfYmtJ5QBwUV+GBZoBAWlX6So8Fg0CqdEN11seGQNdjWGVxsYhAgjgXGCoLkEA=\\\", \\\"dtype\\\": \\\"float64\\\", \\\"shape\\\": [7]}, \\\"year\\\": [2010, 2011, 2012, 2013, 2014, 2015, 2016]}}], \\\"references\\\": []}\",\"header\":\"{\\\"msgid\\\": \\\"11323\\\", \\\"msgtype\\\": \\\"PATCH-DOC\\\"}\",\"metadata\":\"{}\"},\"Excelsior\":{\"content\":\"{\\\"events\\\": [{\\\"attr\\\": \\\"start\\\", \\\"kind\\\": \\\"ModelChanged\\\", \\\"model\\\": {\\\"id\\\": \\\"10942\\\"}, \\\"new\\\": 265.30200726644756}, {\\\"attr\\\": \\\"reset_start\\\", \\\"kind\\\": \\\"ModelChanged\\\", \\\"model\\\": {\\\"id\\\": \\\"10942\\\"}, \\\"new\\\": 265.30200726644756}, {\\\"attr\\\": \\\"end\\\", \\\"kind\\\": \\\"ModelChanged\\\", \\\"model\\\": {\\\"id\\\": \\\"10942\\\"}, \\\"new\\\": 558.673908570333}, {\\\"attr\\\": \\\"reset_end\\\", \\\"kind\\\": \\\"ModelChanged\\\", \\\"model\\\": {\\\"id\\\": \\\"10942\\\"}, \\\"new\\\": 558.673908570333}, {\\\"attr\\\": \\\"text\\\", \\\"kind\\\": \\\"ModelChanged\\\", \\\"model\\\": {\\\"id\\\": \\\"10945\\\"}, \\\"new\\\": \\\"neighborhood: Excelsior\\\"}, {\\\"cols\\\": null, \\\"column_source\\\": {\\\"id\\\": \\\"10974\\\"}, \\\"kind\\\": \\\"ColumnDataChanged\\\", \\\"new\\\": {\\\"sale_price_sqr_foot\\\": {\\\"__ndarray__\\\": \\\"rTyLdtrOdkBN5gLDezB3QMhKeKH+G3JAVqH/QeJkdkAIVY6WseV5QJMvOlzPsYBA\\\", \\\"dtype\\\": \\\"float64\\\", \\\"shape\\\": [6]}, \\\"year\\\": [2010, 2012, 2013, 2014, 2015, 2016]}}], \\\"references\\\": []}\",\"header\":\"{\\\"msgid\\\": \\\"11318\\\", \\\"msgtype\\\": \\\"PATCH-DOC\\\"}\",\"metadata\":\"{}\"},\"Financial District North\":{\"content\":\"{\\\"events\\\": [{\\\"attr\\\": \\\"end\\\", \\\"kind\\\": \\\"ModelChanged\\\", \\\"model\\\": {\\\"id\\\": \\\"10941\\\"}, \\\"new\\\": 2016.0}, {\\\"attr\\\": \\\"reset_end\\\", \\\"kind\\\": \\\"ModelChanged\\\", \\\"model\\\": {\\\"id\\\": \\\"10941\\\"}, \\\"new\\\": 2016.0}, {\\\"attr\\\": \\\"start\\\", \\\"kind\\\": \\\"ModelChanged\\\", \\\"model\\\": {\\\"id\\\": \\\"10942\\\"}, \\\"new\\\": 232.46788133008937}, {\\\"attr\\\": \\\"reset_start\\\", \\\"kind\\\": \\\"ModelChanged\\\", \\\"model\\\": {\\\"id\\\": \\\"10942\\\"}, \\\"new\\\": 232.46788133008937}, {\\\"attr\\\": \\\"end\\\", \\\"kind\\\": \\\"ModelChanged\\\", \\\"model\\\": {\\\"id\\\": \\\"10942\\\"}, \\\"new\\\": 736.3486289558214}, {\\\"attr\\\": \\\"reset_end\\\", \\\"kind\\\": \\\"ModelChanged\\\", \\\"model\\\": {\\\"id\\\": \\\"10942\\\"}, \\\"new\\\": 736.3486289558214}, {\\\"attr\\\": \\\"text\\\", \\\"kind\\\": \\\"ModelChanged\\\", \\\"model\\\": {\\\"id\\\": \\\"10945\\\"}, \\\"new\\\": \\\"neighborhood: Financial District North\\\"}, {\\\"cols\\\": null, \\\"column_source\\\": {\\\"id\\\": \\\"10974\\\"}, \\\"kind\\\": \\\"ColumnDataChanged\\\", \\\"new\\\": {\\\"sale_price_sqr_foot\\\": {\\\"__ndarray__\\\": \\\"7AP43P8beUDn1P+nAZVxQHHD8reh5XFAr72zvFMncUAogOryGZ95QNWXMVjesoVAAAAAAAAA+H8=\\\", \\\"dtype\\\": \\\"float64\\\", \\\"shape\\\": [7]}, \\\"year\\\": [2010, 2011, 2012, 2013, 2014, 2015, 2016]}}], \\\"references\\\": []}\",\"header\":\"{\\\"msgid\\\": \\\"11313\\\", \\\"msgtype\\\": \\\"PATCH-DOC\\\"}\",\"metadata\":\"{}\"},\"Financial District South\":{\"content\":\"{\\\"events\\\": [{\\\"attr\\\": \\\"end\\\", \\\"kind\\\": \\\"ModelChanged\\\", \\\"model\\\": {\\\"id\\\": \\\"10941\\\"}, \\\"new\\\": 2015.0}, {\\\"attr\\\": \\\"reset_end\\\", \\\"kind\\\": \\\"ModelChanged\\\", \\\"model\\\": {\\\"id\\\": \\\"10941\\\"}, \\\"new\\\": 2015.0}, {\\\"attr\\\": \\\"start\\\", \\\"kind\\\": \\\"ModelChanged\\\", \\\"model\\\": {\\\"id\\\": \\\"10942\\\"}, \\\"new\\\": 109.66151643902155}, {\\\"attr\\\": \\\"reset_start\\\", \\\"kind\\\": \\\"ModelChanged\\\", \\\"model\\\": {\\\"id\\\": \\\"10942\\\"}, \\\"new\\\": 109.66151643902155}, {\\\"attr\\\": \\\"end\\\", \\\"kind\\\": \\\"ModelChanged\\\", \\\"model\\\": {\\\"id\\\": \\\"10942\\\"}, \\\"new\\\": 747.5778397434452}, {\\\"attr\\\": \\\"reset_end\\\", \\\"kind\\\": \\\"ModelChanged\\\", \\\"model\\\": {\\\"id\\\": \\\"10942\\\"}, \\\"new\\\": 747.5778397434452}, {\\\"attr\\\": \\\"text\\\", \\\"kind\\\": \\\"ModelChanged\\\", \\\"model\\\": {\\\"id\\\": \\\"10945\\\"}, \\\"new\\\": \\\"neighborhood: Financial District South\\\"}, {\\\"cols\\\": null, \\\"column_source\\\": {\\\"id\\\": \\\"10974\\\"}, \\\"kind\\\": \\\"ColumnDataChanged\\\", \\\"new\\\": {\\\"sale_price_sqr_foot\\\": {\\\"__ndarray__\\\": \\\"0ENLWkdaZECjdAggpip2QCLvSpm+LoNAXi0AXVizhUDRgqbm7VZ8QA==\\\", \\\"dtype\\\": \\\"float64\\\", \\\"shape\\\": [5]}, \\\"year\\\": [2010, 2011, 2012, 2014, 2015]}}], \\\"references\\\": []}\",\"header\":\"{\\\"msgid\\\": \\\"11308\\\", \\\"msgtype\\\": \\\"PATCH-DOC\\\"}\",\"metadata\":\"{}\"},\"Forest Knolls\":{\"content\":\"{\\\"events\\\": [{\\\"attr\\\": \\\"end\\\", \\\"kind\\\": \\\"ModelChanged\\\", \\\"model\\\": {\\\"id\\\": \\\"10941\\\"}, \\\"new\\\": 2012.0}, {\\\"attr\\\": \\\"reset_end\\\", \\\"kind\\\": \\\"ModelChanged\\\", \\\"model\\\": {\\\"id\\\": \\\"10941\\\"}, \\\"new\\\": 2012.0}, {\\\"attr\\\": \\\"start\\\", \\\"kind\\\": \\\"ModelChanged\\\", \\\"model\\\": {\\\"id\\\": \\\"10942\\\"}, \\\"new\\\": 186.4910246468359}, {\\\"attr\\\": \\\"reset_start\\\", \\\"kind\\\": \\\"ModelChanged\\\", \\\"model\\\": {\\\"id\\\": \\\"10942\\\"}, \\\"new\\\": 186.4910246468359}, {\\\"attr\\\": \\\"end\\\", \\\"kind\\\": \\\"ModelChanged\\\", \\\"model\\\": {\\\"id\\\": \\\"10942\\\"}, \\\"new\\\": 457.1906485011388}, {\\\"attr\\\": \\\"reset_end\\\", \\\"kind\\\": \\\"ModelChanged\\\", \\\"model\\\": {\\\"id\\\": \\\"10942\\\"}, \\\"new\\\": 457.1906485011388}, {\\\"attr\\\": \\\"text\\\", \\\"kind\\\": \\\"ModelChanged\\\", \\\"model\\\": {\\\"id\\\": \\\"10945\\\"}, \\\"new\\\": \\\"neighborhood: Forest Knolls\\\"}, {\\\"cols\\\": null, \\\"column_source\\\": {\\\"id\\\": \\\"10974\\\"}, \\\"kind\\\": \\\"ColumnDataChanged\\\", \\\"new\\\": {\\\"sale_price_sqr_foot\\\": {\\\"__ndarray__\\\": \\\"tVpzFZQhakB0pGAXHip7QA==\\\", \\\"dtype\\\": \\\"float64\\\", \\\"shape\\\": [2]}, \\\"year\\\": [2010, 2012]}}], \\\"references\\\": []}\",\"header\":\"{\\\"msgid\\\": \\\"11303\\\", \\\"msgtype\\\": \\\"PATCH-DOC\\\"}\",\"metadata\":\"{}\"},\"Glen Park\":{\"content\":\"{\\\"events\\\": [{\\\"attr\\\": \\\"end\\\", \\\"kind\\\": \\\"ModelChanged\\\", \\\"model\\\": {\\\"id\\\": \\\"10941\\\"}, \\\"new\\\": 2016.0}, {\\\"attr\\\": \\\"reset_end\\\", \\\"kind\\\": \\\"ModelChanged\\\", \\\"model\\\": {\\\"id\\\": \\\"10941\\\"}, \\\"new\\\": 2016.0}, {\\\"attr\\\": \\\"start\\\", \\\"kind\\\": \\\"ModelChanged\\\", \\\"model\\\": {\\\"id\\\": \\\"10942\\\"}, \\\"new\\\": 408.5986224810824}, {\\\"attr\\\": \\\"reset_start\\\", \\\"kind\\\": \\\"ModelChanged\\\", \\\"model\\\": {\\\"id\\\": \\\"10942\\\"}, \\\"new\\\": 408.5986224810824}, {\\\"attr\\\": \\\"end\\\", \\\"kind\\\": \\\"ModelChanged\\\", \\\"model\\\": {\\\"id\\\": \\\"10942\\\"}, \\\"new\\\": 994.3817642795972}, {\\\"attr\\\": \\\"reset_end\\\", \\\"kind\\\": \\\"ModelChanged\\\", \\\"model\\\": {\\\"id\\\": \\\"10942\\\"}, \\\"new\\\": 994.3817642795972}, {\\\"attr\\\": \\\"text\\\", \\\"kind\\\": \\\"ModelChanged\\\", \\\"model\\\": {\\\"id\\\": \\\"10945\\\"}, \\\"new\\\": \\\"neighborhood: Glen Park\\\"}, {\\\"cols\\\": null, \\\"column_source\\\": {\\\"id\\\": \\\"10974\\\"}, \\\"kind\\\": \\\"ColumnDataChanged\\\", \\\"new\\\": {\\\"sale_price_sqr_foot\\\": {\\\"__ndarray__\\\": \\\"aB91BrFchkAOKiRFn5Z8QED5MZOKq3xA/rlAhIBMgUBFlH1o2SCDQF9/cTKIjI1A\\\", \\\"dtype\\\": \\\"float64\\\", \\\"shape\\\": [6]}, \\\"year\\\": [2010, 2011, 2013, 2014, 2015, 2016]}}], \\\"references\\\": []}\",\"header\":\"{\\\"msgid\\\": \\\"11298\\\", \\\"msgtype\\\": \\\"PATCH-DOC\\\"}\",\"metadata\":\"{}\"},\"Golden Gate Heights\":{\"content\":\"{\\\"events\\\": [{\\\"attr\\\": \\\"end\\\", \\\"kind\\\": \\\"ModelChanged\\\", \\\"model\\\": {\\\"id\\\": \\\"10941\\\"}, \\\"new\\\": 2015.0}, {\\\"attr\\\": \\\"reset_end\\\", \\\"kind\\\": \\\"ModelChanged\\\", \\\"model\\\": {\\\"id\\\": \\\"10941\\\"}, \\\"new\\\": 2015.0}, {\\\"attr\\\": \\\"start\\\", \\\"kind\\\": \\\"ModelChanged\\\", \\\"model\\\": {\\\"id\\\": \\\"10942\\\"}, \\\"new\\\": 288.20425785366285}, {\\\"attr\\\": \\\"reset_start\\\", \\\"kind\\\": \\\"ModelChanged\\\", \\\"model\\\": {\\\"id\\\": \\\"10942\\\"}, \\\"new\\\": 288.20425785366285}, {\\\"attr\\\": \\\"end\\\", \\\"kind\\\": \\\"ModelChanged\\\", \\\"model\\\": {\\\"id\\\": \\\"10942\\\"}, \\\"new\\\": 1016.9095641046997}, {\\\"attr\\\": \\\"reset_end\\\", \\\"kind\\\": \\\"ModelChanged\\\", \\\"model\\\": {\\\"id\\\": \\\"10942\\\"}, \\\"new\\\": 1016.9095641046997}, {\\\"attr\\\": \\\"text\\\", \\\"kind\\\": \\\"ModelChanged\\\", \\\"model\\\": {\\\"id\\\": \\\"10945\\\"}, \\\"new\\\": \\\"neighborhood: Golden Gate Heights\\\"}, {\\\"cols\\\": null, \\\"column_source\\\": {\\\"id\\\": \\\"10974\\\"}, \\\"kind\\\": \\\"ColumnDataChanged\\\", \\\"new\\\": {\\\"sale_price_sqr_foot\\\": {\\\"__ndarray__\\\": \\\"XVj8sGg+gUAWhCYN4M51QNRj6RR54Y1AX0BnV7i6gUB+N3fjsyWIQA==\\\", \\\"dtype\\\": \\\"float64\\\", \\\"shape\\\": [5]}, \\\"year\\\": [2010, 2011, 2013, 2014, 2015]}}], \\\"references\\\": []}\",\"header\":\"{\\\"msgid\\\": \\\"11293\\\", \\\"msgtype\\\": \\\"PATCH-DOC\\\"}\",\"metadata\":\"{}\"},\"Haight Ashbury\":{\"content\":\"{\\\"events\\\": [{\\\"attr\\\": \\\"start\\\", \\\"kind\\\": \\\"ModelChanged\\\", \\\"model\\\": {\\\"id\\\": \\\"10942\\\"}, \\\"new\\\": 222.49375140602962}, {\\\"attr\\\": \\\"reset_start\\\", \\\"kind\\\": \\\"ModelChanged\\\", \\\"model\\\": {\\\"id\\\": \\\"10942\\\"}, \\\"new\\\": 222.49375140602962}, {\\\"attr\\\": \\\"end\\\", \\\"kind\\\": \\\"ModelChanged\\\", \\\"model\\\": {\\\"id\\\": \\\"10942\\\"}, \\\"new\\\": 606.2540842699716}, {\\\"attr\\\": \\\"reset_end\\\", \\\"kind\\\": \\\"ModelChanged\\\", \\\"model\\\": {\\\"id\\\": \\\"10942\\\"}, \\\"new\\\": 606.2540842699716}, {\\\"attr\\\": \\\"text\\\", \\\"kind\\\": \\\"ModelChanged\\\", \\\"model\\\": {\\\"id\\\": \\\"10945\\\"}, \\\"new\\\": \\\"neighborhood: Haight Ashbury\\\"}, {\\\"cols\\\": null, \\\"column_source\\\": {\\\"id\\\": \\\"10974\\\"}, \\\"kind\\\": \\\"ColumnDataChanged\\\", \\\"new\\\": {\\\"sale_price_sqr_foot\\\": {\\\"__ndarray__\\\": \\\"QH/hMinPb0DRLjW8p4V4QDXT1jtJLXpAbHydIO7nfUB2raXm0Ah/QNj5jEQx8oFAzf5gJa6egEA=\\\", \\\"dtype\\\": \\\"float64\\\", \\\"shape\\\": [7]}, \\\"year\\\": [2010, 2011, 2012, 2013, 2014, 2015, 2016]}}], \\\"references\\\": []}\",\"header\":\"{\\\"msgid\\\": \\\"11288\\\", \\\"msgtype\\\": \\\"PATCH-DOC\\\"}\",\"metadata\":\"{}\"},\"Hayes Valley\":{\"content\":\"{\\\"events\\\": [{\\\"attr\\\": \\\"end\\\", \\\"kind\\\": \\\"ModelChanged\\\", \\\"model\\\": {\\\"id\\\": \\\"10941\\\"}, \\\"new\\\": 2016.0}, {\\\"attr\\\": \\\"reset_end\\\", \\\"kind\\\": \\\"ModelChanged\\\", \\\"model\\\": {\\\"id\\\": \\\"10941\\\"}, \\\"new\\\": 2016.0}, {\\\"attr\\\": \\\"start\\\", \\\"kind\\\": \\\"ModelChanged\\\", \\\"model\\\": {\\\"id\\\": \\\"10942\\\"}, \\\"new\\\": 138.91696592838744}, {\\\"attr\\\": \\\"reset_start\\\", \\\"kind\\\": \\\"ModelChanged\\\", \\\"model\\\": {\\\"id\\\": \\\"10942\\\"}, \\\"new\\\": 138.91696592838744}, {\\\"attr\\\": \\\"end\\\", \\\"kind\\\": \\\"ModelChanged\\\", \\\"model\\\": {\\\"id\\\": \\\"10942\\\"}, \\\"new\\\": 572.7062051432274}, {\\\"attr\\\": \\\"reset_end\\\", \\\"kind\\\": \\\"ModelChanged\\\", \\\"model\\\": {\\\"id\\\": \\\"10942\\\"}, \\\"new\\\": 572.7062051432274}, {\\\"attr\\\": \\\"text\\\", \\\"kind\\\": \\\"ModelChanged\\\", \\\"model\\\": {\\\"id\\\": \\\"10945\\\"}, \\\"new\\\": \\\"neighborhood: Hayes Valley\\\"}, {\\\"cols\\\": null, \\\"column_source\\\": {\\\"id\\\": \\\"10974\\\"}, \\\"kind\\\": \\\"ColumnDataChanged\\\", \\\"new\\\": {\\\"sale_price_sqr_foot\\\": {\\\"__ndarray__\\\": \\\"jyy7Ro8EcUDtvFOssItxQN/Eix0MJnNA6LhSnW25fkAXEdXax856QHX40/F0xIBA8aolPR3iZUA=\\\", \\\"dtype\\\": \\\"float64\\\", \\\"shape\\\": [7]}, \\\"year\\\": [2010, 2011, 2012, 2013, 2014, 2015, 2016]}}], \\\"references\\\": []}\",\"header\":\"{\\\"msgid\\\": \\\"11283\\\", \\\"msgtype\\\": \\\"PATCH-DOC\\\"}\",\"metadata\":\"{}\"},\"Hunters Point\":{\"content\":\"{\\\"events\\\": [{\\\"attr\\\": \\\"start\\\", \\\"kind\\\": \\\"ModelChanged\\\", \\\"model\\\": {\\\"id\\\": \\\"10942\\\"}, \\\"new\\\": 169.42491987132686}, {\\\"attr\\\": \\\"reset_start\\\", \\\"kind\\\": \\\"ModelChanged\\\", \\\"model\\\": {\\\"id\\\": \\\"10942\\\"}, \\\"new\\\": 169.42491987132686}, {\\\"attr\\\": \\\"end\\\", \\\"kind\\\": \\\"ModelChanged\\\", \\\"model\\\": {\\\"id\\\": \\\"10942\\\"}, \\\"new\\\": 171.82491987132684}, {\\\"attr\\\": \\\"reset_end\\\", \\\"kind\\\": \\\"ModelChanged\\\", \\\"model\\\": {\\\"id\\\": \\\"10942\\\"}, \\\"new\\\": 171.82491987132684}, {\\\"attr\\\": \\\"text\\\", \\\"kind\\\": \\\"ModelChanged\\\", \\\"model\\\": {\\\"id\\\": \\\"10945\\\"}, \\\"new\\\": \\\"neighborhood: Hunters Point\\\"}, {\\\"cols\\\": null, \\\"column_source\\\": {\\\"id\\\": \\\"10974\\\"}, \\\"kind\\\": \\\"ColumnDataChanged\\\", \\\"new\\\": {\\\"sale_price_sqr_foot\\\": {\\\"__ndarray__\\\": \\\"BT/1V/9TZUAAAAAAAAD4fw==\\\", \\\"dtype\\\": \\\"float64\\\", \\\"shape\\\": [2]}, \\\"year\\\": [2010, 2015]}}], \\\"references\\\": []}\",\"header\":\"{\\\"msgid\\\": \\\"11278\\\", \\\"msgtype\\\": \\\"PATCH-DOC\\\"}\",\"metadata\":\"{}\"},\"Ingleside \":{\"content\":\"{\\\"events\\\": [{\\\"attr\\\": \\\"start\\\", \\\"kind\\\": \\\"ModelChanged\\\", \\\"model\\\": {\\\"id\\\": \\\"10941\\\"}, \\\"new\\\": 2010.0}, {\\\"attr\\\": \\\"reset_start\\\", \\\"kind\\\": \\\"ModelChanged\\\", \\\"model\\\": {\\\"id\\\": \\\"10941\\\"}, \\\"new\\\": 2010.0}, {\\\"attr\\\": \\\"end\\\", \\\"kind\\\": \\\"ModelChanged\\\", \\\"model\\\": {\\\"id\\\": \\\"10941\\\"}, \\\"new\\\": 2015.0}, {\\\"attr\\\": \\\"reset_end\\\", \\\"kind\\\": \\\"ModelChanged\\\", \\\"model\\\": {\\\"id\\\": \\\"10941\\\"}, \\\"new\\\": 2015.0}, {\\\"attr\\\": \\\"start\\\", \\\"kind\\\": \\\"ModelChanged\\\", \\\"model\\\": {\\\"id\\\": \\\"10942\\\"}, \\\"new\\\": 146.6168096057632}, {\\\"attr\\\": \\\"reset_start\\\", \\\"kind\\\": \\\"ModelChanged\\\", \\\"model\\\": {\\\"id\\\": \\\"10942\\\"}, \\\"new\\\": 146.6168096057632}, {\\\"attr\\\": \\\"end\\\", \\\"kind\\\": \\\"ModelChanged\\\", \\\"model\\\": {\\\"id\\\": \\\"10942\\\"}, \\\"new\\\": 693.198071989533}, {\\\"attr\\\": \\\"reset_end\\\", \\\"kind\\\": \\\"ModelChanged\\\", \\\"model\\\": {\\\"id\\\": \\\"10942\\\"}, \\\"new\\\": 693.198071989533}, {\\\"attr\\\": \\\"text\\\", \\\"kind\\\": \\\"ModelChanged\\\", \\\"model\\\": {\\\"id\\\": \\\"10945\\\"}, \\\"new\\\": \\\"neighborhood: Ingleside\\\"}, {\\\"cols\\\": null, \\\"column_source\\\": {\\\"id\\\": \\\"10974\\\"}, \\\"kind\\\": \\\"ColumnDataChanged\\\", \\\"new\\\": {\\\"sale_price_sqr_foot\\\": {\\\"__ndarray__\\\": \\\"a4srL+gwcUBltPYZWEt2QJi0BnMyPYRAvGp2tkkFaEA=\\\", \\\"dtype\\\": \\\"float64\\\", \\\"shape\\\": [4]}, \\\"year\\\": [2010, 2011, 2014, 2015]}}], \\\"references\\\": []}\",\"header\":\"{\\\"msgid\\\": \\\"11273\\\", \\\"msgtype\\\": \\\"PATCH-DOC\\\"}\",\"metadata\":\"{}\"},\"Ingleside Heights\":{\"content\":\"{\\\"events\\\": [{\\\"attr\\\": \\\"start\\\", \\\"kind\\\": \\\"ModelChanged\\\", \\\"model\\\": {\\\"id\\\": \\\"10941\\\"}, \\\"new\\\": 2011.0}, {\\\"attr\\\": \\\"reset_start\\\", \\\"kind\\\": \\\"ModelChanged\\\", \\\"model\\\": {\\\"id\\\": \\\"10941\\\"}, \\\"new\\\": 2011.0}, {\\\"attr\\\": \\\"start\\\", \\\"kind\\\": \\\"ModelChanged\\\", \\\"model\\\": {\\\"id\\\": \\\"10942\\\"}, \\\"new\\\": 160.65946188250336}, {\\\"attr\\\": \\\"reset_start\\\", \\\"kind\\\": \\\"ModelChanged\\\", \\\"model\\\": {\\\"id\\\": \\\"10942\\\"}, \\\"new\\\": 160.65946188250336}, {\\\"attr\\\": \\\"end\\\", \\\"kind\\\": \\\"ModelChanged\\\", \\\"model\\\": {\\\"id\\\": \\\"10942\\\"}, \\\"new\\\": 608.9363943867062}, {\\\"attr\\\": \\\"reset_end\\\", \\\"kind\\\": \\\"ModelChanged\\\", \\\"model\\\": {\\\"id\\\": \\\"10942\\\"}, \\\"new\\\": 608.9363943867062}, {\\\"attr\\\": \\\"text\\\", \\\"kind\\\": \\\"ModelChanged\\\", \\\"model\\\": {\\\"id\\\": \\\"10945\\\"}, \\\"new\\\": \\\"neighborhood: Ingleside Heights\\\"}, {\\\"cols\\\": null, \\\"column_source\\\": {\\\"id\\\": \\\"10974\\\"}, \\\"kind\\\": \\\"ColumnDataChanged\\\", \\\"new\\\": {\\\"sale_price_sqr_foot\\\": {\\\"__ndarray__\\\": \\\"m3bvB4LAaEBSzU7Oo9yBQA==\\\", \\\"dtype\\\": \\\"float64\\\", \\\"shape\\\": [2]}, \\\"year\\\": [2011, 2016]}}], \\\"references\\\": []}\",\"header\":\"{\\\"msgid\\\": \\\"11268\\\", \\\"msgtype\\\": \\\"PATCH-DOC\\\"}\",\"metadata\":\"{}\"},\"Inner Mission\":{\"content\":\"{\\\"events\\\": [{\\\"attr\\\": \\\"start\\\", \\\"kind\\\": \\\"ModelChanged\\\", \\\"model\\\": {\\\"id\\\": \\\"10942\\\"}, \\\"new\\\": 197.40797772905137}, {\\\"attr\\\": \\\"reset_start\\\", \\\"kind\\\": \\\"ModelChanged\\\", \\\"model\\\": {\\\"id\\\": \\\"10942\\\"}, \\\"new\\\": 197.40797772905137}, {\\\"attr\\\": \\\"end\\\", \\\"kind\\\": \\\"ModelChanged\\\", \\\"model\\\": {\\\"id\\\": \\\"10942\\\"}, \\\"new\\\": 688.7124898617598}, {\\\"attr\\\": \\\"reset_end\\\", \\\"kind\\\": \\\"ModelChanged\\\", \\\"model\\\": {\\\"id\\\": \\\"10942\\\"}, \\\"new\\\": 688.7124898617598}, {\\\"attr\\\": \\\"text\\\", \\\"kind\\\": \\\"ModelChanged\\\", \\\"model\\\": {\\\"id\\\": \\\"10945\\\"}, \\\"new\\\": \\\"neighborhood: Inner Mission\\\"}, {\\\"cols\\\": null, \\\"column_source\\\": {\\\"id\\\": \\\"10974\\\"}, \\\"kind\\\": \\\"ColumnDataChanged\\\", \\\"new\\\": {\\\"sale_price_sqr_foot\\\": {\\\"__ndarray__\\\": \\\"SQH/XTPLbUAmcCOZzLJxQMpoihc3DXVAuDqzykmYd0BQk3hB0AJ9QEOIcpNpPntAxpU24Ck+hEA=\\\", \\\"dtype\\\": \\\"float64\\\", \\\"shape\\\": [7]}, \\\"year\\\": [2010, 2011, 2012, 2013, 2014, 2015, 2016]}}], \\\"references\\\": []}\",\"header\":\"{\\\"msgid\\\": \\\"11263\\\", \\\"msgtype\\\": \\\"PATCH-DOC\\\"}\",\"metadata\":\"{}\"},\"Inner Parkside\":{\"content\":\"{\\\"events\\\": [{\\\"attr\\\": \\\"start\\\", \\\"kind\\\": \\\"ModelChanged\\\", \\\"model\\\": {\\\"id\\\": \\\"10942\\\"}, \\\"new\\\": 143.41948084887224}, {\\\"attr\\\": \\\"reset_start\\\", \\\"kind\\\": \\\"ModelChanged\\\", \\\"model\\\": {\\\"id\\\": \\\"10942\\\"}, \\\"new\\\": 143.41948084887224}, {\\\"attr\\\": \\\"end\\\", \\\"kind\\\": \\\"ModelChanged\\\", \\\"model\\\": {\\\"id\\\": \\\"10942\\\"}, \\\"new\\\": 818.8097560487954}, {\\\"attr\\\": \\\"reset_end\\\", \\\"kind\\\": \\\"ModelChanged\\\", \\\"model\\\": {\\\"id\\\": \\\"10942\\\"}, \\\"new\\\": 818.8097560487954}, {\\\"attr\\\": \\\"text\\\", \\\"kind\\\": \\\"ModelChanged\\\", \\\"model\\\": {\\\"id\\\": \\\"10945\\\"}, \\\"new\\\": \\\"neighborhood: Inner Parkside\\\"}, {\\\"cols\\\": null, \\\"column_source\\\": {\\\"id\\\": \\\"10974\\\"}, \\\"kind\\\": \\\"ColumnDataChanged\\\", \\\"new\\\": {\\\"sale_price_sqr_foot\\\": {\\\"__ndarray__\\\": \\\"18ai0Hb2aEDC7XKumqmCQHHi/sU31IdAw4xJteYwgEA=\\\", \\\"dtype\\\": \\\"float64\\\", \\\"shape\\\": [4]}, \\\"year\\\": [2010, 2014, 2015, 2016]}}], \\\"references\\\": []}\",\"header\":\"{\\\"msgid\\\": \\\"11258\\\", \\\"msgtype\\\": \\\"PATCH-DOC\\\"}\",\"metadata\":\"{}\"},\"Inner Richmond\":{\"content\":\"{\\\"events\\\": [{\\\"attr\\\": \\\"start\\\", \\\"kind\\\": \\\"ModelChanged\\\", \\\"model\\\": {\\\"id\\\": \\\"10942\\\"}, \\\"new\\\": 265.043038574214}, {\\\"attr\\\": \\\"reset_start\\\", \\\"kind\\\": \\\"ModelChanged\\\", \\\"model\\\": {\\\"id\\\": \\\"10942\\\"}, \\\"new\\\": 265.043038574214}, {\\\"attr\\\": \\\"end\\\", \\\"kind\\\": \\\"ModelChanged\\\", \\\"model\\\": {\\\"id\\\": \\\"10942\\\"}, \\\"new\\\": 514.3948775478381}, {\\\"attr\\\": \\\"reset_end\\\", \\\"kind\\\": \\\"ModelChanged\\\", \\\"model\\\": {\\\"id\\\": \\\"10942\\\"}, \\\"new\\\": 514.3948775478381}, {\\\"attr\\\": \\\"text\\\", \\\"kind\\\": \\\"ModelChanged\\\", \\\"model\\\": {\\\"id\\\": \\\"10945\\\"}, \\\"new\\\": \\\"neighborhood: Inner Richmond\\\"}, {\\\"cols\\\": null, \\\"column_source\\\": {\\\"id\\\": \\\"10974\\\"}, \\\"kind\\\": \\\"ColumnDataChanged\\\", \\\"new\\\": {\\\"sale_price_sqr_foot\\\": {\\\"__ndarray__\\\": \\\"rudfYSjdcUC/5PKqmIB2QOH8A0Z4V3dAg75VYHrvckDbABfACO96QP4B9lLZ2X5AcgrFZfo0eUA=\\\", \\\"dtype\\\": \\\"float64\\\", \\\"shape\\\": [7]}, \\\"year\\\": [2010, 2011, 2012, 2013, 2014, 2015, 2016]}}], \\\"references\\\": []}\",\"header\":\"{\\\"msgid\\\": \\\"11253\\\", \\\"msgtype\\\": \\\"PATCH-DOC\\\"}\",\"metadata\":\"{}\"},\"Inner Sunset\":{\"content\":\"{\\\"events\\\": [{\\\"attr\\\": \\\"start\\\", \\\"kind\\\": \\\"ModelChanged\\\", \\\"model\\\": {\\\"id\\\": \\\"10942\\\"}, \\\"new\\\": 239.43205814512743}, {\\\"attr\\\": \\\"reset_start\\\", \\\"kind\\\": \\\"ModelChanged\\\", \\\"model\\\": {\\\"id\\\": \\\"10942\\\"}, \\\"new\\\": 239.43205814512743}, {\\\"attr\\\": \\\"end\\\", \\\"kind\\\": \\\"ModelChanged\\\", \\\"model\\\": {\\\"id\\\": \\\"10942\\\"}, \\\"new\\\": 675.4841152989234}, {\\\"attr\\\": \\\"reset_end\\\", \\\"kind\\\": \\\"ModelChanged\\\", \\\"model\\\": {\\\"id\\\": \\\"10942\\\"}, \\\"new\\\": 675.4841152989234}, {\\\"attr\\\": \\\"text\\\", \\\"kind\\\": \\\"ModelChanged\\\", \\\"model\\\": {\\\"id\\\": \\\"10945\\\"}, \\\"new\\\": \\\"neighborhood: Inner Sunset\\\"}, {\\\"cols\\\": null, \\\"column_source\\\": {\\\"id\\\": \\\"10974\\\"}, \\\"kind\\\": \\\"ColumnDataChanged\\\", \\\"new\\\": {\\\"sale_price_sqr_foot\\\": {\\\"__ndarray__\\\": \\\"dFv1z1A8cUAZrCL9q+lyQMlvDkJDXXRAh0YXDbs4e0A5E+8OqG19QJJvw+or+YNAR50mAMjee0A=\\\", \\\"dtype\\\": \\\"float64\\\", \\\"shape\\\": [7]}, \\\"year\\\": [2010, 2011, 2012, 2013, 2014, 2015, 2016]}}], \\\"references\\\": []}\",\"header\":\"{\\\"msgid\\\": \\\"11248\\\", \\\"msgtype\\\": \\\"PATCH-DOC\\\"}\",\"metadata\":\"{}\"},\"Jordan Park/Laurel Heights\":{\"content\":\"{\\\"events\\\": [{\\\"attr\\\": \\\"end\\\", \\\"kind\\\": \\\"ModelChanged\\\", \\\"model\\\": {\\\"id\\\": \\\"10941\\\"}, \\\"new\\\": 2016.0}, {\\\"attr\\\": \\\"reset_end\\\", \\\"kind\\\": \\\"ModelChanged\\\", \\\"model\\\": {\\\"id\\\": \\\"10941\\\"}, \\\"new\\\": 2016.0}, {\\\"attr\\\": \\\"start\\\", \\\"kind\\\": \\\"ModelChanged\\\", \\\"model\\\": {\\\"id\\\": \\\"10942\\\"}, \\\"new\\\": 351.00879381032536}, {\\\"attr\\\": \\\"reset_start\\\", \\\"kind\\\": \\\"ModelChanged\\\", \\\"model\\\": {\\\"id\\\": \\\"10942\\\"}, \\\"new\\\": 351.00879381032536}, {\\\"attr\\\": \\\"end\\\", \\\"kind\\\": \\\"ModelChanged\\\", \\\"model\\\": {\\\"id\\\": \\\"10942\\\"}, \\\"new\\\": 736.7080212635753}, {\\\"attr\\\": \\\"reset_end\\\", \\\"kind\\\": \\\"ModelChanged\\\", \\\"model\\\": {\\\"id\\\": \\\"10942\\\"}, \\\"new\\\": 736.7080212635753}, {\\\"attr\\\": \\\"text\\\", \\\"kind\\\": \\\"ModelChanged\\\", \\\"model\\\": {\\\"id\\\": \\\"10945\\\"}, \\\"new\\\": \\\"neighborhood: Jordan Park/Laurel Heights\\\"}, {\\\"cols\\\": null, \\\"column_source\\\": {\\\"id\\\": \\\"10974\\\"}, \\\"kind\\\": \\\"ColumnDataChanged\\\", \\\"new\\\": {\\\"sale_price_sqr_foot\\\": {\\\"__ndarray__\\\": \\\"uuY5ejQ+ekAnLEsgIhaDQE4svQVo8ndAEAzB95ZAgkAi628Elax6QPxXbMypA4JAUAesBogEhkA=\\\", \\\"dtype\\\": \\\"float64\\\", \\\"shape\\\": [7]}, \\\"year\\\": [2010, 2011, 2012, 2013, 2014, 2015, 2016]}}], \\\"references\\\": []}\",\"header\":\"{\\\"msgid\\\": \\\"11243\\\", \\\"msgtype\\\": \\\"PATCH-DOC\\\"}\",\"metadata\":\"{}\"},\"Lake --The Presidio\":{\"content\":\"{\\\"events\\\": [{\\\"attr\\\": \\\"start\\\", \\\"kind\\\": \\\"ModelChanged\\\", \\\"model\\\": {\\\"id\\\": \\\"10942\\\"}, \\\"new\\\": 296.0114866651718}, {\\\"attr\\\": \\\"reset_start\\\", \\\"kind\\\": \\\"ModelChanged\\\", \\\"model\\\": {\\\"id\\\": \\\"10942\\\"}, \\\"new\\\": 296.0114866651718}, {\\\"attr\\\": \\\"end\\\", \\\"kind\\\": \\\"ModelChanged\\\", \\\"model\\\": {\\\"id\\\": \\\"10942\\\"}, \\\"new\\\": 593.4365725876658}, {\\\"attr\\\": \\\"reset_end\\\", \\\"kind\\\": \\\"ModelChanged\\\", \\\"model\\\": {\\\"id\\\": \\\"10942\\\"}, \\\"new\\\": 593.4365725876658}, {\\\"attr\\\": \\\"text\\\", \\\"kind\\\": \\\"ModelChanged\\\", \\\"model\\\": {\\\"id\\\": \\\"10945\\\"}, \\\"new\\\": \\\"neighborhood: Lake --The Presidio\\\"}, {\\\"cols\\\": null, \\\"column_source\\\": {\\\"id\\\": \\\"10974\\\"}, \\\"kind\\\": \\\"ColumnDataChanged\\\", \\\"new\\\": {\\\"sale_price_sqr_foot\\\": {\\\"__ndarray__\\\": \\\"2VI3JcAMdECVIgEIvqF0QHq77f9XyHdAb0N7jTXFgUAxyTRQZw97QKwhg5D1qnpA\\\", \\\"dtype\\\": \\\"float64\\\", \\\"shape\\\": [6]}, \\\"year\\\": [2010, 2011, 2012, 2013, 2014, 2015]}}], \\\"references\\\": []}\",\"header\":\"{\\\"msgid\\\": \\\"11238\\\", \\\"msgtype\\\": \\\"PATCH-DOC\\\"}\",\"metadata\":\"{}\"},\"Lone Mountain\":{\"content\":\"{\\\"events\\\": [{\\\"attr\\\": \\\"end\\\", \\\"kind\\\": \\\"ModelChanged\\\", \\\"model\\\": {\\\"id\\\": \\\"10941\\\"}, \\\"new\\\": 2015.0}, {\\\"attr\\\": \\\"reset_end\\\", \\\"kind\\\": \\\"ModelChanged\\\", \\\"model\\\": {\\\"id\\\": \\\"10941\\\"}, \\\"new\\\": 2015.0}, {\\\"attr\\\": \\\"start\\\", \\\"kind\\\": \\\"ModelChanged\\\", \\\"model\\\": {\\\"id\\\": \\\"10942\\\"}, \\\"new\\\": 252.84347723354495}, {\\\"attr\\\": \\\"reset_start\\\", \\\"kind\\\": \\\"ModelChanged\\\", \\\"model\\\": {\\\"id\\\": \\\"10942\\\"}, \\\"new\\\": 252.84347723354495}, {\\\"attr\\\": \\\"end\\\", \\\"kind\\\": \\\"ModelChanged\\\", \\\"model\\\": {\\\"id\\\": \\\"10942\\\"}, \\\"new\\\": 978.7832492011727}, {\\\"attr\\\": \\\"reset_end\\\", \\\"kind\\\": \\\"ModelChanged\\\", \\\"model\\\": {\\\"id\\\": \\\"10942\\\"}, \\\"new\\\": 978.7832492011727}, {\\\"attr\\\": \\\"text\\\", \\\"kind\\\": \\\"ModelChanged\\\", \\\"model\\\": {\\\"id\\\": \\\"10945\\\"}, \\\"new\\\": \\\"neighborhood: Lone Mountain\\\"}, {\\\"cols\\\": null, \\\"column_source\\\": {\\\"id\\\": \\\"10974\\\"}, \\\"kind\\\": \\\"ColumnDataChanged\\\", \\\"new\\\": {\\\"sale_price_sqr_foot\\\": {\\\"__ndarray__\\\": \\\"wz1ajlfneEDRiC1TapVzQAfvLHLXD4FAeCzjalaBd0BPfmP7jNNzQM1gj19OsoxA\\\", \\\"dtype\\\": \\\"float64\\\", \\\"shape\\\": [6]}, \\\"year\\\": [2010, 2011, 2012, 2013, 2014, 2015]}}], \\\"references\\\": []}\",\"header\":\"{\\\"msgid\\\": \\\"11233\\\", \\\"msgtype\\\": \\\"PATCH-DOC\\\"}\",\"metadata\":\"{}\"},\"Lower Pacific Heights\":{\"content\":\"{\\\"events\\\": [{\\\"attr\\\": \\\"start\\\", \\\"kind\\\": \\\"ModelChanged\\\", \\\"model\\\": {\\\"id\\\": \\\"10942\\\"}, \\\"new\\\": 253.89473318005733}, {\\\"attr\\\": \\\"reset_start\\\", \\\"kind\\\": \\\"ModelChanged\\\", \\\"model\\\": {\\\"id\\\": \\\"10942\\\"}, \\\"new\\\": 253.89473318005733}, {\\\"attr\\\": \\\"end\\\", \\\"kind\\\": \\\"ModelChanged\\\", \\\"model\\\": {\\\"id\\\": \\\"10942\\\"}, \\\"new\\\": 849.6883316136466}, {\\\"attr\\\": \\\"reset_end\\\", \\\"kind\\\": \\\"ModelChanged\\\", \\\"model\\\": {\\\"id\\\": \\\"10942\\\"}, \\\"new\\\": 849.6883316136466}, {\\\"attr\\\": \\\"text\\\", \\\"kind\\\": \\\"ModelChanged\\\", \\\"model\\\": {\\\"id\\\": \\\"10945\\\"}, \\\"new\\\": \\\"neighborhood: Lower Pacific Heights\\\"}, {\\\"cols\\\": null, \\\"column_source\\\": {\\\"id\\\": \\\"10974\\\"}, \\\"kind\\\": \\\"ColumnDataChanged\\\", \\\"new\\\": {\\\"sale_price_sqr_foot\\\": {\\\"__ndarray__\\\": \\\"76u8E+xgd0Bx+MIKtfhyQPfeWOC8wnhAyw2Bnl8ggUA7DXIXA2OGQApnfphPAIlAVYW5N3Ljg0A=\\\", \\\"dtype\\\": \\\"float64\\\", \\\"shape\\\": [7]}, \\\"year\\\": [2010, 2011, 2012, 2013, 2014, 2015, 2016]}}], \\\"references\\\": []}\",\"header\":\"{\\\"msgid\\\": \\\"11228\\\", \\\"msgtype\\\": \\\"PATCH-DOC\\\"}\",\"metadata\":\"{}\"},\"Marina\":{\"content\":\"{\\\"events\\\": [{\\\"attr\\\": \\\"start\\\", \\\"kind\\\": \\\"ModelChanged\\\", \\\"model\\\": {\\\"id\\\": \\\"10941\\\"}, \\\"new\\\": 2010.0}, {\\\"attr\\\": \\\"reset_start\\\", \\\"kind\\\": \\\"ModelChanged\\\", \\\"model\\\": {\\\"id\\\": \\\"10941\\\"}, \\\"new\\\": 2010.0}, {\\\"attr\\\": \\\"start\\\", \\\"kind\\\": \\\"ModelChanged\\\", \\\"model\\\": {\\\"id\\\": \\\"10942\\\"}, \\\"new\\\": 312.84838736906875}, {\\\"attr\\\": \\\"reset_start\\\", \\\"kind\\\": \\\"ModelChanged\\\", \\\"model\\\": {\\\"id\\\": \\\"10942\\\"}, \\\"new\\\": 312.84838736906875}, {\\\"attr\\\": \\\"end\\\", \\\"kind\\\": \\\"ModelChanged\\\", \\\"model\\\": {\\\"id\\\": \\\"10942\\\"}, \\\"new\\\": 1207.3818126633078}, {\\\"attr\\\": \\\"reset_end\\\", \\\"kind\\\": \\\"ModelChanged\\\", \\\"model\\\": {\\\"id\\\": \\\"10942\\\"}, \\\"new\\\": 1207.3818126633078}, {\\\"attr\\\": \\\"text\\\", \\\"kind\\\": \\\"ModelChanged\\\", \\\"model\\\": {\\\"id\\\": \\\"10945\\\"}, \\\"new\\\": \\\"neighborhood: Marina\\\"}, {\\\"cols\\\": null, \\\"column_source\\\": {\\\"id\\\": \\\"10974\\\"}, \\\"kind\\\": \\\"ColumnDataChanged\\\", \\\"new\\\": {\\\"sale_price_sqr_foot\\\": {\\\"__ndarray__\\\": \\\"Ux8MEkk2eECye+dyGG14QJQFBghx03tArN/UlpV5hEDmyxE0tRaEQI2iC3VZs5FA5fACFx3/ekA=\\\", \\\"dtype\\\": \\\"float64\\\", \\\"shape\\\": [7]}, \\\"year\\\": [2010, 2011, 2012, 2013, 2014, 2015, 2016]}}], \\\"references\\\": []}\",\"header\":\"{\\\"msgid\\\": \\\"11223\\\", \\\"msgtype\\\": \\\"PATCH-DOC\\\"}\",\"metadata\":\"{}\"},\"Merced Heights\":{\"content\":\"{\\\"events\\\": [{\\\"attr\\\": \\\"end\\\", \\\"kind\\\": \\\"ModelChanged\\\", \\\"model\\\": {\\\"id\\\": \\\"10941\\\"}, \\\"new\\\": 2016.0}, {\\\"attr\\\": \\\"reset_end\\\", \\\"kind\\\": \\\"ModelChanged\\\", \\\"model\\\": {\\\"id\\\": \\\"10941\\\"}, \\\"new\\\": 2016.0}, {\\\"attr\\\": \\\"start\\\", \\\"kind\\\": \\\"ModelChanged\\\", \\\"model\\\": {\\\"id\\\": \\\"10942\\\"}, \\\"new\\\": 321.5887025101436}, {\\\"attr\\\": \\\"reset_start\\\", \\\"kind\\\": \\\"ModelChanged\\\", \\\"model\\\": {\\\"id\\\": \\\"10942\\\"}, \\\"new\\\": 321.5887025101436}, {\\\"attr\\\": \\\"end\\\", \\\"kind\\\": \\\"ModelChanged\\\", \\\"model\\\": {\\\"id\\\": \\\"10942\\\"}, \\\"new\\\": 1516.2192088627146}, {\\\"attr\\\": \\\"reset_end\\\", \\\"kind\\\": \\\"ModelChanged\\\", \\\"model\\\": {\\\"id\\\": \\\"10942\\\"}, \\\"new\\\": 1516.2192088627146}, {\\\"attr\\\": \\\"text\\\", \\\"kind\\\": \\\"ModelChanged\\\", \\\"model\\\": {\\\"id\\\": \\\"10945\\\"}, \\\"new\\\": \\\"neighborhood: Merced Heights\\\"}, {\\\"cols\\\": null, \\\"column_source\\\": {\\\"id\\\": \\\"10974\\\"}, \\\"kind\\\": \\\"ColumnDataChanged\\\", \\\"new\\\": {\\\"sale_price_sqr_foot\\\": {\\\"__ndarray__\\\": \\\"MB3PiUJSekCKg+70z4WAQKyqqqqqIpZA\\\", \\\"dtype\\\": \\\"float64\\\", \\\"shape\\\": [3]}, \\\"year\\\": [2012, 2014, 2016]}}], \\\"references\\\": []}\",\"header\":\"{\\\"msgid\\\": \\\"11218\\\", \\\"msgtype\\\": \\\"PATCH-DOC\\\"}\",\"metadata\":\"{}\"},\"Midtown Terrace\":{\"content\":\"{\\\"events\\\": [{\\\"attr\\\": \\\"start\\\", \\\"kind\\\": \\\"ModelChanged\\\", \\\"model\\\": {\\\"id\\\": \\\"10941\\\"}, \\\"new\\\": 2012.0}, {\\\"attr\\\": \\\"reset_start\\\", \\\"kind\\\": \\\"ModelChanged\\\", \\\"model\\\": {\\\"id\\\": \\\"10941\\\"}, \\\"new\\\": 2012.0}, {\\\"attr\\\": \\\"end\\\", \\\"kind\\\": \\\"ModelChanged\\\", \\\"model\\\": {\\\"id\\\": \\\"10941\\\"}, \\\"new\\\": 2013.0}, {\\\"attr\\\": \\\"reset_end\\\", \\\"kind\\\": \\\"ModelChanged\\\", \\\"model\\\": {\\\"id\\\": \\\"10941\\\"}, \\\"new\\\": 2013.0}, {\\\"attr\\\": \\\"start\\\", \\\"kind\\\": \\\"ModelChanged\\\", \\\"model\\\": {\\\"id\\\": \\\"10942\\\"}, \\\"new\\\": 367.4248850164196}, {\\\"attr\\\": \\\"reset_start\\\", \\\"kind\\\": \\\"ModelChanged\\\", \\\"model\\\": {\\\"id\\\": \\\"10942\\\"}, \\\"new\\\": 367.4248850164196}, {\\\"attr\\\": \\\"end\\\", \\\"kind\\\": \\\"ModelChanged\\\", \\\"model\\\": {\\\"id\\\": \\\"10942\\\"}, \\\"new\\\": 733.5958115670106}, {\\\"attr\\\": \\\"reset_end\\\", \\\"kind\\\": \\\"ModelChanged\\\", \\\"model\\\": {\\\"id\\\": \\\"10942\\\"}, \\\"new\\\": 733.5958115670106}, {\\\"attr\\\": \\\"text\\\", \\\"kind\\\": \\\"ModelChanged\\\", \\\"model\\\": {\\\"id\\\": \\\"10945\\\"}, \\\"new\\\": \\\"neighborhood: Midtown Terrace\\\"}, {\\\"cols\\\": null, \\\"column_source\\\": {\\\"id\\\": \\\"10974\\\"}, \\\"kind\\\": \\\"ColumnDataChanged\\\", \\\"new\\\": {\\\"sale_price_sqr_foot\\\": {\\\"__ndarray__\\\": \\\"u1cFrAbfeEDpu/UMp/iFQA==\\\", \\\"dtype\\\": \\\"float64\\\", \\\"shape\\\": [2]}, \\\"year\\\": [2012, 2013]}}], \\\"references\\\": []}\",\"header\":\"{\\\"msgid\\\": \\\"11213\\\", \\\"msgtype\\\": \\\"PATCH-DOC\\\"}\",\"metadata\":\"{}\"},\"Miraloma Park\":{\"content\":\"{\\\"events\\\": [{\\\"attr\\\": \\\"end\\\", \\\"kind\\\": \\\"ModelChanged\\\", \\\"model\\\": {\\\"id\\\": \\\"10941\\\"}, \\\"new\\\": 2014.0}, {\\\"attr\\\": \\\"reset_end\\\", \\\"kind\\\": \\\"ModelChanged\\\", \\\"model\\\": {\\\"id\\\": \\\"10941\\\"}, \\\"new\\\": 2014.0}, {\\\"attr\\\": \\\"start\\\", \\\"kind\\\": \\\"ModelChanged\\\", \\\"model\\\": {\\\"id\\\": \\\"10942\\\"}, \\\"new\\\": 329.36705099035305}, {\\\"attr\\\": \\\"reset_start\\\", \\\"kind\\\": \\\"ModelChanged\\\", \\\"model\\\": {\\\"id\\\": \\\"10942\\\"}, \\\"new\\\": 329.36705099035305}, {\\\"attr\\\": \\\"end\\\", \\\"kind\\\": \\\"ModelChanged\\\", \\\"model\\\": {\\\"id\\\": \\\"10942\\\"}, \\\"new\\\": 1353.0752164185672}, {\\\"attr\\\": \\\"reset_end\\\", \\\"kind\\\": \\\"ModelChanged\\\", \\\"model\\\": {\\\"id\\\": \\\"10942\\\"}, \\\"new\\\": 1353.0752164185672}, {\\\"attr\\\": \\\"text\\\", \\\"kind\\\": \\\"ModelChanged\\\", \\\"model\\\": {\\\"id\\\": \\\"10945\\\"}, \\\"new\\\": \\\"neighborhood: Miraloma Park\\\"}, {\\\"cols\\\": null, \\\"column_source\\\": {\\\"id\\\": \\\"10974\\\"}, \\\"kind\\\": \\\"ColumnDataChanged\\\", \\\"new\\\": {\\\"sale_price_sqr_foot\\\": {\\\"__ndarray__\\\": \\\"nv5hrd5EhUDxcEwp0ep5QKIzmfqJoYdAXElslxDPk0A=\\\", \\\"dtype\\\": \\\"float64\\\", \\\"shape\\\": [4]}, \\\"year\\\": [2010, 2011, 2012, 2014]}}], \\\"references\\\": []}\",\"header\":\"{\\\"msgid\\\": \\\"11208\\\", \\\"msgtype\\\": \\\"PATCH-DOC\\\"}\",\"metadata\":\"{}\"},\"Mission Bay\":{\"content\":\"{\\\"events\\\": [{\\\"attr\\\": \\\"end\\\", \\\"kind\\\": \\\"ModelChanged\\\", \\\"model\\\": {\\\"id\\\": \\\"10941\\\"}, \\\"new\\\": 2016.0}, {\\\"attr\\\": \\\"reset_end\\\", \\\"kind\\\": \\\"ModelChanged\\\", \\\"model\\\": {\\\"id\\\": \\\"10941\\\"}, \\\"new\\\": 2016.0}, {\\\"attr\\\": \\\"start\\\", \\\"kind\\\": \\\"ModelChanged\\\", \\\"model\\\": {\\\"id\\\": \\\"10942\\\"}, \\\"new\\\": 149.6652843206233}, {\\\"attr\\\": \\\"reset_start\\\", \\\"kind\\\": \\\"ModelChanged\\\", \\\"model\\\": {\\\"id\\\": \\\"10942\\\"}, \\\"new\\\": 149.6652843206233}, {\\\"attr\\\": \\\"end\\\", \\\"kind\\\": \\\"ModelChanged\\\", \\\"model\\\": {\\\"id\\\": \\\"10942\\\"}, \\\"new\\\": 995.0149187736765}, {\\\"attr\\\": \\\"reset_end\\\", \\\"kind\\\": \\\"ModelChanged\\\", \\\"model\\\": {\\\"id\\\": \\\"10942\\\"}, \\\"new\\\": 995.0149187736765}, {\\\"attr\\\": \\\"text\\\", \\\"kind\\\": \\\"ModelChanged\\\", \\\"model\\\": {\\\"id\\\": \\\"10945\\\"}, \\\"new\\\": \\\"neighborhood: Mission Bay\\\"}, {\\\"cols\\\": null, \\\"column_source\\\": {\\\"id\\\": \\\"10974\\\"}, \\\"kind\\\": \\\"ColumnDataChanged\\\", \\\"new\\\": {\\\"sale_price_sqr_foot\\\": {\\\"__ndarray__\\\": \\\"YJ/P0+KcfkA4flQbPK9/QDDJZL4vjIVAAAAAAAAA+H/q7LkGjoNrQAVqo4yN5IxA\\\", \\\"dtype\\\": \\\"float64\\\", \\\"shape\\\": [6]}, \\\"year\\\": [2010, 2011, 2012, 2013, 2014, 2016]}}], \\\"references\\\": []}\",\"header\":\"{\\\"msgid\\\": \\\"11203\\\", \\\"msgtype\\\": \\\"PATCH-DOC\\\"}\",\"metadata\":\"{}\"},\"Mission Dolores\":{\"content\":\"{\\\"events\\\": [{\\\"attr\\\": \\\"end\\\", \\\"kind\\\": \\\"ModelChanged\\\", \\\"model\\\": {\\\"id\\\": \\\"10941\\\"}, \\\"new\\\": 2015.0}, {\\\"attr\\\": \\\"reset_end\\\", \\\"kind\\\": \\\"ModelChanged\\\", \\\"model\\\": {\\\"id\\\": \\\"10941\\\"}, \\\"new\\\": 2015.0}, {\\\"attr\\\": \\\"start\\\", \\\"kind\\\": \\\"ModelChanged\\\", \\\"model\\\": {\\\"id\\\": \\\"10942\\\"}, \\\"new\\\": 219.56483924332616}, {\\\"attr\\\": \\\"reset_start\\\", \\\"kind\\\": \\\"ModelChanged\\\", \\\"model\\\": {\\\"id\\\": \\\"10942\\\"}, \\\"new\\\": 219.56483924332616}, {\\\"attr\\\": \\\"end\\\", \\\"kind\\\": \\\"ModelChanged\\\", \\\"model\\\": {\\\"id\\\": \\\"10942\\\"}, \\\"new\\\": 680.6427519434955}, {\\\"attr\\\": \\\"reset_end\\\", \\\"kind\\\": \\\"ModelChanged\\\", \\\"model\\\": {\\\"id\\\": \\\"10942\\\"}, \\\"new\\\": 680.6427519434955}, {\\\"attr\\\": \\\"text\\\", \\\"kind\\\": \\\"ModelChanged\\\", \\\"model\\\": {\\\"id\\\": \\\"10945\\\"}, \\\"new\\\": \\\"neighborhood: Mission Dolores\\\"}, {\\\"cols\\\": null, \\\"column_source\\\": {\\\"id\\\": \\\"10974\\\"}, \\\"kind\\\": \\\"ColumnDataChanged\\\", \\\"new\\\": {\\\"sale_price_sqr_foot\\\": {\\\"__ndarray__\\\": \\\"jx2o184fcEDnKsbKd1ZyQHi6P9hbD3RAu5WvBqmyekDqY725wRGEQPso77AL3oFA\\\", \\\"dtype\\\": \\\"float64\\\", \\\"shape\\\": [6]}, \\\"year\\\": [2010, 2011, 2012, 2013, 2014, 2015]}}], \\\"references\\\": []}\",\"header\":\"{\\\"msgid\\\": \\\"11198\\\", \\\"msgtype\\\": \\\"PATCH-DOC\\\"}\",\"metadata\":\"{}\"},\"Mission Terrace\":{\"content\":\"{\\\"events\\\": [{\\\"attr\\\": \\\"start\\\", \\\"kind\\\": \\\"ModelChanged\\\", \\\"model\\\": {\\\"id\\\": \\\"10942\\\"}, \\\"new\\\": 201.26192688136928}, {\\\"attr\\\": \\\"reset_start\\\", \\\"kind\\\": \\\"ModelChanged\\\", \\\"model\\\": {\\\"id\\\": \\\"10942\\\"}, \\\"new\\\": 201.26192688136928}, {\\\"attr\\\": \\\"end\\\", \\\"kind\\\": \\\"ModelChanged\\\", \\\"model\\\": {\\\"id\\\": \\\"10942\\\"}, \\\"new\\\": 940.6311119917092}, {\\\"attr\\\": \\\"reset_end\\\", \\\"kind\\\": \\\"ModelChanged\\\", \\\"model\\\": {\\\"id\\\": \\\"10942\\\"}, \\\"new\\\": 940.6311119917092}, {\\\"attr\\\": \\\"text\\\", \\\"kind\\\": \\\"ModelChanged\\\", \\\"model\\\": {\\\"id\\\": \\\"10945\\\"}, \\\"new\\\": \\\"neighborhood: Mission Terrace\\\"}, {\\\"cols\\\": null, \\\"column_source\\\": {\\\"id\\\": \\\"10974\\\"}, \\\"kind\\\": \\\"ColumnDataChanged\\\", \\\"new\\\": {\\\"sale_price_sqr_foot\\\": {\\\"__ndarray__\\\": \\\"5Up2MwRucEDCIHpXN3uCQAn27jf/wnJA7NvKAco+gkD7adXXIniLQA==\\\", \\\"dtype\\\": \\\"float64\\\", \\\"shape\\\": [5]}, \\\"year\\\": [2010, 2013, 2014, 2015, 2016]}}], \\\"references\\\": []}\",\"header\":\"{\\\"msgid\\\": \\\"11193\\\", \\\"msgtype\\\": \\\"PATCH-DOC\\\"}\",\"metadata\":\"{}\"},\"Nob Hill\":{\"content\":\"{\\\"events\\\": [{\\\"attr\\\": \\\"start\\\", \\\"kind\\\": \\\"ModelChanged\\\", \\\"model\\\": {\\\"id\\\": \\\"10942\\\"}, \\\"new\\\": 260.7443929653207}, {\\\"attr\\\": \\\"reset_start\\\", \\\"kind\\\": \\\"ModelChanged\\\", \\\"model\\\": {\\\"id\\\": \\\"10942\\\"}, \\\"new\\\": 260.7443929653207}, {\\\"attr\\\": \\\"end\\\", \\\"kind\\\": \\\"ModelChanged\\\", \\\"model\\\": {\\\"id\\\": \\\"10942\\\"}, \\\"new\\\": 823.9413983128123}, {\\\"attr\\\": \\\"reset_end\\\", \\\"kind\\\": \\\"ModelChanged\\\", \\\"model\\\": {\\\"id\\\": \\\"10942\\\"}, \\\"new\\\": 823.9413983128123}, {\\\"attr\\\": \\\"text\\\", \\\"kind\\\": \\\"ModelChanged\\\", \\\"model\\\": {\\\"id\\\": \\\"10945\\\"}, \\\"new\\\": \\\"neighborhood: Nob Hill\\\"}, {\\\"cols\\\": null, \\\"column_source\\\": {\\\"id\\\": \\\"10974\\\"}, \\\"kind\\\": \\\"ColumnDataChanged\\\", \\\"new\\\": {\\\"sale_price_sqr_foot\\\": {\\\"__ndarray__\\\": \\\"nsfa8dY6c0Dw6sQTSEp1QNOp9qKHPHNANu2GfmwgfUCD5gH4F+d9QN20QE/HjoBA5tc1BxFIiEA=\\\", \\\"dtype\\\": \\\"float64\\\", \\\"shape\\\": [7]}, \\\"year\\\": [2010, 2011, 2012, 2013, 2014, 2015, 2016]}}], \\\"references\\\": []}\",\"header\":\"{\\\"msgid\\\": \\\"11188\\\", \\\"msgtype\\\": \\\"PATCH-DOC\\\"}\",\"metadata\":\"{}\"},\"Noe Valley\":{\"content\":\"{\\\"events\\\": [{\\\"attr\\\": \\\"start\\\", \\\"kind\\\": \\\"ModelChanged\\\", \\\"model\\\": {\\\"id\\\": \\\"10941\\\"}, \\\"new\\\": 2010.0}, {\\\"attr\\\": \\\"reset_start\\\", \\\"kind\\\": \\\"ModelChanged\\\", \\\"model\\\": {\\\"id\\\": \\\"10941\\\"}, \\\"new\\\": 2010.0}, {\\\"attr\\\": \\\"start\\\", \\\"kind\\\": \\\"ModelChanged\\\", \\\"model\\\": {\\\"id\\\": \\\"10942\\\"}, \\\"new\\\": 331.4269906464192}, {\\\"attr\\\": \\\"reset_start\\\", \\\"kind\\\": \\\"ModelChanged\\\", \\\"model\\\": {\\\"id\\\": \\\"10942\\\"}, \\\"new\\\": 331.4269906464192}, {\\\"attr\\\": \\\"end\\\", \\\"kind\\\": \\\"ModelChanged\\\", \\\"model\\\": {\\\"id\\\": \\\"10942\\\"}, \\\"new\\\": 842.0473477000174}, {\\\"attr\\\": \\\"reset_end\\\", \\\"kind\\\": \\\"ModelChanged\\\", \\\"model\\\": {\\\"id\\\": \\\"10942\\\"}, \\\"new\\\": 842.0473477000174}, {\\\"attr\\\": \\\"text\\\", \\\"kind\\\": \\\"ModelChanged\\\", \\\"model\\\": {\\\"id\\\": \\\"10945\\\"}, \\\"new\\\": \\\"neighborhood: Noe Valley\\\"}, {\\\"cols\\\": null, \\\"column_source\\\": {\\\"id\\\": \\\"10974\\\"}, \\\"kind\\\": \\\"ColumnDataChanged\\\", \\\"new\\\": {\\\"sale_price_sqr_foot\\\": {\\\"__ndarray__\\\": \\\"GS5CEjfSd0B9QsWzqF93QIDKIsFZwHpAI9iT7YI4g0DciMZ4aXaEQKBBKlfNBIFAOogEGPf7iEA=\\\", \\\"dtype\\\": \\\"float64\\\", \\\"shape\\\": [7]}, \\\"year\\\": [2010, 2011, 2012, 2013, 2014, 2015, 2016]}}], \\\"references\\\": []}\",\"header\":\"{\\\"msgid\\\": \\\"11183\\\", \\\"msgtype\\\": \\\"PATCH-DOC\\\"}\",\"metadata\":\"{}\"},\"North Beach\":{\"content\":\"{\\\"events\\\": [{\\\"attr\\\": \\\"end\\\", \\\"kind\\\": \\\"ModelChanged\\\", \\\"model\\\": {\\\"id\\\": \\\"10941\\\"}, \\\"new\\\": 2016.0}, {\\\"attr\\\": \\\"reset_end\\\", \\\"kind\\\": \\\"ModelChanged\\\", \\\"model\\\": {\\\"id\\\": \\\"10941\\\"}, \\\"new\\\": 2016.0}, {\\\"attr\\\": \\\"start\\\", \\\"kind\\\": \\\"ModelChanged\\\", \\\"model\\\": {\\\"id\\\": \\\"10942\\\"}, \\\"new\\\": 268.2957866693006}, {\\\"attr\\\": \\\"reset_start\\\", \\\"kind\\\": \\\"ModelChanged\\\", \\\"model\\\": {\\\"id\\\": \\\"10942\\\"}, \\\"new\\\": 268.2957866693006}, {\\\"attr\\\": \\\"end\\\", \\\"kind\\\": \\\"ModelChanged\\\", \\\"model\\\": {\\\"id\\\": \\\"10942\\\"}, \\\"new\\\": 539.7987391572228}, {\\\"attr\\\": \\\"reset_end\\\", \\\"kind\\\": \\\"ModelChanged\\\", \\\"model\\\": {\\\"id\\\": \\\"10942\\\"}, \\\"new\\\": 539.7987391572228}, {\\\"attr\\\": \\\"text\\\", \\\"kind\\\": \\\"ModelChanged\\\", \\\"model\\\": {\\\"id\\\": \\\"10945\\\"}, \\\"new\\\": \\\"neighborhood: North Beach\\\"}, {\\\"cols\\\": null, \\\"column_source\\\": {\\\"id\\\": \\\"10974\\\"}, \\\"kind\\\": \\\"ColumnDataChanged\\\", \\\"new\\\": {\\\"sale_price_sqr_foot\\\": {\\\"__ndarray__\\\": \\\"P33LjLwuckC+7VtQYymAQEOToDR6m3hA0knGOugNfEByKLVn2nh5QA==\\\", \\\"dtype\\\": \\\"float64\\\", \\\"shape\\\": [5]}, \\\"year\\\": [2011, 2012, 2013, 2015, 2016]}}], \\\"references\\\": []}\",\"header\":\"{\\\"msgid\\\": \\\"11178\\\", \\\"msgtype\\\": \\\"PATCH-DOC\\\"}\",\"metadata\":\"{}\"},\"North Waterfront\":{\"content\":\"{\\\"events\\\": [{\\\"attr\\\": \\\"start\\\", \\\"kind\\\": \\\"ModelChanged\\\", \\\"model\\\": {\\\"id\\\": \\\"10941\\\"}, \\\"new\\\": 2011.0}, {\\\"attr\\\": \\\"reset_start\\\", \\\"kind\\\": \\\"ModelChanged\\\", \\\"model\\\": {\\\"id\\\": \\\"10941\\\"}, \\\"new\\\": 2011.0}, {\\\"attr\\\": \\\"start\\\", \\\"kind\\\": \\\"ModelChanged\\\", \\\"model\\\": {\\\"id\\\": \\\"10942\\\"}, \\\"new\\\": 292.566316699521}, {\\\"attr\\\": \\\"reset_start\\\", \\\"kind\\\": \\\"ModelChanged\\\", \\\"model\\\": {\\\"id\\\": \\\"10942\\\"}, \\\"new\\\": 292.566316699521}, {\\\"attr\\\": \\\"end\\\", \\\"kind\\\": \\\"ModelChanged\\\", \\\"model\\\": {\\\"id\\\": \\\"10942\\\"}, \\\"new\\\": 945.3044364924947}, {\\\"attr\\\": \\\"reset_end\\\", \\\"kind\\\": \\\"ModelChanged\\\", \\\"model\\\": {\\\"id\\\": \\\"10942\\\"}, \\\"new\\\": 945.3044364924947}, {\\\"attr\\\": \\\"text\\\", \\\"kind\\\": \\\"ModelChanged\\\", \\\"model\\\": {\\\"id\\\": \\\"10945\\\"}, \\\"new\\\": \\\"neighborhood: North Waterfront\\\"}, {\\\"cols\\\": null, \\\"column_source\\\": {\\\"id\\\": \\\"10974\\\"}, \\\"kind\\\": \\\"ColumnDataChanged\\\", \\\"new\\\": {\\\"sale_price_sqr_foot\\\": {\\\"__ndarray__\\\": \\\"vxNT6WCvdUByVgFHJGZ4QBwxImuzMn5A+QsZSM6+d0DjisnYRteLQA==\\\", \\\"dtype\\\": \\\"float64\\\", \\\"shape\\\": [5]}, \\\"year\\\": [2011, 2012, 2013, 2014, 2015]}}], \\\"references\\\": []}\",\"header\":\"{\\\"msgid\\\": \\\"11173\\\", \\\"msgtype\\\": \\\"PATCH-DOC\\\"}\",\"metadata\":\"{}\"},\"Oceanview\":{\"content\":\"{\\\"events\\\": [{\\\"attr\\\": \\\"start\\\", \\\"kind\\\": \\\"ModelChanged\\\", \\\"model\\\": {\\\"id\\\": \\\"10941\\\"}, \\\"new\\\": 2010.0}, {\\\"attr\\\": \\\"reset_start\\\", \\\"kind\\\": \\\"ModelChanged\\\", \\\"model\\\": {\\\"id\\\": \\\"10941\\\"}, \\\"new\\\": 2010.0}, {\\\"attr\\\": \\\"end\\\", \\\"kind\\\": \\\"ModelChanged\\\", \\\"model\\\": {\\\"id\\\": \\\"10941\\\"}, \\\"new\\\": 2015.0}, {\\\"attr\\\": \\\"reset_end\\\", \\\"kind\\\": \\\"ModelChanged\\\", \\\"model\\\": {\\\"id\\\": \\\"10941\\\"}, \\\"new\\\": 2015.0}, {\\\"attr\\\": \\\"start\\\", \\\"kind\\\": \\\"ModelChanged\\\", \\\"model\\\": {\\\"id\\\": \\\"10942\\\"}, \\\"new\\\": 248.2985434574814}, {\\\"attr\\\": \\\"reset_start\\\", \\\"kind\\\": \\\"ModelChanged\\\", \\\"model\\\": {\\\"id\\\": \\\"10942\\\"}, \\\"new\\\": 248.2985434574814}, {\\\"attr\\\": \\\"end\\\", \\\"kind\\\": \\\"ModelChanged\\\", \\\"model\\\": {\\\"id\\\": \\\"10942\\\"}, \\\"new\\\": 459.8739400069461}, {\\\"attr\\\": \\\"reset_end\\\", \\\"kind\\\": \\\"ModelChanged\\\", \\\"model\\\": {\\\"id\\\": \\\"10942\\\"}, \\\"new\\\": 459.8739400069461}, {\\\"attr\\\": \\\"text\\\", \\\"kind\\\": \\\"ModelChanged\\\", \\\"model\\\": {\\\"id\\\": \\\"10945\\\"}, \\\"new\\\": \\\"neighborhood: Oceanview\\\"}, {\\\"cols\\\": null, \\\"column_source\\\": {\\\"id\\\": \\\"10974\\\"}, \\\"kind\\\": \\\"ColumnDataChanged\\\", \\\"new\\\": {\\\"sale_price_sqr_foot\\\": {\\\"__ndarray__\\\": \\\"jJidK+qhcUAVBUTs4aN7QP1nwZHgnnBA\\\", \\\"dtype\\\": \\\"float64\\\", \\\"shape\\\": [3]}, \\\"year\\\": [2010, 2012, 2015]}}], \\\"references\\\": []}\",\"header\":\"{\\\"msgid\\\": \\\"11168\\\", \\\"msgtype\\\": \\\"PATCH-DOC\\\"}\",\"metadata\":\"{}\"},\"Outer Mission\":{\"content\":\"{\\\"events\\\": [{\\\"attr\\\": \\\"start\\\", \\\"kind\\\": \\\"ModelChanged\\\", \\\"model\\\": {\\\"id\\\": \\\"10941\\\"}, \\\"new\\\": 2011.0}, {\\\"attr\\\": \\\"reset_start\\\", \\\"kind\\\": \\\"ModelChanged\\\", \\\"model\\\": {\\\"id\\\": \\\"10941\\\"}, \\\"new\\\": 2011.0}, {\\\"attr\\\": \\\"start\\\", \\\"kind\\\": \\\"ModelChanged\\\", \\\"model\\\": {\\\"id\\\": \\\"10942\\\"}, \\\"new\\\": -11.618859759594542}, {\\\"attr\\\": \\\"reset_start\\\", \\\"kind\\\": \\\"ModelChanged\\\", \\\"model\\\": {\\\"id\\\": \\\"10942\\\"}, \\\"new\\\": -11.618859759594542}, {\\\"attr\\\": \\\"end\\\", \\\"kind\\\": \\\"ModelChanged\\\", \\\"model\\\": {\\\"id\\\": \\\"10942\\\"}, \\\"new\\\": 617.0789615776667}, {\\\"attr\\\": \\\"reset_end\\\", \\\"kind\\\": \\\"ModelChanged\\\", \\\"model\\\": {\\\"id\\\": \\\"10942\\\"}, \\\"new\\\": 617.0789615776667}, {\\\"attr\\\": \\\"text\\\", \\\"kind\\\": \\\"ModelChanged\\\", \\\"model\\\": {\\\"id\\\": \\\"10945\\\"}, \\\"new\\\": \\\"neighborhood: Outer Mission\\\"}, {\\\"cols\\\": null, \\\"column_source\\\": {\\\"id\\\": \\\"10974\\\"}, \\\"kind\\\": \\\"ColumnDataChanged\\\", \\\"new\\\": {\\\"sale_price_sqr_foot\\\": {\\\"__ndarray__\\\": \\\"VAHB6Y/EYUDRheJJMrxrQMNZqfN/pYFAch01Y+ViREA=\\\", \\\"dtype\\\": \\\"float64\\\", \\\"shape\\\": [4]}, \\\"year\\\": [2011, 2012, 2015, 2016]}}], \\\"references\\\": []}\",\"header\":\"{\\\"msgid\\\": \\\"11163\\\", \\\"msgtype\\\": \\\"PATCH-DOC\\\"}\",\"metadata\":\"{}\"},\"Outer Parkside\":{\"content\":\"{\\\"events\\\": [{\\\"attr\\\": \\\"start\\\", \\\"kind\\\": \\\"ModelChanged\\\", \\\"model\\\": {\\\"id\\\": \\\"10942\\\"}, \\\"new\\\": 192.8681537267593}, {\\\"attr\\\": \\\"reset_start\\\", \\\"kind\\\": \\\"ModelChanged\\\", \\\"model\\\": {\\\"id\\\": \\\"10942\\\"}, \\\"new\\\": 192.8681537267593}, {\\\"attr\\\": \\\"end\\\", \\\"kind\\\": \\\"ModelChanged\\\", \\\"model\\\": {\\\"id\\\": \\\"10942\\\"}, \\\"new\\\": 781.7981869074372}, {\\\"attr\\\": \\\"reset_end\\\", \\\"kind\\\": \\\"ModelChanged\\\", \\\"model\\\": {\\\"id\\\": \\\"10942\\\"}, \\\"new\\\": 781.7981869074372}, {\\\"attr\\\": \\\"text\\\", \\\"kind\\\": \\\"ModelChanged\\\", \\\"model\\\": {\\\"id\\\": \\\"10945\\\"}, \\\"new\\\": \\\"neighborhood: Outer Parkside\\\"}, {\\\"cols\\\": null, \\\"column_source\\\": {\\\"id\\\": \\\"10974\\\"}, \\\"kind\\\": \\\"ColumnDataChanged\\\", \\\"new\\\": {\\\"sale_price_sqr_foot\\\": {\\\"__ndarray__\\\": \\\"nUKf6h8De0AqM2fRQj5uQH6d/P9XjXNAQqfjLN9Dd0DfE9xHtVeEQIwwtcJNYoRAKzIM9sPlhkA=\\\", \\\"dtype\\\": \\\"float64\\\", \\\"shape\\\": [7]}, \\\"year\\\": [2010, 2011, 2012, 2013, 2014, 2015, 2016]}}], \\\"references\\\": []}\",\"header\":\"{\\\"msgid\\\": \\\"11158\\\", \\\"msgtype\\\": \\\"PATCH-DOC\\\"}\",\"metadata\":\"{}\"},\"Outer Richmond \":{\"content\":\"{\\\"events\\\": [{\\\"attr\\\": \\\"start\\\", \\\"kind\\\": \\\"ModelChanged\\\", \\\"model\\\": {\\\"id\\\": \\\"10942\\\"}, \\\"new\\\": 178.53460983386742}, {\\\"attr\\\": \\\"reset_start\\\", \\\"kind\\\": \\\"ModelChanged\\\", \\\"model\\\": {\\\"id\\\": \\\"10942\\\"}, \\\"new\\\": 178.53460983386742}, {\\\"attr\\\": \\\"end\\\", \\\"kind\\\": \\\"ModelChanged\\\", \\\"model\\\": {\\\"id\\\": \\\"10942\\\"}, \\\"new\\\": 1289.2009666593892}, {\\\"attr\\\": \\\"reset_end\\\", \\\"kind\\\": \\\"ModelChanged\\\", \\\"model\\\": {\\\"id\\\": \\\"10942\\\"}, \\\"new\\\": 1289.2009666593892}, {\\\"attr\\\": \\\"text\\\", \\\"kind\\\": \\\"ModelChanged\\\", \\\"model\\\": {\\\"id\\\": \\\"10945\\\"}, \\\"new\\\": \\\"neighborhood: Outer Richmond\\\"}, {\\\"cols\\\": null, \\\"column_source\\\": {\\\"id\\\": \\\"10974\\\"}, \\\"kind\\\": \\\"ColumnDataChanged\\\", \\\"new\\\": {\\\"sale_price_sqr_foot\\\": {\\\"__ndarray__\\\": \\\"B35J6gQidUBmZTA2cfFwQKF06NAgKnVARYFoaYbGdECvXdvZ9R55QL5PqQ58Z3tAoL9q7ZSykkA=\\\", \\\"dtype\\\": \\\"float64\\\", \\\"shape\\\": [7]}, \\\"year\\\": [2010, 2011, 2012, 2013, 2014, 2015, 2016]}}], \\\"references\\\": []}\",\"header\":\"{\\\"msgid\\\": \\\"11153\\\", \\\"msgtype\\\": \\\"PATCH-DOC\\\"}\",\"metadata\":\"{}\"},\"Outer Sunset\":{\"content\":\"{\\\"events\\\": [{\\\"attr\\\": \\\"start\\\", \\\"kind\\\": \\\"ModelChanged\\\", \\\"model\\\": {\\\"id\\\": \\\"10942\\\"}, \\\"new\\\": 275.9124229091034}, {\\\"attr\\\": \\\"reset_start\\\", \\\"kind\\\": \\\"ModelChanged\\\", \\\"model\\\": {\\\"id\\\": \\\"10942\\\"}, \\\"new\\\": 275.9124229091034}, {\\\"attr\\\": \\\"end\\\", \\\"kind\\\": \\\"ModelChanged\\\", \\\"model\\\": {\\\"id\\\": \\\"10942\\\"}, \\\"new\\\": 531.9100421512223}, {\\\"attr\\\": \\\"reset_end\\\", \\\"kind\\\": \\\"ModelChanged\\\", \\\"model\\\": {\\\"id\\\": \\\"10942\\\"}, \\\"new\\\": 531.9100421512223}, {\\\"attr\\\": \\\"text\\\", \\\"kind\\\": \\\"ModelChanged\\\", \\\"model\\\": {\\\"id\\\": \\\"10945\\\"}, \\\"new\\\": \\\"neighborhood: Outer Sunset\\\"}, {\\\"cols\\\": null, \\\"column_source\\\": {\\\"id\\\": \\\"10974\\\"}, \\\"kind\\\": \\\"ColumnDataChanged\\\", \\\"new\\\": {\\\"sale_price_sqr_foot\\\": {\\\"__ndarray__\\\": \\\"vsH9HfwEd0DfWRDO7ZNyQGMEtIPw0HlAduAUwFAhdECKxEQ80aV+QFgk0ahQXnZAWykPAzvpf0A=\\\", \\\"dtype\\\": \\\"float64\\\", \\\"shape\\\": [7]}, \\\"year\\\": [2010, 2011, 2012, 2013, 2014, 2015, 2016]}}], \\\"references\\\": []}\",\"header\":\"{\\\"msgid\\\": \\\"11148\\\", \\\"msgtype\\\": \\\"PATCH-DOC\\\"}\",\"metadata\":\"{}\"},\"Pacific Heights\":{\"content\":\"{\\\"events\\\": [{\\\"attr\\\": \\\"start\\\", \\\"kind\\\": \\\"ModelChanged\\\", \\\"model\\\": {\\\"id\\\": \\\"10942\\\"}, \\\"new\\\": 446.52867920530446}, {\\\"attr\\\": \\\"reset_start\\\", \\\"kind\\\": \\\"ModelChanged\\\", \\\"model\\\": {\\\"id\\\": \\\"10942\\\"}, \\\"new\\\": 446.52867920530446}, {\\\"attr\\\": \\\"end\\\", \\\"kind\\\": \\\"ModelChanged\\\", \\\"model\\\": {\\\"id\\\": \\\"10942\\\"}, \\\"new\\\": 1046.3766985050486}, {\\\"attr\\\": \\\"reset_end\\\", \\\"kind\\\": \\\"ModelChanged\\\", \\\"model\\\": {\\\"id\\\": \\\"10942\\\"}, \\\"new\\\": 1046.3766985050486}, {\\\"attr\\\": \\\"text\\\", \\\"kind\\\": \\\"ModelChanged\\\", \\\"model\\\": {\\\"id\\\": \\\"10945\\\"}, \\\"new\\\": \\\"neighborhood: Pacific Heights\\\"}, {\\\"cols\\\": null, \\\"column_source\\\": {\\\"id\\\": \\\"10974\\\"}, \\\"kind\\\": \\\"ColumnDataChanged\\\", \\\"new\\\": {\\\"sale_price_sqr_foot\\\": {\\\"__ndarray__\\\": \\\"xNYMmEEIf0BGT3H7V9B/QLX7Z+e+UYJANTLZX2N+f0DaISsBRcWJQFibs2OAcYxAktikah0jj0A=\\\", \\\"dtype\\\": \\\"float64\\\", \\\"shape\\\": [7]}, \\\"year\\\": [2010, 2011, 2012, 2013, 2014, 2015, 2016]}}], \\\"references\\\": []}\",\"header\":\"{\\\"msgid\\\": \\\"11143\\\", \\\"msgtype\\\": \\\"PATCH-DOC\\\"}\",\"metadata\":\"{}\"},\"Park North\":{\"content\":\"{\\\"events\\\": [{\\\"attr\\\": \\\"end\\\", \\\"kind\\\": \\\"ModelChanged\\\", \\\"model\\\": {\\\"id\\\": \\\"10941\\\"}, \\\"new\\\": 2016.0}, {\\\"attr\\\": \\\"reset_end\\\", \\\"kind\\\": \\\"ModelChanged\\\", \\\"model\\\": {\\\"id\\\": \\\"10941\\\"}, \\\"new\\\": 2016.0}, {\\\"attr\\\": \\\"start\\\", \\\"kind\\\": \\\"ModelChanged\\\", \\\"model\\\": {\\\"id\\\": \\\"10942\\\"}, \\\"new\\\": 170.7742680143736}, {\\\"attr\\\": \\\"reset_start\\\", \\\"kind\\\": \\\"ModelChanged\\\", \\\"model\\\": {\\\"id\\\": \\\"10942\\\"}, \\\"new\\\": 170.7742680143736}, {\\\"attr\\\": \\\"end\\\", \\\"kind\\\": \\\"ModelChanged\\\", \\\"model\\\": {\\\"id\\\": \\\"10942\\\"}, \\\"new\\\": 657.0994901626783}, {\\\"attr\\\": \\\"reset_end\\\", \\\"kind\\\": \\\"ModelChanged\\\", \\\"model\\\": {\\\"id\\\": \\\"10942\\\"}, \\\"new\\\": 657.0994901626783}, {\\\"attr\\\": \\\"text\\\", \\\"kind\\\": \\\"ModelChanged\\\", \\\"model\\\": {\\\"id\\\": \\\"10945\\\"}, \\\"new\\\": \\\"neighborhood: Park North\\\"}, {\\\"cols\\\": null, \\\"column_source\\\": {\\\"id\\\": \\\"10974\\\"}, \\\"kind\\\": \\\"ColumnDataChanged\\\", \\\"new\\\": {\\\"sale_price_sqr_foot\\\": {\\\"__ndarray__\\\": \\\"PTKCP0ZgdECglLmJsBlyQAQj45xBAXJAHcH4twsFgEB6Pk21yT53QIxwU0CURINAbp9n0qRpakA=\\\", \\\"dtype\\\": \\\"float64\\\", \\\"shape\\\": [7]}, \\\"year\\\": [2010, 2011, 2012, 2013, 2014, 2015, 2016]}}], \\\"references\\\": []}\",\"header\":\"{\\\"msgid\\\": \\\"11138\\\", \\\"msgtype\\\": \\\"PATCH-DOC\\\"}\",\"metadata\":\"{}\"},\"Parkside\":{\"content\":\"{\\\"events\\\": [{\\\"attr\\\": \\\"end\\\", \\\"kind\\\": \\\"ModelChanged\\\", \\\"model\\\": {\\\"id\\\": \\\"10941\\\"}, \\\"new\\\": 2015.0}, {\\\"attr\\\": \\\"reset_end\\\", \\\"kind\\\": \\\"ModelChanged\\\", \\\"model\\\": {\\\"id\\\": \\\"10941\\\"}, \\\"new\\\": 2015.0}, {\\\"attr\\\": \\\"start\\\", \\\"kind\\\": \\\"ModelChanged\\\", \\\"model\\\": {\\\"id\\\": \\\"10942\\\"}, \\\"new\\\": 194.69074100076128}, {\\\"attr\\\": \\\"reset_start\\\", \\\"kind\\\": \\\"ModelChanged\\\", \\\"model\\\": {\\\"id\\\": \\\"10942\\\"}, \\\"new\\\": 194.69074100076128}, {\\\"attr\\\": \\\"end\\\", \\\"kind\\\": \\\"ModelChanged\\\", \\\"model\\\": {\\\"id\\\": \\\"10942\\\"}, \\\"new\\\": 469.1072911349746}, {\\\"attr\\\": \\\"reset_end\\\", \\\"kind\\\": \\\"ModelChanged\\\", \\\"model\\\": {\\\"id\\\": \\\"10942\\\"}, \\\"new\\\": 469.1072911349746}, {\\\"attr\\\": \\\"text\\\", \\\"kind\\\": \\\"ModelChanged\\\", \\\"model\\\": {\\\"id\\\": \\\"10945\\\"}, \\\"new\\\": \\\"neighborhood: Parkside\\\"}, {\\\"cols\\\": null, \\\"column_source\\\": {\\\"id\\\": \\\"10974\\\"}, \\\"kind\\\": \\\"ColumnDataChanged\\\", \\\"new\\\": {\\\"sale_price_sqr_foot\\\": {\\\"__ndarray__\\\": \\\"jNs5+aoicUATPfOU4TFrQAWYW85hpHdAiGIrlP7JdkC/o97y0+N7QAAAAAAAAPh/\\\", \\\"dtype\\\": \\\"float64\\\", \\\"shape\\\": [6]}, \\\"year\\\": [2010, 2011, 2012, 2013, 2014, 2015]}}], \\\"references\\\": []}\",\"header\":\"{\\\"msgid\\\": \\\"11133\\\", \\\"msgtype\\\": \\\"PATCH-DOC\\\"}\",\"metadata\":\"{}\"},\"Parnassus/Ashbury Heights\":{\"content\":\"{\\\"events\\\": [{\\\"attr\\\": \\\"end\\\", \\\"kind\\\": \\\"ModelChanged\\\", \\\"model\\\": {\\\"id\\\": \\\"10941\\\"}, \\\"new\\\": 2016.0}, {\\\"attr\\\": \\\"reset_end\\\", \\\"kind\\\": \\\"ModelChanged\\\", \\\"model\\\": {\\\"id\\\": \\\"10941\\\"}, \\\"new\\\": 2016.0}, {\\\"attr\\\": \\\"start\\\", \\\"kind\\\": \\\"ModelChanged\\\", \\\"model\\\": {\\\"id\\\": \\\"10942\\\"}, \\\"new\\\": 347.4067323930735}, {\\\"attr\\\": \\\"reset_start\\\", \\\"kind\\\": \\\"ModelChanged\\\", \\\"model\\\": {\\\"id\\\": \\\"10942\\\"}, \\\"new\\\": 347.4067323930735}, {\\\"attr\\\": \\\"end\\\", \\\"kind\\\": \\\"ModelChanged\\\", \\\"model\\\": {\\\"id\\\": \\\"10942\\\"}, \\\"new\\\": 1286.233007645905}, {\\\"attr\\\": \\\"reset_end\\\", \\\"kind\\\": \\\"ModelChanged\\\", \\\"model\\\": {\\\"id\\\": \\\"10942\\\"}, \\\"new\\\": 1286.233007645905}, {\\\"attr\\\": \\\"text\\\", \\\"kind\\\": \\\"ModelChanged\\\", \\\"model\\\": {\\\"id\\\": \\\"10945\\\"}, \\\"new\\\": \\\"neighborhood: Parnassus/Ashbury Heights\\\"}, {\\\"cols\\\": null, \\\"column_source\\\": {\\\"id\\\": \\\"10974\\\"}, \\\"kind\\\": \\\"ColumnDataChanged\\\", \\\"new\\\": {\\\"sale_price_sqr_foot\\\": {\\\"__ndarray__\\\": \\\"g4gEfxQke0DyEqbo4il9QIwLoVteH4BAIpiGrUaaekD6hZfDPyuIQI7cJCG/6oJAYp+hbP3fkkA=\\\", \\\"dtype\\\": \\\"float64\\\", \\\"shape\\\": [7]}, \\\"year\\\": [2010, 2011, 2012, 2013, 2014, 2015, 2016]}}], \\\"references\\\": []}\",\"header\":\"{\\\"msgid\\\": \\\"11128\\\", \\\"msgtype\\\": \\\"PATCH-DOC\\\"}\",\"metadata\":\"{}\"},\"Portola\":{\"content\":\"{\\\"events\\\": [{\\\"attr\\\": \\\"end\\\", \\\"kind\\\": \\\"ModelChanged\\\", \\\"model\\\": {\\\"id\\\": \\\"10941\\\"}, \\\"new\\\": 2014.0}, {\\\"attr\\\": \\\"reset_end\\\", \\\"kind\\\": \\\"ModelChanged\\\", \\\"model\\\": {\\\"id\\\": \\\"10941\\\"}, \\\"new\\\": 2014.0}, {\\\"attr\\\": \\\"start\\\", \\\"kind\\\": \\\"ModelChanged\\\", \\\"model\\\": {\\\"id\\\": \\\"10942\\\"}, \\\"new\\\": 175.16432656549597}, {\\\"attr\\\": \\\"reset_start\\\", \\\"kind\\\": \\\"ModelChanged\\\", \\\"model\\\": {\\\"id\\\": \\\"10942\\\"}, \\\"new\\\": 175.16432656549597}, {\\\"attr\\\": \\\"end\\\", \\\"kind\\\": \\\"ModelChanged\\\", \\\"model\\\": {\\\"id\\\": \\\"10942\\\"}, \\\"new\\\": 571.2083687601738}, {\\\"attr\\\": \\\"reset_end\\\", \\\"kind\\\": \\\"ModelChanged\\\", \\\"model\\\": {\\\"id\\\": \\\"10942\\\"}, \\\"new\\\": 571.2083687601738}, {\\\"attr\\\": \\\"text\\\", \\\"kind\\\": \\\"ModelChanged\\\", \\\"model\\\": {\\\"id\\\": \\\"10945\\\"}, \\\"new\\\": \\\"neighborhood: Portola\\\"}, {\\\"cols\\\": null, \\\"column_source\\\": {\\\"id\\\": \\\"10974\\\"}, \\\"kind\\\": \\\"ColumnDataChanged\\\", \\\"new\\\": {\\\"sale_price_sqr_foot\\\": {\\\"__ndarray__\\\": \\\"SE2NcH/ickDYhLc6YAVqQMhgbA2x8HVArI0kR+x/bUDI9wE5o9GAQA==\\\", \\\"dtype\\\": \\\"float64\\\", \\\"shape\\\": [5]}, \\\"year\\\": [2010, 2011, 2012, 2013, 2014]}}], \\\"references\\\": []}\",\"header\":\"{\\\"msgid\\\": \\\"11123\\\", \\\"msgtype\\\": \\\"PATCH-DOC\\\"}\",\"metadata\":\"{}\"},\"Potrero Hill\":{\"content\":\"{\\\"events\\\": [{\\\"attr\\\": \\\"start\\\", \\\"kind\\\": \\\"ModelChanged\\\", \\\"model\\\": {\\\"id\\\": \\\"10942\\\"}, \\\"new\\\": 408.7924696461623}, {\\\"attr\\\": \\\"reset_start\\\", \\\"kind\\\": \\\"ModelChanged\\\", \\\"model\\\": {\\\"id\\\": \\\"10942\\\"}, \\\"new\\\": 408.7924696461623}, {\\\"attr\\\": \\\"end\\\", \\\"kind\\\": \\\"ModelChanged\\\", \\\"model\\\": {\\\"id\\\": \\\"10942\\\"}, \\\"new\\\": 1103.056916492821}, {\\\"attr\\\": \\\"reset_end\\\", \\\"kind\\\": \\\"ModelChanged\\\", \\\"model\\\": {\\\"id\\\": \\\"10942\\\"}, \\\"new\\\": 1103.056916492821}, {\\\"attr\\\": \\\"text\\\", \\\"kind\\\": \\\"ModelChanged\\\", \\\"model\\\": {\\\"id\\\": \\\"10945\\\"}, \\\"new\\\": \\\"neighborhood: Potrero Hill\\\"}, {\\\"cols\\\": null, \\\"column_source\\\": {\\\"id\\\": \\\"10974\\\"}, \\\"kind\\\": \\\"ColumnDataChanged\\\", \\\"new\\\": {\\\"sale_price_sqr_foot\\\": {\\\"__ndarray__\\\": \\\"h38+NzO3fkC1zY5QN3J/QFj9s41dKn1AlMC7a6O1gkAa4w1izlSQQF3nsW1oqolAxoQBfzYdhkA=\\\", \\\"dtype\\\": \\\"float64\\\", \\\"shape\\\": [7]}, \\\"year\\\": [2010, 2011, 2012, 2013, 2014, 2015, 2016]}}], \\\"references\\\": []}\",\"header\":\"{\\\"msgid\\\": \\\"11118\\\", \\\"msgtype\\\": \\\"PATCH-DOC\\\"}\",\"metadata\":\"{}\"},\"Presidio Heights\":{\"content\":\"{\\\"events\\\": [{\\\"attr\\\": \\\"start\\\", \\\"kind\\\": \\\"ModelChanged\\\", \\\"model\\\": {\\\"id\\\": \\\"10942\\\"}, \\\"new\\\": 322.67259264014115}, {\\\"attr\\\": \\\"reset_start\\\", \\\"kind\\\": \\\"ModelChanged\\\", \\\"model\\\": {\\\"id\\\": \\\"10942\\\"}, \\\"new\\\": 322.67259264014115}, {\\\"attr\\\": \\\"end\\\", \\\"kind\\\": \\\"ModelChanged\\\", \\\"model\\\": {\\\"id\\\": \\\"10942\\\"}, \\\"new\\\": 1569.9045858190066}, {\\\"attr\\\": \\\"reset_end\\\", \\\"kind\\\": \\\"ModelChanged\\\", \\\"model\\\": {\\\"id\\\": \\\"10942\\\"}, \\\"new\\\": 1569.9045858190066}, {\\\"attr\\\": \\\"text\\\", \\\"kind\\\": \\\"ModelChanged\\\", \\\"model\\\": {\\\"id\\\": \\\"10945\\\"}, \\\"new\\\": \\\"neighborhood: Presidio Heights\\\"}, {\\\"cols\\\": null, \\\"column_source\\\": {\\\"id\\\": \\\"10974\\\"}, \\\"kind\\\": \\\"ColumnDataChanged\\\", \\\"new\\\": {\\\"sale_price_sqr_foot\\\": {\\\"__ndarray__\\\": \\\"1qRW7FcrgUCiXLTmCd1+QNBJCsu8qXpA+gIs1LgGgECnjECkm9uCQAAAAAAAAPh/hyUc1d/nlkA=\\\", \\\"dtype\\\": \\\"float64\\\", \\\"shape\\\": [7]}, \\\"year\\\": [2010, 2011, 2012, 2013, 2014, 2015, 2016]}}], \\\"references\\\": []}\",\"header\":\"{\\\"msgid\\\": \\\"11113\\\", \\\"msgtype\\\": \\\"PATCH-DOC\\\"}\",\"metadata\":\"{}\"},\"Russian Hill\":{\"content\":\"{\\\"events\\\": [{\\\"attr\\\": \\\"start\\\", \\\"kind\\\": \\\"ModelChanged\\\", \\\"model\\\": {\\\"id\\\": \\\"10941\\\"}, \\\"new\\\": 2010.0}, {\\\"attr\\\": \\\"reset_start\\\", \\\"kind\\\": \\\"ModelChanged\\\", \\\"model\\\": {\\\"id\\\": \\\"10941\\\"}, \\\"new\\\": 2010.0}, {\\\"attr\\\": \\\"end\\\", \\\"kind\\\": \\\"ModelChanged\\\", \\\"model\\\": {\\\"id\\\": \\\"10941\\\"}, \\\"new\\\": 2016.0}, {\\\"attr\\\": \\\"reset_end\\\", \\\"kind\\\": \\\"ModelChanged\\\", \\\"model\\\": {\\\"id\\\": \\\"10941\\\"}, \\\"new\\\": 2016.0}, {\\\"attr\\\": \\\"start\\\", \\\"kind\\\": \\\"ModelChanged\\\", \\\"model\\\": {\\\"id\\\": \\\"10942\\\"}, \\\"new\\\": 296.14905859078186}, {\\\"attr\\\": \\\"reset_start\\\", \\\"kind\\\": \\\"ModelChanged\\\", \\\"model\\\": {\\\"id\\\": \\\"10942\\\"}, \\\"new\\\": 296.14905859078186}, {\\\"attr\\\": \\\"end\\\", \\\"kind\\\": \\\"ModelChanged\\\", \\\"model\\\": {\\\"id\\\": \\\"10942\\\"}, \\\"new\\\": 1090.5390424588552}, {\\\"attr\\\": \\\"reset_end\\\", \\\"kind\\\": \\\"ModelChanged\\\", \\\"model\\\": {\\\"id\\\": \\\"10942\\\"}, \\\"new\\\": 1090.5390424588552}, {\\\"attr\\\": \\\"text\\\", \\\"kind\\\": \\\"ModelChanged\\\", \\\"model\\\": {\\\"id\\\": \\\"10945\\\"}, \\\"new\\\": \\\"neighborhood: Russian Hill\\\"}, {\\\"cols\\\": null, \\\"column_source\\\": {\\\"id\\\": \\\"10974\\\"}, \\\"kind\\\": \\\"ColumnDataChanged\\\", \\\"new\\\": {\\\"sale_price_sqr_foot\\\": {\\\"__ndarray__\\\": \\\"qeg8U5KldkCz55glHwV8QBozkYia4nlAYr9O7qOjf0BeOprOxlGGQE8CCI8YyohA+YfACFwBkEA=\\\", \\\"dtype\\\": \\\"float64\\\", \\\"shape\\\": [7]}, \\\"year\\\": [2010, 2011, 2012, 2013, 2014, 2015, 2016]}}], \\\"references\\\": []}\",\"header\":\"{\\\"msgid\\\": \\\"11108\\\", \\\"msgtype\\\": \\\"PATCH-DOC\\\"}\",\"metadata\":\"{}\"},\"Silver Terrace\":{\"content\":\"{\\\"events\\\": [{\\\"attr\\\": \\\"start\\\", \\\"kind\\\": \\\"ModelChanged\\\", \\\"model\\\": {\\\"id\\\": \\\"10941\\\"}, \\\"new\\\": 2013.0}, {\\\"attr\\\": \\\"reset_start\\\", \\\"kind\\\": \\\"ModelChanged\\\", \\\"model\\\": {\\\"id\\\": \\\"10941\\\"}, \\\"new\\\": 2013.0}, {\\\"attr\\\": \\\"end\\\", \\\"kind\\\": \\\"ModelChanged\\\", \\\"model\\\": {\\\"id\\\": \\\"10941\\\"}, \\\"new\\\": 2015.0}, {\\\"attr\\\": \\\"reset_end\\\", \\\"kind\\\": \\\"ModelChanged\\\", \\\"model\\\": {\\\"id\\\": \\\"10941\\\"}, \\\"new\\\": 2015.0}, {\\\"attr\\\": \\\"start\\\", \\\"kind\\\": \\\"ModelChanged\\\", \\\"model\\\": {\\\"id\\\": \\\"10942\\\"}, \\\"new\\\": 169.09254851520691}, {\\\"attr\\\": \\\"reset_start\\\", \\\"kind\\\": \\\"ModelChanged\\\", \\\"model\\\": {\\\"id\\\": \\\"10942\\\"}, \\\"new\\\": 169.09254851520691}, {\\\"attr\\\": \\\"end\\\", \\\"kind\\\": \\\"ModelChanged\\\", \\\"model\\\": {\\\"id\\\": \\\"10942\\\"}, \\\"new\\\": 171.4925485152069}, {\\\"attr\\\": \\\"reset_end\\\", \\\"kind\\\": \\\"ModelChanged\\\", \\\"model\\\": {\\\"id\\\": \\\"10942\\\"}, \\\"new\\\": 171.4925485152069}, {\\\"attr\\\": \\\"text\\\", \\\"kind\\\": \\\"ModelChanged\\\", \\\"model\\\": {\\\"id\\\": \\\"10945\\\"}, \\\"new\\\": \\\"neighborhood: Silver Terrace\\\"}, {\\\"cols\\\": null, \\\"column_source\\\": {\\\"id\\\": \\\"10974\\\"}, \\\"kind\\\": \\\"ColumnDataChanged\\\", \\\"new\\\": {\\\"sale_price_sqr_foot\\\": {\\\"__ndarray__\\\": \\\"0ym0jlxJZUA=\\\", \\\"dtype\\\": \\\"float64\\\", \\\"shape\\\": [1]}, \\\"year\\\": [2014]}}], \\\"references\\\": []}\",\"header\":\"{\\\"msgid\\\": \\\"11103\\\", \\\"msgtype\\\": \\\"PATCH-DOC\\\"}\",\"metadata\":\"{}\"},\"South Beach\":{\"content\":\"{\\\"events\\\": [{\\\"attr\\\": \\\"end\\\", \\\"kind\\\": \\\"ModelChanged\\\", \\\"model\\\": {\\\"id\\\": \\\"10941\\\"}, \\\"new\\\": 2014.0}, {\\\"attr\\\": \\\"reset_end\\\", \\\"kind\\\": \\\"ModelChanged\\\", \\\"model\\\": {\\\"id\\\": \\\"10941\\\"}, \\\"new\\\": 2014.0}, {\\\"attr\\\": \\\"start\\\", \\\"kind\\\": \\\"ModelChanged\\\", \\\"model\\\": {\\\"id\\\": \\\"10942\\\"}, \\\"new\\\": 323.79879159351344}, {\\\"attr\\\": \\\"reset_start\\\", \\\"kind\\\": \\\"ModelChanged\\\", \\\"model\\\": {\\\"id\\\": \\\"10942\\\"}, \\\"new\\\": 323.79879159351344}, {\\\"attr\\\": \\\"end\\\", \\\"kind\\\": \\\"ModelChanged\\\", \\\"model\\\": {\\\"id\\\": \\\"10942\\\"}, \\\"new\\\": 1101.9453338498147}, {\\\"attr\\\": \\\"reset_end\\\", \\\"kind\\\": \\\"ModelChanged\\\", \\\"model\\\": {\\\"id\\\": \\\"10942\\\"}, \\\"new\\\": 1101.9453338498147}, {\\\"attr\\\": \\\"text\\\", \\\"kind\\\": \\\"ModelChanged\\\", \\\"model\\\": {\\\"id\\\": \\\"10945\\\"}, \\\"new\\\": \\\"neighborhood: South Beach\\\"}, {\\\"cols\\\": null, \\\"column_source\\\": {\\\"id\\\": \\\"10974\\\"}, \\\"kind\\\": \\\"ColumnDataChanged\\\", \\\"new\\\": {\\\"sale_price_sqr_foot\\\": {\\\"__ndarray__\\\": \\\"l7v/LmY0kEAWxRU0T0p4QKOvzdQIZYBA\\\", \\\"dtype\\\": \\\"float64\\\", \\\"shape\\\": [3]}, \\\"year\\\": [2010, 2011, 2014]}}], \\\"references\\\": []}\",\"header\":\"{\\\"msgid\\\": \\\"11098\\\", \\\"msgtype\\\": \\\"PATCH-DOC\\\"}\",\"metadata\":\"{}\"},\"South of Market\":{\"content\":\"{\\\"events\\\": [{\\\"attr\\\": \\\"start\\\", \\\"kind\\\": \\\"ModelChanged\\\", \\\"model\\\": {\\\"id\\\": \\\"10942\\\"}, \\\"new\\\": 259.7216603765349}, {\\\"attr\\\": \\\"reset_start\\\", \\\"kind\\\": \\\"ModelChanged\\\", \\\"model\\\": {\\\"id\\\": \\\"10942\\\"}, \\\"new\\\": 259.7216603765349}, {\\\"attr\\\": \\\"end\\\", \\\"kind\\\": \\\"ModelChanged\\\", \\\"model\\\": {\\\"id\\\": \\\"10942\\\"}, \\\"new\\\": 1198.031351581918}, {\\\"attr\\\": \\\"reset_end\\\", \\\"kind\\\": \\\"ModelChanged\\\", \\\"model\\\": {\\\"id\\\": \\\"10942\\\"}, \\\"new\\\": 1198.031351581918}, {\\\"attr\\\": \\\"text\\\", \\\"kind\\\": \\\"ModelChanged\\\", \\\"model\\\": {\\\"id\\\": \\\"10945\\\"}, \\\"new\\\": \\\"neighborhood: South of Market\\\"}, {\\\"cols\\\": null, \\\"column_source\\\": {\\\"id\\\": \\\"10974\\\"}, \\\"kind\\\": \\\"ColumnDataChanged\\\", \\\"new\\\": {\\\"sale_price_sqr_foot\\\": {\\\"__ndarray__\\\": \\\"NvbXUbwUeUDj6aVLoB51QFu0jVj1/HxAwhgJqydNekC8oacCW3+RQCGjXgupaIZAeO0bSxeZgEA=\\\", \\\"dtype\\\": \\\"float64\\\", \\\"shape\\\": [7]}, \\\"year\\\": [2010, 2011, 2012, 2013, 2014, 2015, 2016]}}], \\\"references\\\": []}\",\"header\":\"{\\\"msgid\\\": \\\"11093\\\", \\\"msgtype\\\": \\\"PATCH-DOC\\\"}\",\"metadata\":\"{}\"},\"Sunnyside\":{\"content\":\"{\\\"events\\\": [{\\\"attr\\\": \\\"start\\\", \\\"kind\\\": \\\"ModelChanged\\\", \\\"model\\\": {\\\"id\\\": \\\"10942\\\"}, \\\"new\\\": 405.76335854915556}, {\\\"attr\\\": \\\"reset_start\\\", \\\"kind\\\": \\\"ModelChanged\\\", \\\"model\\\": {\\\"id\\\": \\\"10942\\\"}, \\\"new\\\": 405.76335854915556}, {\\\"attr\\\": \\\"end\\\", \\\"kind\\\": \\\"ModelChanged\\\", \\\"model\\\": {\\\"id\\\": \\\"10942\\\"}, \\\"new\\\": 782.5746498630087}, {\\\"attr\\\": \\\"reset_end\\\", \\\"kind\\\": \\\"ModelChanged\\\", \\\"model\\\": {\\\"id\\\": \\\"10942\\\"}, \\\"new\\\": 782.5746498630087}, {\\\"attr\\\": \\\"text\\\", \\\"kind\\\": \\\"ModelChanged\\\", \\\"model\\\": {\\\"id\\\": \\\"10945\\\"}, \\\"new\\\": \\\"neighborhood: Sunnyside\\\"}, {\\\"cols\\\": null, \\\"column_source\\\": {\\\"id\\\": \\\"10974\\\"}, \\\"kind\\\": \\\"ColumnDataChanged\\\", \\\"new\\\": {\\\"sale_price_sqr_foot\\\": {\\\"__ndarray__\\\": \\\"f6R84kD0gECgDIH4oFJ7QPXbPGNbnX9AnvFbKErXfkARQeSF/3t7QNaZgMFjeYdA\\\", \\\"dtype\\\": \\\"float64\\\", \\\"shape\\\": [6]}, \\\"year\\\": [2010, 2011, 2013, 2014, 2015, 2016]}}], \\\"references\\\": []}\",\"header\":\"{\\\"msgid\\\": \\\"11088\\\", \\\"msgtype\\\": \\\"PATCH-DOC\\\"}\",\"metadata\":\"{}\"},\"Telegraph Hill\":{\"content\":\"{\\\"events\\\": [{\\\"attr\\\": \\\"start\\\", \\\"kind\\\": \\\"ModelChanged\\\", \\\"model\\\": {\\\"id\\\": \\\"10942\\\"}, \\\"new\\\": 412.68331174636455}, {\\\"attr\\\": \\\"reset_start\\\", \\\"kind\\\": \\\"ModelChanged\\\", \\\"model\\\": {\\\"id\\\": \\\"10942\\\"}, \\\"new\\\": 412.68331174636455}, {\\\"attr\\\": \\\"end\\\", \\\"kind\\\": \\\"ModelChanged\\\", \\\"model\\\": {\\\"id\\\": \\\"10942\\\"}, \\\"new\\\": 1050.1090303712745}, {\\\"attr\\\": \\\"reset_end\\\", \\\"kind\\\": \\\"ModelChanged\\\", \\\"model\\\": {\\\"id\\\": \\\"10942\\\"}, \\\"new\\\": 1050.1090303712745}, {\\\"attr\\\": \\\"text\\\", \\\"kind\\\": \\\"ModelChanged\\\", \\\"model\\\": {\\\"id\\\": \\\"10945\\\"}, \\\"new\\\": \\\"neighborhood: Telegraph Hill\\\"}, {\\\"cols\\\": null, \\\"column_source\\\": {\\\"id\\\": \\\"10974\\\"}, \\\"kind\\\": \\\"ColumnDataChanged\\\", \\\"new\\\": {\\\"sale_price_sqr_foot\\\": {\\\"__ndarray__\\\": \\\"COpLG1lmgEAS2VILfjZ+QB7+fX3VHH1AM0HkMH5qhECxLjJUiyGGQPfUt/jrJ49AqrAg7mU4jEA=\\\", \\\"dtype\\\": \\\"float64\\\", \\\"shape\\\": [7]}, \\\"year\\\": [2010, 2011, 2012, 2013, 2014, 2015, 2016]}}], \\\"references\\\": []}\",\"header\":\"{\\\"msgid\\\": \\\"11083\\\", \\\"msgtype\\\": \\\"PATCH-DOC\\\"}\",\"metadata\":\"{}\"},\"Twin Peaks\":{\"content\":\"{\\\"events\\\": [{\\\"attr\\\": \\\"end\\\", \\\"kind\\\": \\\"ModelChanged\\\", \\\"model\\\": {\\\"id\\\": \\\"10941\\\"}, \\\"new\\\": 2016.0}, {\\\"attr\\\": \\\"reset_end\\\", \\\"kind\\\": \\\"ModelChanged\\\", \\\"model\\\": {\\\"id\\\": \\\"10941\\\"}, \\\"new\\\": 2016.0}, {\\\"attr\\\": \\\"start\\\", \\\"kind\\\": \\\"ModelChanged\\\", \\\"model\\\": {\\\"id\\\": \\\"10942\\\"}, \\\"new\\\": 216.0151160609511}, {\\\"attr\\\": \\\"reset_start\\\", \\\"kind\\\": \\\"ModelChanged\\\", \\\"model\\\": {\\\"id\\\": \\\"10942\\\"}, \\\"new\\\": 216.0151160609511}, {\\\"attr\\\": \\\"end\\\", \\\"kind\\\": \\\"ModelChanged\\\", \\\"model\\\": {\\\"id\\\": \\\"10942\\\"}, \\\"new\\\": 1038.6373204513354}, {\\\"attr\\\": \\\"reset_end\\\", \\\"kind\\\": \\\"ModelChanged\\\", \\\"model\\\": {\\\"id\\\": \\\"10942\\\"}, \\\"new\\\": 1038.6373204513354}, {\\\"attr\\\": \\\"text\\\", \\\"kind\\\": \\\"ModelChanged\\\", \\\"model\\\": {\\\"id\\\": \\\"10945\\\"}, \\\"new\\\": \\\"neighborhood: Twin Peaks\\\"}, {\\\"cols\\\": null, \\\"column_source\\\": {\\\"id\\\": \\\"10974\\\"}, \\\"kind\\\": \\\"ColumnDataChanged\\\", \\\"new\\\": {\\\"sale_price_sqr_foot\\\": {\\\"__ndarray__\\\": \\\"WOE2XOW4dEC1UWNLEslxQAmC4vRkDnNA+JW2mPjmeUDKE/I0SpeBQBwTSrZdFXpACq/wCq9QjkA=\\\", \\\"dtype\\\": \\\"float64\\\", \\\"shape\\\": [7]}, \\\"year\\\": [2010, 2011, 2012, 2013, 2014, 2015, 2016]}}], \\\"references\\\": []}\",\"header\":\"{\\\"msgid\\\": \\\"11078\\\", \\\"msgtype\\\": \\\"PATCH-DOC\\\"}\",\"metadata\":\"{}\"},\"Union Square District\":{\"content\":\"{\\\"events\\\": [{\\\"attr\\\": \\\"end\\\", \\\"kind\\\": \\\"ModelChanged\\\", \\\"model\\\": {\\\"id\\\": \\\"10941\\\"}, \\\"new\\\": 2015.0}, {\\\"attr\\\": \\\"reset_end\\\", \\\"kind\\\": \\\"ModelChanged\\\", \\\"model\\\": {\\\"id\\\": \\\"10941\\\"}, \\\"new\\\": 2015.0}, {\\\"attr\\\": \\\"start\\\", \\\"kind\\\": \\\"ModelChanged\\\", \\\"model\\\": {\\\"id\\\": \\\"10942\\\"}, \\\"new\\\": 106.46529489082496}, {\\\"attr\\\": \\\"reset_start\\\", \\\"kind\\\": \\\"ModelChanged\\\", \\\"model\\\": {\\\"id\\\": \\\"10942\\\"}, \\\"new\\\": 106.46529489082496}, {\\\"attr\\\": \\\"end\\\", \\\"kind\\\": \\\"ModelChanged\\\", \\\"model\\\": {\\\"id\\\": \\\"10942\\\"}, \\\"new\\\": 2454.3607899172216}, {\\\"attr\\\": \\\"reset_end\\\", \\\"kind\\\": \\\"ModelChanged\\\", \\\"model\\\": {\\\"id\\\": \\\"10942\\\"}, \\\"new\\\": 2454.3607899172216}, {\\\"attr\\\": \\\"text\\\", \\\"kind\\\": \\\"ModelChanged\\\", \\\"model\\\": {\\\"id\\\": \\\"10945\\\"}, \\\"new\\\": \\\"neighborhood: Union Square District\\\"}, {\\\"cols\\\": null, \\\"column_source\\\": {\\\"id\\\": \\\"10974\\\"}, \\\"kind\\\": \\\"ColumnDataChanged\\\", \\\"new\\\": {\\\"sale_price_sqr_foot\\\": {\\\"__ndarray__\\\": \\\"4Ic3LozJgUA7LPDX+OFyQDQwzQom03tAML7sb+MplEBCsqZAK3KBQAl/mNlnpaFA\\\", \\\"dtype\\\": \\\"float64\\\", \\\"shape\\\": [6]}, \\\"year\\\": [2010, 2011, 2012, 2013, 2014, 2015]}}], \\\"references\\\": []}\",\"header\":\"{\\\"msgid\\\": \\\"11073\\\", \\\"msgtype\\\": \\\"PATCH-DOC\\\"}\",\"metadata\":\"{}\"},\"Van Ness/ Civic Center\":{\"content\":\"{\\\"events\\\": [{\\\"attr\\\": \\\"start\\\", \\\"kind\\\": \\\"ModelChanged\\\", \\\"model\\\": {\\\"id\\\": \\\"10941\\\"}, \\\"new\\\": 2010.0}, {\\\"attr\\\": \\\"reset_start\\\", \\\"kind\\\": \\\"ModelChanged\\\", \\\"model\\\": {\\\"id\\\": \\\"10941\\\"}, \\\"new\\\": 2010.0}, {\\\"attr\\\": \\\"start\\\", \\\"kind\\\": \\\"ModelChanged\\\", \\\"model\\\": {\\\"id\\\": \\\"10942\\\"}, \\\"new\\\": 51.03039638133734}, {\\\"attr\\\": \\\"reset_start\\\", \\\"kind\\\": \\\"ModelChanged\\\", \\\"model\\\": {\\\"id\\\": \\\"10942\\\"}, \\\"new\\\": 51.03039638133734}, {\\\"attr\\\": \\\"end\\\", \\\"kind\\\": \\\"ModelChanged\\\", \\\"model\\\": {\\\"id\\\": \\\"10942\\\"}, \\\"new\\\": 734.8207623233469}, {\\\"attr\\\": \\\"reset_end\\\", \\\"kind\\\": \\\"ModelChanged\\\", \\\"model\\\": {\\\"id\\\": \\\"10942\\\"}, \\\"new\\\": 734.8207623233469}, {\\\"attr\\\": \\\"text\\\", \\\"kind\\\": \\\"ModelChanged\\\", \\\"model\\\": {\\\"id\\\": \\\"10945\\\"}, \\\"new\\\": \\\"neighborhood: Van Ness/ Civic Center\\\"}, {\\\"cols\\\": null, \\\"column_source\\\": {\\\"id\\\": \\\"10974\\\"}, \\\"kind\\\": \\\"ColumnDataChanged\\\", \\\"new\\\": {\\\"sale_price_sqr_foot\\\": {\\\"__ndarray__\\\": \\\"9/Q/y9MAW0C4de7wyQN4QCWBKCJUn3VAuVvU7ybQcUD2TkF+SrZ9QPqD47K0LoVAmVO3DtJEgUA=\\\", \\\"dtype\\\": \\\"float64\\\", \\\"shape\\\": [7]}, \\\"year\\\": [2010, 2011, 2012, 2013, 2014, 2015, 2016]}}], \\\"references\\\": []}\",\"header\":\"{\\\"msgid\\\": \\\"11068\\\", \\\"msgtype\\\": \\\"PATCH-DOC\\\"}\",\"metadata\":\"{}\"},\"Visitacion Valley\":{\"content\":\"{\\\"events\\\": [{\\\"attr\\\": \\\"start\\\", \\\"kind\\\": \\\"ModelChanged\\\", \\\"model\\\": {\\\"id\\\": \\\"10941\\\"}, \\\"new\\\": 2013.0}, {\\\"attr\\\": \\\"reset_start\\\", \\\"kind\\\": \\\"ModelChanged\\\", \\\"model\\\": {\\\"id\\\": \\\"10941\\\"}, \\\"new\\\": 2013.0}, {\\\"attr\\\": \\\"end\\\", \\\"kind\\\": \\\"ModelChanged\\\", \\\"model\\\": {\\\"id\\\": \\\"10941\\\"}, \\\"new\\\": 2016.0}, {\\\"attr\\\": \\\"reset_end\\\", \\\"kind\\\": \\\"ModelChanged\\\", \\\"model\\\": {\\\"id\\\": \\\"10941\\\"}, \\\"new\\\": 2016.0}, {\\\"attr\\\": \\\"start\\\", \\\"kind\\\": \\\"ModelChanged\\\", \\\"model\\\": {\\\"id\\\": \\\"10942\\\"}, \\\"new\\\": 277.39611446160455}, {\\\"attr\\\": \\\"reset_start\\\", \\\"kind\\\": \\\"ModelChanged\\\", \\\"model\\\": {\\\"id\\\": \\\"10942\\\"}, \\\"new\\\": 277.39611446160455}, {\\\"attr\\\": \\\"end\\\", \\\"kind\\\": \\\"ModelChanged\\\", \\\"model\\\": {\\\"id\\\": \\\"10942\\\"}, \\\"new\\\": 332.94836052432925}, {\\\"attr\\\": \\\"reset_end\\\", \\\"kind\\\": \\\"ModelChanged\\\", \\\"model\\\": {\\\"id\\\": \\\"10942\\\"}, \\\"new\\\": 332.94836052432925}, {\\\"attr\\\": \\\"text\\\", \\\"kind\\\": \\\"ModelChanged\\\", \\\"model\\\": {\\\"id\\\": \\\"10945\\\"}, \\\"new\\\": \\\"neighborhood: Visitacion Valley\\\"}, {\\\"cols\\\": null, \\\"column_source\\\": {\\\"id\\\": \\\"10974\\\"}, \\\"kind\\\": \\\"ColumnDataChanged\\\", \\\"new\\\": {\\\"sale_price_sqr_foot\\\": {\\\"__ndarray__\\\": \\\"bh3vIcZUckCxxHJRaKBxQA8XZcqM43JAUinBphqFdEA=\\\", \\\"dtype\\\": \\\"float64\\\", \\\"shape\\\": [4]}, \\\"year\\\": [2013, 2014, 2015, 2016]}}], \\\"references\\\": []}\",\"header\":\"{\\\"msgid\\\": \\\"11063\\\", \\\"msgtype\\\": \\\"PATCH-DOC\\\"}\",\"metadata\":\"{}\"},\"West Portal\":{\"content\":\"{\\\"events\\\": [{\\\"attr\\\": \\\"end\\\", \\\"kind\\\": \\\"ModelChanged\\\", \\\"model\\\": {\\\"id\\\": \\\"10941\\\"}, \\\"new\\\": 2014.0}, {\\\"attr\\\": \\\"reset_end\\\", \\\"kind\\\": \\\"ModelChanged\\\", \\\"model\\\": {\\\"id\\\": \\\"10941\\\"}, \\\"new\\\": 2014.0}, {\\\"attr\\\": \\\"start\\\", \\\"kind\\\": \\\"ModelChanged\\\", \\\"model\\\": {\\\"id\\\": \\\"10942\\\"}, \\\"new\\\": 289.5966602407253}, {\\\"attr\\\": \\\"reset_start\\\", \\\"kind\\\": \\\"ModelChanged\\\", \\\"model\\\": {\\\"id\\\": \\\"10942\\\"}, \\\"new\\\": 289.5966602407253}, {\\\"attr\\\": \\\"end\\\", \\\"kind\\\": \\\"ModelChanged\\\", \\\"model\\\": {\\\"id\\\": \\\"10942\\\"}, \\\"new\\\": 723.981718124067}, {\\\"attr\\\": \\\"reset_end\\\", \\\"kind\\\": \\\"ModelChanged\\\", \\\"model\\\": {\\\"id\\\": \\\"10942\\\"}, \\\"new\\\": 723.981718124067}, {\\\"attr\\\": \\\"text\\\", \\\"kind\\\": \\\"ModelChanged\\\", \\\"model\\\": {\\\"id\\\": \\\"10945\\\"}, \\\"new\\\": \\\"neighborhood: West Portal\\\"}, {\\\"cols\\\": null, \\\"column_source\\\": {\\\"id\\\": \\\"10974\\\"}, \\\"kind\\\": \\\"ColumnDataChanged\\\", \\\"new\\\": {\\\"sale_price_sqr_foot\\\": {\\\"__ndarray__\\\": \\\"X0cX7s+EeEAugSUFulx0QOs5Di+ZYIJAY0tDgkN+hUA=\\\", \\\"dtype\\\": \\\"float64\\\", \\\"shape\\\": [4]}, \\\"year\\\": [2010, 2012, 2013, 2014]}}], \\\"references\\\": []}\",\"header\":\"{\\\"msgid\\\": \\\"11058\\\", \\\"msgtype\\\": \\\"PATCH-DOC\\\"}\",\"metadata\":\"{}\"},\"Western Addition\":{\"content\":\"{\\\"events\\\": [{\\\"attr\\\": \\\"start\\\", \\\"kind\\\": \\\"ModelChanged\\\", \\\"model\\\": {\\\"id\\\": \\\"10941\\\"}, \\\"new\\\": 2010.0}, {\\\"attr\\\": \\\"reset_start\\\", \\\"kind\\\": \\\"ModelChanged\\\", \\\"model\\\": {\\\"id\\\": \\\"10941\\\"}, \\\"new\\\": 2010.0}, {\\\"attr\\\": \\\"end\\\", \\\"kind\\\": \\\"ModelChanged\\\", \\\"model\\\": {\\\"id\\\": \\\"10941\\\"}, \\\"new\\\": 2015.0}, {\\\"attr\\\": \\\"reset_end\\\", \\\"kind\\\": \\\"ModelChanged\\\", \\\"model\\\": {\\\"id\\\": \\\"10941\\\"}, \\\"new\\\": 2015.0}, {\\\"attr\\\": \\\"start\\\", \\\"kind\\\": \\\"ModelChanged\\\", \\\"model\\\": {\\\"id\\\": \\\"10942\\\"}, \\\"new\\\": 188.97912331896887}, {\\\"attr\\\": \\\"reset_start\\\", \\\"kind\\\": \\\"ModelChanged\\\", \\\"model\\\": {\\\"id\\\": \\\"10942\\\"}, \\\"new\\\": 188.97912331896887}, {\\\"attr\\\": \\\"end\\\", \\\"kind\\\": \\\"ModelChanged\\\", \\\"model\\\": {\\\"id\\\": \\\"10942\\\"}, \\\"new\\\": 508.059255269849}, {\\\"attr\\\": \\\"reset_end\\\", \\\"kind\\\": \\\"ModelChanged\\\", \\\"model\\\": {\\\"id\\\": \\\"10942\\\"}, \\\"new\\\": 508.059255269849}, {\\\"attr\\\": \\\"text\\\", \\\"kind\\\": \\\"ModelChanged\\\", \\\"model\\\": {\\\"id\\\": \\\"10945\\\"}, \\\"new\\\": \\\"neighborhood: Western Addition\\\"}, {\\\"cols\\\": null, \\\"column_source\\\": {\\\"id\\\": \\\"10974\\\"}, \\\"kind\\\": \\\"ColumnDataChanged\\\", \\\"new\\\": {\\\"sale_price_sqr_foot\\\": {\\\"__ndarray__\\\": \\\"gK0qWTbyakDIEo9KaG1sQCp/FVVqJXFAdZUip9kia0B6M+4l0Nd6QK+mSAaCF35A\\\", \\\"dtype\\\": \\\"float64\\\", \\\"shape\\\": [6]}, \\\"year\\\": [2010, 2011, 2012, 2013, 2014, 2015]}}], \\\"references\\\": []}\",\"header\":\"{\\\"msgid\\\": \\\"11053\\\", \\\"msgtype\\\": \\\"PATCH-DOC\\\"}\",\"metadata\":\"{}\"},\"Westwood Highlands\":{\"content\":\"{\\\"events\\\": [{\\\"attr\\\": \\\"start\\\", \\\"kind\\\": \\\"ModelChanged\\\", \\\"model\\\": {\\\"id\\\": \\\"10941\\\"}, \\\"new\\\": 2011.0}, {\\\"attr\\\": \\\"reset_start\\\", \\\"kind\\\": \\\"ModelChanged\\\", \\\"model\\\": {\\\"id\\\": \\\"10941\\\"}, \\\"new\\\": 2011.0}, {\\\"attr\\\": \\\"end\\\", \\\"kind\\\": \\\"ModelChanged\\\", \\\"model\\\": {\\\"id\\\": \\\"10941\\\"}, \\\"new\\\": 2013.0}, {\\\"attr\\\": \\\"reset_end\\\", \\\"kind\\\": \\\"ModelChanged\\\", \\\"model\\\": {\\\"id\\\": \\\"10941\\\"}, \\\"new\\\": 2013.0}, {\\\"attr\\\": \\\"start\\\", \\\"kind\\\": \\\"ModelChanged\\\", \\\"model\\\": {\\\"id\\\": \\\"10942\\\"}, \\\"new\\\": 277.34841257850235}, {\\\"attr\\\": \\\"reset_start\\\", \\\"kind\\\": \\\"ModelChanged\\\", \\\"model\\\": {\\\"id\\\": \\\"10942\\\"}, \\\"new\\\": 277.34841257850235}, {\\\"attr\\\": \\\"end\\\", \\\"kind\\\": \\\"ModelChanged\\\", \\\"model\\\": {\\\"id\\\": \\\"10942\\\"}, \\\"new\\\": 790.0594582934003}, {\\\"attr\\\": \\\"reset_end\\\", \\\"kind\\\": \\\"ModelChanged\\\", \\\"model\\\": {\\\"id\\\": \\\"10942\\\"}, \\\"new\\\": 790.0594582934003}, {\\\"attr\\\": \\\"text\\\", \\\"kind\\\": \\\"ModelChanged\\\", \\\"model\\\": {\\\"id\\\": \\\"10945\\\"}, \\\"new\\\": \\\"neighborhood: Westwood Highlands\\\"}, {\\\"cols\\\": null, \\\"column_source\\\": {\\\"id\\\": \\\"10974\\\"}, \\\"kind\\\": \\\"ColumnDataChanged\\\", \\\"new\\\": {\\\"sale_price_sqr_foot\\\": {\\\"__ndarray__\\\": \\\"MHLbdzABdEBpBeAVq1qHQA==\\\", \\\"dtype\\\": \\\"float64\\\", \\\"shape\\\": [2]}, \\\"year\\\": [2011, 2013]}}], \\\"references\\\": []}\",\"header\":\"{\\\"msgid\\\": \\\"11048\\\", \\\"msgtype\\\": \\\"PATCH-DOC\\\"}\",\"metadata\":\"{}\"},\"Westwood Park\":{\"content\":\"{\\\"events\\\": [{\\\"attr\\\": \\\"start\\\", \\\"kind\\\": \\\"ModelChanged\\\", \\\"model\\\": {\\\"id\\\": \\\"10941\\\"}, \\\"new\\\": 2014.0}, {\\\"attr\\\": \\\"reset_start\\\", \\\"kind\\\": \\\"ModelChanged\\\", \\\"model\\\": {\\\"id\\\": \\\"10941\\\"}, \\\"new\\\": 2014.0}, {\\\"attr\\\": \\\"end\\\", \\\"kind\\\": \\\"ModelChanged\\\", \\\"model\\\": {\\\"id\\\": \\\"10941\\\"}, \\\"new\\\": 2016.0}, {\\\"attr\\\": \\\"reset_end\\\", \\\"kind\\\": \\\"ModelChanged\\\", \\\"model\\\": {\\\"id\\\": \\\"10941\\\"}, \\\"new\\\": 2016.0}, {\\\"attr\\\": \\\"start\\\", \\\"kind\\\": \\\"ModelChanged\\\", \\\"model\\\": {\\\"id\\\": \\\"10942\\\"}, \\\"new\\\": 620.0169961433245}, {\\\"attr\\\": \\\"reset_start\\\", \\\"kind\\\": \\\"ModelChanged\\\", \\\"model\\\": {\\\"id\\\": \\\"10942\\\"}, \\\"new\\\": 620.0169961433245}, {\\\"attr\\\": \\\"end\\\", \\\"kind\\\": \\\"ModelChanged\\\", \\\"model\\\": {\\\"id\\\": \\\"10942\\\"}, \\\"new\\\": 754.15815289234}, {\\\"attr\\\": \\\"reset_end\\\", \\\"kind\\\": \\\"ModelChanged\\\", \\\"model\\\": {\\\"id\\\": \\\"10942\\\"}, \\\"new\\\": 754.15815289234}, {\\\"attr\\\": \\\"text\\\", \\\"kind\\\": \\\"ModelChanged\\\", \\\"model\\\": {\\\"id\\\": \\\"10945\\\"}, \\\"new\\\": \\\"neighborhood: Westwood Park\\\"}, {\\\"cols\\\": null, \\\"column_source\\\": {\\\"id\\\": \\\"10974\\\"}, \\\"kind\\\": \\\"ColumnDataChanged\\\", \\\"new\\\": {\\\"sale_price_sqr_foot\\\": {\\\"__ndarray__\\\": \\\"hgoZedY3h0BRlnA7kLmDQA==\\\", \\\"dtype\\\": \\\"float64\\\", \\\"shape\\\": [2]}, \\\"year\\\": [2014, 2016]}}], \\\"references\\\": []}\",\"header\":\"{\\\"msgid\\\": \\\"11043\\\", \\\"msgtype\\\": \\\"PATCH-DOC\\\"}\",\"metadata\":\"{}\"},\"Yerba Buena\":{\"content\":\"{\\\"events\\\": [{\\\"attr\\\": \\\"end\\\", \\\"kind\\\": \\\"ModelChanged\\\", \\\"model\\\": {\\\"id\\\": \\\"10941\\\"}, \\\"new\\\": 2015.0}, {\\\"attr\\\": \\\"reset_end\\\", \\\"kind\\\": \\\"ModelChanged\\\", \\\"model\\\": {\\\"id\\\": \\\"10941\\\"}, \\\"new\\\": 2015.0}, {\\\"attr\\\": \\\"start\\\", \\\"kind\\\": \\\"ModelChanged\\\", \\\"model\\\": {\\\"id\\\": \\\"10942\\\"}, \\\"new\\\": 270.08719060972004}, {\\\"attr\\\": \\\"reset_start\\\", \\\"kind\\\": \\\"ModelChanged\\\", \\\"model\\\": {\\\"id\\\": \\\"10942\\\"}, \\\"new\\\": 270.08719060972004}, {\\\"attr\\\": \\\"end\\\", \\\"kind\\\": \\\"ModelChanged\\\", \\\"model\\\": {\\\"id\\\": \\\"10942\\\"}, \\\"new\\\": 1026.5621893963462}, {\\\"attr\\\": \\\"reset_end\\\", \\\"kind\\\": \\\"ModelChanged\\\", \\\"model\\\": {\\\"id\\\": \\\"10942\\\"}, \\\"new\\\": 1026.5621893963462}, {\\\"attr\\\": \\\"text\\\", \\\"kind\\\": \\\"ModelChanged\\\", \\\"model\\\": {\\\"id\\\": \\\"10945\\\"}, \\\"new\\\": \\\"neighborhood: Yerba Buena\\\"}, {\\\"cols\\\": null, \\\"column_source\\\": {\\\"id\\\": \\\"10974\\\"}, \\\"kind\\\": \\\"ColumnDataChanged\\\", \\\"new\\\": {\\\"sale_price_sqr_foot\\\": {\\\"__ndarray__\\\": \\\"2hECRAfSdEB3bevKxG17QBDwDygGvX5AZqvdXxeIh0Ae7tWsx/59QOv8I0wuHI5A\\\", \\\"dtype\\\": \\\"float64\\\", \\\"shape\\\": [6]}, \\\"year\\\": [2010, 2011, 2012, 2013, 2014, 2015]}}], \\\"references\\\": []}\",\"header\":\"{\\\"msgid\\\": \\\"11038\\\", \\\"msgtype\\\": \\\"PATCH-DOC\\\"}\",\"metadata\":\"{}\"}},\"values\":[\"Alamo Square\"],\"widgets\":{\"11006\":0}},\"id\":\"11016\",\"type\":\"panel.models.state.State\"},{\"attributes\":{\"line_color\":\"#1f77b3\",\"line_width\":2,\"x\":{\"field\":\"year\"},\"y\":{\"field\":\"sale_price_sqr_foot\"}},\"id\":\"10977\",\"type\":\"Line\"},{\"attributes\":{},\"id\":\"10962\",\"type\":\"PanTool\"},{\"attributes\":{\"bottom_units\":\"screen\",\"fill_alpha\":0.5,\"fill_color\":\"lightgrey\",\"left_units\":\"screen\",\"level\":\"overlay\",\"line_alpha\":1.0,\"line_color\":\"black\",\"line_dash\":[4,4],\"line_width\":2,\"render_mode\":\"css\",\"right_units\":\"screen\",\"top_units\":\"screen\"},\"id\":\"10966\",\"type\":\"BoxAnnotation\"},{\"attributes\":{\"data\":{\"sale_price_sqr_foot\":{\"__ndarray__\":\"Dkc7WO0yckCafszcbwhxQIGRs5ot42ZAJzog0LQ8eEAWMinKGEd+QI0V5FDt0IJAVCHcmLVPdUA=\",\"dtype\":\"float64\",\"shape\":[7]},\"year\":[2010,2011,2012,2013,2014,2015,2016]},\"selected\":{\"id\":\"10975\"},\"selection_policy\":{\"id\":\"11000\"}},\"id\":\"10974\",\"type\":\"ColumnDataSource\"}],\"root_ids\":[\"10939\",\"11016\"]},\"title\":\"Bokeh Application\",\"version\":\"2.0.1\"}};\n",
       "  var render_items = [{\"docid\":\"c46f892b-7451-4285-96d1-ad623abccabf\",\"root_ids\":[\"10939\"],\"roots\":{\"10939\":\"e8c23f2c-6a02-40a6-aab3-8d6f251edd2f\"}}];\n",
       "  root.Bokeh.embed.embed_items_notebook(docs_json, render_items);\n",
       "  }\n",
       "if (root.Bokeh !== undefined) {\n",
       "    embed_document(root);\n",
       "  } else {\n",
       "    var attempts = 0;\n",
       "    var timer = setInterval(function(root) {\n",
       "      if (root.Bokeh !== undefined) {\n",
       "        clearInterval(timer);\n",
       "        embed_document(root);\n",
       "      } else if (document.readyState == \"complete\") {\n",
       "        attempts++;\n",
       "        if (attempts > 100) {\n",
       "          clearInterval(timer);\n",
       "          console.log(\"Bokeh: ERROR: Unable to run BokehJS code because BokehJS library is missing\");\n",
       "        }\n",
       "      }\n",
       "    }, 10, root)\n",
       "  }\n",
       "})(window);</script>"
      ],
      "text/plain": [
       ":HoloMap   [neighborhood]\n",
       "   :Curve   [year]   (sale_price_sqr_foot)"
      ]
     },
     "execution_count": 52,
     "metadata": {
      "application/vnd.holoviews_exec.v0+json": {
       "id": "10939"
      }
     },
     "output_type": "execute_result"
    }
   ],
   "source": [
    "# Use hvplot to create an interactive line chart of the average price per sq ft.\n",
    "# The plot should have a dropdown selector for the neighborhood\n",
    "# YOUR CODE HERE!\n",
    "\n",
    "avg_prices_hood = avg_price_neighborhood_df.hvplot('year', groupby='neighborhood', width=700, dynamic=False, ylabel='Avg. Sale Price per Sqft')\n",
    "avg_prices_hood"
   ]
  },
  {
   "cell_type": "markdown",
   "metadata": {},
   "source": [
    "- - - "
   ]
  },
  {
   "cell_type": "markdown",
   "metadata": {},
   "source": [
    "## The Top 10 Most Expensive Neighborhoods\n",
    "\n",
    "In this section, you will need to calculate the mean sale price for each neighborhood and then sort the values to obtain the top 10 most expensive neighborhoods on average. Plot the results as a bar chart."
   ]
  },
  {
   "cell_type": "code",
   "execution_count": 141,
   "metadata": {},
   "outputs": [
    {
     "data": {
      "text/html": [
       "<div>\n",
       "<style scoped>\n",
       "    .dataframe tbody tr th:only-of-type {\n",
       "        vertical-align: middle;\n",
       "    }\n",
       "\n",
       "    .dataframe tbody tr th {\n",
       "        vertical-align: top;\n",
       "    }\n",
       "\n",
       "    .dataframe thead th {\n",
       "        text-align: right;\n",
       "    }\n",
       "</style>\n",
       "<table border=\"1\" class=\"dataframe\">\n",
       "  <thead>\n",
       "    <tr style=\"text-align: right;\">\n",
       "      <th></th>\n",
       "      <th>sale_price_sqr_foot</th>\n",
       "      <th>housing_units</th>\n",
       "      <th>gross_rent</th>\n",
       "    </tr>\n",
       "    <tr>\n",
       "      <th>neighborhood</th>\n",
       "      <th></th>\n",
       "      <th></th>\n",
       "      <th></th>\n",
       "    </tr>\n",
       "  </thead>\n",
       "  <tbody>\n",
       "    <tr>\n",
       "      <th>Union Square District</th>\n",
       "      <td>903.993258</td>\n",
       "      <td>377427.50</td>\n",
       "      <td>2555.166667</td>\n",
       "    </tr>\n",
       "    <tr>\n",
       "      <th>Merced Heights</th>\n",
       "      <td>788.844818</td>\n",
       "      <td>380348.00</td>\n",
       "      <td>3414.000000</td>\n",
       "    </tr>\n",
       "    <tr>\n",
       "      <th>Miraloma Park</th>\n",
       "      <td>779.810842</td>\n",
       "      <td>375967.25</td>\n",
       "      <td>2155.250000</td>\n",
       "    </tr>\n",
       "    <tr>\n",
       "      <th>Pacific Heights</th>\n",
       "      <td>689.555817</td>\n",
       "      <td>378401.00</td>\n",
       "      <td>2817.285714</td>\n",
       "    </tr>\n",
       "    <tr>\n",
       "      <th>Westwood Park</th>\n",
       "      <td>687.087575</td>\n",
       "      <td>382295.00</td>\n",
       "      <td>3959.000000</td>\n",
       "    </tr>\n",
       "    <tr>\n",
       "      <th>Telegraph Hill</th>\n",
       "      <td>676.506578</td>\n",
       "      <td>378401.00</td>\n",
       "      <td>2817.285714</td>\n",
       "    </tr>\n",
       "    <tr>\n",
       "      <th>Presidio Heights</th>\n",
       "      <td>675.350212</td>\n",
       "      <td>378401.00</td>\n",
       "      <td>2817.285714</td>\n",
       "    </tr>\n",
       "    <tr>\n",
       "      <th>Cow Hollow</th>\n",
       "      <td>665.964042</td>\n",
       "      <td>378401.00</td>\n",
       "      <td>2817.285714</td>\n",
       "    </tr>\n",
       "    <tr>\n",
       "      <th>Potrero Hill</th>\n",
       "      <td>662.013613</td>\n",
       "      <td>378401.00</td>\n",
       "      <td>2817.285714</td>\n",
       "    </tr>\n",
       "    <tr>\n",
       "      <th>South Beach</th>\n",
       "      <td>650.124479</td>\n",
       "      <td>375805.00</td>\n",
       "      <td>2099.000000</td>\n",
       "    </tr>\n",
       "  </tbody>\n",
       "</table>\n",
       "</div>"
      ],
      "text/plain": [
       "                       sale_price_sqr_foot  housing_units   gross_rent\n",
       "neighborhood                                                          \n",
       "Union Square District           903.993258      377427.50  2555.166667\n",
       "Merced Heights                  788.844818      380348.00  3414.000000\n",
       "Miraloma Park                   779.810842      375967.25  2155.250000\n",
       "Pacific Heights                 689.555817      378401.00  2817.285714\n",
       "Westwood Park                   687.087575      382295.00  3959.000000\n",
       "Telegraph Hill                  676.506578      378401.00  2817.285714\n",
       "Presidio Heights                675.350212      378401.00  2817.285714\n",
       "Cow Hollow                      665.964042      378401.00  2817.285714\n",
       "Potrero Hill                    662.013613      378401.00  2817.285714\n",
       "South Beach                     650.124479      375805.00  2099.000000"
      ]
     },
     "execution_count": 141,
     "metadata": {},
     "output_type": "execute_result"
    }
   ],
   "source": [
    "# Getting the data from the top 10 expensive neighborhoods\n",
    "# YOUR CODE HERE!\n",
    "\n",
    "avg_expensive = sfo_data.groupby(by=['neighborhood']).mean()\n",
    "avg_expensive = avg_expensive.sort_values('sale_price_sqr_foot', ascending=False)\n",
    "avg_top_10_expensive = avg_expensive.head(10)  \n",
    "avg_top_10_expensive"
   ]
  },
  {
   "cell_type": "code",
   "execution_count": 140,
   "metadata": {},
   "outputs": [
    {
     "name": "stderr",
     "output_type": "stream",
     "text": [
      "WARNING:param.BarPlot140935: title_format is deprecated. Please use title instead\n",
      "WARNING:param.BarPlot140935: title_format is deprecated. Please use title instead\n"
     ]
    },
    {
     "data": {},
     "metadata": {},
     "output_type": "display_data"
    },
    {
     "data": {
      "application/vnd.holoviews_exec.v0+json": "",
      "text/html": [
       "<div id='12671'>\n",
       "\n",
       "\n",
       "\n",
       "\n",
       "\n",
       "  <div class=\"bk-root\" id=\"ba23b28e-a6a8-4800-bf9c-0706223ba053\" data-root-id=\"12671\"></div>\n",
       "</div>\n",
       "<script type=\"application/javascript\">(function(root) {\n",
       "  function embed_document(root) {\n",
       "  var docs_json = {\"1d7db069-08db-4e4f-815e-be7b5b4e60f6\":{\"roots\":{\"references\":[{\"attributes\":{\"bottom_units\":\"screen\",\"fill_alpha\":0.5,\"fill_color\":\"lightgrey\",\"left_units\":\"screen\",\"level\":\"overlay\",\"line_alpha\":1.0,\"line_color\":\"black\",\"line_dash\":[4,4],\"line_width\":2,\"render_mode\":\"css\",\"right_units\":\"screen\",\"top_units\":\"screen\"},\"id\":\"12697\",\"type\":\"BoxAnnotation\"},{\"attributes\":{\"axis_label\":\"sale_price_sqr_foot\",\"bounds\":\"auto\",\"formatter\":{\"id\":\"12715\"},\"major_label_orientation\":\"horizontal\",\"ticker\":{\"id\":\"12689\"}},\"id\":\"12688\",\"type\":\"LinearAxis\"},{\"attributes\":{},\"id\":\"12689\",\"type\":\"BasicTicker\"},{\"attributes\":{\"axis_label\":\"neighborhood\",\"bounds\":\"auto\",\"formatter\":{\"id\":\"12713\"},\"major_label_orientation\":1.0471975511965976,\"ticker\":{\"id\":\"12686\"}},\"id\":\"12685\",\"type\":\"CategoricalAxis\"},{\"attributes\":{\"callback\":null,\"renderers\":[{\"id\":\"12711\"}],\"tags\":[\"hv_created\"],\"tooltips\":[[\"neighborhood\",\"@{neighborhood}\"],[\"sale_price_sqr_foot\",\"@{sale_price_sqr_foot}\"]]},\"id\":\"12675\",\"type\":\"HoverTool\"},{\"attributes\":{},\"id\":\"12692\",\"type\":\"SaveTool\"},{\"attributes\":{\"text\":\"Top 10 Most Expensive Neighborhoods in San Francisco\",\"text_color\":{\"value\":\"black\"},\"text_font_size\":{\"value\":\"12pt\"}},\"id\":\"12677\",\"type\":\"Title\"},{\"attributes\":{\"axis\":{\"id\":\"12685\"},\"grid_line_color\":null,\"ticker\":null},\"id\":\"12687\",\"type\":\"Grid\"},{\"attributes\":{},\"id\":\"12683\",\"type\":\"LinearScale\"},{\"attributes\":{\"margin\":[5,5,5,5],\"name\":\"HSpacer140910\",\"sizing_mode\":\"stretch_width\"},\"id\":\"12672\",\"type\":\"Spacer\"},{\"attributes\":{\"children\":[{\"id\":\"12672\"},{\"id\":\"12676\"},{\"id\":\"12725\"}],\"margin\":[0,0,0,0],\"name\":\"Row140906\",\"tags\":[\"embedded\"]},\"id\":\"12671\",\"type\":\"Row\"},{\"attributes\":{},\"id\":\"12686\",\"type\":\"CategoricalTicker\"},{\"attributes\":{\"active_drag\":\"auto\",\"active_inspect\":\"auto\",\"active_multi\":null,\"active_scroll\":\"auto\",\"active_tap\":\"auto\",\"tools\":[{\"id\":\"12675\"},{\"id\":\"12692\"},{\"id\":\"12693\"},{\"id\":\"12694\"},{\"id\":\"12695\"},{\"id\":\"12696\"}]},\"id\":\"12698\",\"type\":\"Toolbar\"},{\"attributes\":{\"margin\":[5,5,5,5],\"name\":\"HSpacer140911\",\"sizing_mode\":\"stretch_width\"},\"id\":\"12725\",\"type\":\"Spacer\"},{\"attributes\":{\"axis\":{\"id\":\"12688\"},\"dimension\":1,\"grid_line_color\":null,\"ticker\":null},\"id\":\"12691\",\"type\":\"Grid\"},{\"attributes\":{\"data_source\":{\"id\":\"12705\"},\"glyph\":{\"id\":\"12708\"},\"hover_glyph\":null,\"muted_glyph\":{\"id\":\"12710\"},\"nonselection_glyph\":{\"id\":\"12709\"},\"selection_glyph\":null,\"view\":{\"id\":\"12712\"}},\"id\":\"12711\",\"type\":\"GlyphRenderer\"},{\"attributes\":{},\"id\":\"12715\",\"type\":\"BasicTickFormatter\"},{\"attributes\":{\"factors\":[\"Union Square District\",\"Merced Heights\",\"Miraloma Park\",\"Pacific Heights\",\"Westwood Park\",\"Telegraph Hill\",\"Presidio Heights\",\"Cow Hollow\",\"Potrero Hill\",\"South Beach\"],\"tags\":[[[\"neighborhood\",\"neighborhood\",null]]]},\"id\":\"12673\",\"type\":\"FactorRange\"},{\"attributes\":{},\"id\":\"12713\",\"type\":\"CategoricalTickFormatter\"},{\"attributes\":{},\"id\":\"12723\",\"type\":\"UnionRenderers\"},{\"attributes\":{\"end\":929.3801355198136,\"reset_end\":929.3801355198136,\"reset_start\":0.0,\"tags\":[[[\"sale_price_sqr_foot\",\"sale_price_sqr_foot\",null]]]},\"id\":\"12674\",\"type\":\"Range1d\"},{\"attributes\":{},\"id\":\"12693\",\"type\":\"PanTool\"},{\"attributes\":{\"source\":{\"id\":\"12705\"}},\"id\":\"12712\",\"type\":\"CDSView\"},{\"attributes\":{},\"id\":\"12694\",\"type\":\"WheelZoomTool\"},{\"attributes\":{\"data\":{\"neighborhood\":[\"Union Square District\",\"Merced Heights\",\"Miraloma Park\",\"Pacific Heights\",\"Westwood Park\",\"Telegraph Hill\",\"Presidio Heights\",\"Cow Hollow\",\"Potrero Hill\",\"South Beach\"],\"sale_price_sqr_foot\":{\"__ndarray__\":\"JRAUMfI/jEB9IrkvwqaIQFx/3pp8XohAFpsVUHKMhUBs0ERas3iFQL0KhXgNJIVAy835O80ahUANV25bts+EQJrMCuEbsIRAya3y7v5QhEA=\",\"dtype\":\"float64\",\"shape\":[10]}},\"selected\":{\"id\":\"12706\"},\"selection_policy\":{\"id\":\"12723\"}},\"id\":\"12705\",\"type\":\"ColumnDataSource\"},{\"attributes\":{\"fill_alpha\":{\"value\":0.2},\"fill_color\":{\"value\":\"#1f77b3\"},\"line_alpha\":{\"value\":0.2},\"top\":{\"field\":\"sale_price_sqr_foot\"},\"width\":{\"value\":0.8},\"x\":{\"field\":\"neighborhood\"}},\"id\":\"12710\",\"type\":\"VBar\"},{\"attributes\":{},\"id\":\"12681\",\"type\":\"CategoricalScale\"},{\"attributes\":{\"fill_color\":{\"value\":\"#1f77b3\"},\"top\":{\"field\":\"sale_price_sqr_foot\"},\"width\":{\"value\":0.8},\"x\":{\"field\":\"neighborhood\"}},\"id\":\"12708\",\"type\":\"VBar\"},{\"attributes\":{},\"id\":\"12696\",\"type\":\"ResetTool\"},{\"attributes\":{\"overlay\":{\"id\":\"12697\"}},\"id\":\"12695\",\"type\":\"BoxZoomTool\"},{\"attributes\":{},\"id\":\"12706\",\"type\":\"Selection\"},{\"attributes\":{\"align\":null,\"below\":[{\"id\":\"12685\"}],\"center\":[{\"id\":\"12687\"},{\"id\":\"12691\"}],\"left\":[{\"id\":\"12688\"}],\"margin\":null,\"min_border_bottom\":10,\"min_border_left\":10,\"min_border_right\":10,\"min_border_top\":10,\"plot_height\":500,\"plot_width\":700,\"renderers\":[{\"id\":\"12711\"}],\"sizing_mode\":\"fixed\",\"title\":{\"id\":\"12677\"},\"toolbar\":{\"id\":\"12698\"},\"x_range\":{\"id\":\"12673\"},\"x_scale\":{\"id\":\"12681\"},\"y_range\":{\"id\":\"12674\"},\"y_scale\":{\"id\":\"12683\"}},\"id\":\"12676\",\"subtype\":\"Figure\",\"type\":\"Plot\"},{\"attributes\":{\"fill_alpha\":{\"value\":0.1},\"fill_color\":{\"value\":\"#1f77b3\"},\"line_alpha\":{\"value\":0.1},\"top\":{\"field\":\"sale_price_sqr_foot\"},\"width\":{\"value\":0.8},\"x\":{\"field\":\"neighborhood\"}},\"id\":\"12709\",\"type\":\"VBar\"}],\"root_ids\":[\"12671\"]},\"title\":\"Bokeh Application\",\"version\":\"2.0.1\"}};\n",
       "  var render_items = [{\"docid\":\"1d7db069-08db-4e4f-815e-be7b5b4e60f6\",\"root_ids\":[\"12671\"],\"roots\":{\"12671\":\"ba23b28e-a6a8-4800-bf9c-0706223ba053\"}}];\n",
       "  root.Bokeh.embed.embed_items_notebook(docs_json, render_items);\n",
       "  }\n",
       "if (root.Bokeh !== undefined) {\n",
       "    embed_document(root);\n",
       "  } else {\n",
       "    var attempts = 0;\n",
       "    var timer = setInterval(function(root) {\n",
       "      if (root.Bokeh !== undefined) {\n",
       "        clearInterval(timer);\n",
       "        embed_document(root);\n",
       "      } else if (document.readyState == \"complete\") {\n",
       "        attempts++;\n",
       "        if (attempts > 100) {\n",
       "          clearInterval(timer);\n",
       "          console.log(\"Bokeh: ERROR: Unable to run BokehJS code because BokehJS library is missing\");\n",
       "        }\n",
       "      }\n",
       "    }, 10, root)\n",
       "  }\n",
       "})(window);</script>"
      ],
      "text/plain": [
       ":Bars   [neighborhood]   (sale_price_sqr_foot)"
      ]
     },
     "execution_count": 140,
     "metadata": {
      "application/vnd.holoviews_exec.v0+json": {
       "id": "12671"
      }
     },
     "output_type": "execute_result"
    }
   ],
   "source": [
    "# Plotting the data from the top 10 expensive neighborhoods\n",
    "# YOUR CODE HERE!\n",
    "title_plot = 'Top 10 Most Expensive Neighborhoods in San Francisco'\n",
    "\n",
    "avg_top_10_expensive.hvplot.bar(\n",
    "    x='neighborhood',\n",
    "    y='sale_price_sqr_foot',\n",
    "    title= title_plot,\n",
    "    height=500,\n",
    "    rot=60)\n"
   ]
  },
  {
   "cell_type": "markdown",
   "metadata": {},
   "source": [
    "- - - "
   ]
  },
  {
   "cell_type": "markdown",
   "metadata": {},
   "source": [
    "## Parallel Coordinates and Parallel Categories Analysis\n",
    "\n",
    "In this section, you will use plotly express to create parallel coordinates and parallel categories visualizations so that investors can interactively filter and explore various factors related to the sales price of the neighborhoods. \n",
    "\n",
    "Using the DataFrame of Average values per neighborhood (calculated above), create the following visualizations:\n",
    "1. Create a Parallel Coordinates Plot\n",
    "2. Create a Parallel Categories Plot"
   ]
  },
  {
   "cell_type": "code",
   "execution_count": 130,
   "metadata": {},
   "outputs": [
    {
     "data": {
      "application/vnd.plotly.v1+json": {
       "config": {
        "plotlyServerURL": "https://plot.ly"
       },
       "data": [
        {
         "dimensions": [
          {
           "label": "sale_price_sqr_foot",
           "values": [
            903.9932576720645,
            788.8448175872469,
            779.810842264425,
            689.5558168113664,
            687.0875745178323,
            676.5065775293257,
            675.3502120510033,
            665.964041578323,
            662.0136128276529,
            650.1244791945729
           ]
          },
          {
           "label": "housing_units",
           "values": [
            377427.5,
            380348,
            375967.25,
            378401,
            382295,
            378401,
            378401,
            378401,
            378401,
            375805
           ]
          },
          {
           "label": "gross_rent",
           "values": [
            2555.1666666666665,
            3414,
            2155.25,
            2817.285714285714,
            3959,
            2817.285714285714,
            2817.285714285714,
            2817.285714285714,
            2817.285714285714,
            2099
           ]
          }
         ],
         "domain": {
          "x": [
           0,
           1
          ],
          "y": [
           0,
           1
          ]
         },
         "line": {
          "color": [
           903.9932576720645,
           788.8448175872469,
           779.810842264425,
           689.5558168113664,
           687.0875745178323,
           676.5065775293257,
           675.3502120510033,
           665.964041578323,
           662.0136128276529,
           650.1244791945729
          ],
          "coloraxis": "coloraxis"
         },
         "name": "",
         "type": "parcoords"
        }
       ],
       "layout": {
        "autosize": true,
        "coloraxis": {
         "colorbar": {
          "title": {
           "text": "sale_price_sqr_foot"
          }
         },
         "colorscale": [
          [
           0,
           "#0d0887"
          ],
          [
           0.1111111111111111,
           "#46039f"
          ],
          [
           0.2222222222222222,
           "#7201a8"
          ],
          [
           0.3333333333333333,
           "#9c179e"
          ],
          [
           0.4444444444444444,
           "#bd3786"
          ],
          [
           0.5555555555555556,
           "#d8576b"
          ],
          [
           0.6666666666666666,
           "#ed7953"
          ],
          [
           0.7777777777777778,
           "#fb9f3a"
          ],
          [
           0.8888888888888888,
           "#fdca26"
          ],
          [
           1,
           "#f0f921"
          ]
         ]
        },
        "legend": {
         "tracegroupgap": 0
        },
        "margin": {
         "t": 60
        },
        "template": {
         "data": {
          "bar": [
           {
            "error_x": {
             "color": "#2a3f5f"
            },
            "error_y": {
             "color": "#2a3f5f"
            },
            "marker": {
             "line": {
              "color": "#E5ECF6",
              "width": 0.5
             }
            },
            "type": "bar"
           }
          ],
          "barpolar": [
           {
            "marker": {
             "line": {
              "color": "#E5ECF6",
              "width": 0.5
             }
            },
            "type": "barpolar"
           }
          ],
          "carpet": [
           {
            "aaxis": {
             "endlinecolor": "#2a3f5f",
             "gridcolor": "white",
             "linecolor": "white",
             "minorgridcolor": "white",
             "startlinecolor": "#2a3f5f"
            },
            "baxis": {
             "endlinecolor": "#2a3f5f",
             "gridcolor": "white",
             "linecolor": "white",
             "minorgridcolor": "white",
             "startlinecolor": "#2a3f5f"
            },
            "type": "carpet"
           }
          ],
          "choropleth": [
           {
            "colorbar": {
             "outlinewidth": 0,
             "ticks": ""
            },
            "type": "choropleth"
           }
          ],
          "contour": [
           {
            "colorbar": {
             "outlinewidth": 0,
             "ticks": ""
            },
            "colorscale": [
             [
              0,
              "#0d0887"
             ],
             [
              0.1111111111111111,
              "#46039f"
             ],
             [
              0.2222222222222222,
              "#7201a8"
             ],
             [
              0.3333333333333333,
              "#9c179e"
             ],
             [
              0.4444444444444444,
              "#bd3786"
             ],
             [
              0.5555555555555556,
              "#d8576b"
             ],
             [
              0.6666666666666666,
              "#ed7953"
             ],
             [
              0.7777777777777778,
              "#fb9f3a"
             ],
             [
              0.8888888888888888,
              "#fdca26"
             ],
             [
              1,
              "#f0f921"
             ]
            ],
            "type": "contour"
           }
          ],
          "contourcarpet": [
           {
            "colorbar": {
             "outlinewidth": 0,
             "ticks": ""
            },
            "type": "contourcarpet"
           }
          ],
          "heatmap": [
           {
            "colorbar": {
             "outlinewidth": 0,
             "ticks": ""
            },
            "colorscale": [
             [
              0,
              "#0d0887"
             ],
             [
              0.1111111111111111,
              "#46039f"
             ],
             [
              0.2222222222222222,
              "#7201a8"
             ],
             [
              0.3333333333333333,
              "#9c179e"
             ],
             [
              0.4444444444444444,
              "#bd3786"
             ],
             [
              0.5555555555555556,
              "#d8576b"
             ],
             [
              0.6666666666666666,
              "#ed7953"
             ],
             [
              0.7777777777777778,
              "#fb9f3a"
             ],
             [
              0.8888888888888888,
              "#fdca26"
             ],
             [
              1,
              "#f0f921"
             ]
            ],
            "type": "heatmap"
           }
          ],
          "heatmapgl": [
           {
            "colorbar": {
             "outlinewidth": 0,
             "ticks": ""
            },
            "colorscale": [
             [
              0,
              "#0d0887"
             ],
             [
              0.1111111111111111,
              "#46039f"
             ],
             [
              0.2222222222222222,
              "#7201a8"
             ],
             [
              0.3333333333333333,
              "#9c179e"
             ],
             [
              0.4444444444444444,
              "#bd3786"
             ],
             [
              0.5555555555555556,
              "#d8576b"
             ],
             [
              0.6666666666666666,
              "#ed7953"
             ],
             [
              0.7777777777777778,
              "#fb9f3a"
             ],
             [
              0.8888888888888888,
              "#fdca26"
             ],
             [
              1,
              "#f0f921"
             ]
            ],
            "type": "heatmapgl"
           }
          ],
          "histogram": [
           {
            "marker": {
             "colorbar": {
              "outlinewidth": 0,
              "ticks": ""
             }
            },
            "type": "histogram"
           }
          ],
          "histogram2d": [
           {
            "colorbar": {
             "outlinewidth": 0,
             "ticks": ""
            },
            "colorscale": [
             [
              0,
              "#0d0887"
             ],
             [
              0.1111111111111111,
              "#46039f"
             ],
             [
              0.2222222222222222,
              "#7201a8"
             ],
             [
              0.3333333333333333,
              "#9c179e"
             ],
             [
              0.4444444444444444,
              "#bd3786"
             ],
             [
              0.5555555555555556,
              "#d8576b"
             ],
             [
              0.6666666666666666,
              "#ed7953"
             ],
             [
              0.7777777777777778,
              "#fb9f3a"
             ],
             [
              0.8888888888888888,
              "#fdca26"
             ],
             [
              1,
              "#f0f921"
             ]
            ],
            "type": "histogram2d"
           }
          ],
          "histogram2dcontour": [
           {
            "colorbar": {
             "outlinewidth": 0,
             "ticks": ""
            },
            "colorscale": [
             [
              0,
              "#0d0887"
             ],
             [
              0.1111111111111111,
              "#46039f"
             ],
             [
              0.2222222222222222,
              "#7201a8"
             ],
             [
              0.3333333333333333,
              "#9c179e"
             ],
             [
              0.4444444444444444,
              "#bd3786"
             ],
             [
              0.5555555555555556,
              "#d8576b"
             ],
             [
              0.6666666666666666,
              "#ed7953"
             ],
             [
              0.7777777777777778,
              "#fb9f3a"
             ],
             [
              0.8888888888888888,
              "#fdca26"
             ],
             [
              1,
              "#f0f921"
             ]
            ],
            "type": "histogram2dcontour"
           }
          ],
          "mesh3d": [
           {
            "colorbar": {
             "outlinewidth": 0,
             "ticks": ""
            },
            "type": "mesh3d"
           }
          ],
          "parcoords": [
           {
            "line": {
             "colorbar": {
              "outlinewidth": 0,
              "ticks": ""
             }
            },
            "type": "parcoords"
           }
          ],
          "pie": [
           {
            "automargin": true,
            "type": "pie"
           }
          ],
          "scatter": [
           {
            "marker": {
             "colorbar": {
              "outlinewidth": 0,
              "ticks": ""
             }
            },
            "type": "scatter"
           }
          ],
          "scatter3d": [
           {
            "line": {
             "colorbar": {
              "outlinewidth": 0,
              "ticks": ""
             }
            },
            "marker": {
             "colorbar": {
              "outlinewidth": 0,
              "ticks": ""
             }
            },
            "type": "scatter3d"
           }
          ],
          "scattercarpet": [
           {
            "marker": {
             "colorbar": {
              "outlinewidth": 0,
              "ticks": ""
             }
            },
            "type": "scattercarpet"
           }
          ],
          "scattergeo": [
           {
            "marker": {
             "colorbar": {
              "outlinewidth": 0,
              "ticks": ""
             }
            },
            "type": "scattergeo"
           }
          ],
          "scattergl": [
           {
            "marker": {
             "colorbar": {
              "outlinewidth": 0,
              "ticks": ""
             }
            },
            "type": "scattergl"
           }
          ],
          "scattermapbox": [
           {
            "marker": {
             "colorbar": {
              "outlinewidth": 0,
              "ticks": ""
             }
            },
            "type": "scattermapbox"
           }
          ],
          "scatterpolar": [
           {
            "marker": {
             "colorbar": {
              "outlinewidth": 0,
              "ticks": ""
             }
            },
            "type": "scatterpolar"
           }
          ],
          "scatterpolargl": [
           {
            "marker": {
             "colorbar": {
              "outlinewidth": 0,
              "ticks": ""
             }
            },
            "type": "scatterpolargl"
           }
          ],
          "scatterternary": [
           {
            "marker": {
             "colorbar": {
              "outlinewidth": 0,
              "ticks": ""
             }
            },
            "type": "scatterternary"
           }
          ],
          "surface": [
           {
            "colorbar": {
             "outlinewidth": 0,
             "ticks": ""
            },
            "colorscale": [
             [
              0,
              "#0d0887"
             ],
             [
              0.1111111111111111,
              "#46039f"
             ],
             [
              0.2222222222222222,
              "#7201a8"
             ],
             [
              0.3333333333333333,
              "#9c179e"
             ],
             [
              0.4444444444444444,
              "#bd3786"
             ],
             [
              0.5555555555555556,
              "#d8576b"
             ],
             [
              0.6666666666666666,
              "#ed7953"
             ],
             [
              0.7777777777777778,
              "#fb9f3a"
             ],
             [
              0.8888888888888888,
              "#fdca26"
             ],
             [
              1,
              "#f0f921"
             ]
            ],
            "type": "surface"
           }
          ],
          "table": [
           {
            "cells": {
             "fill": {
              "color": "#EBF0F8"
             },
             "line": {
              "color": "white"
             }
            },
            "header": {
             "fill": {
              "color": "#C8D4E3"
             },
             "line": {
              "color": "white"
             }
            },
            "type": "table"
           }
          ]
         },
         "layout": {
          "annotationdefaults": {
           "arrowcolor": "#2a3f5f",
           "arrowhead": 0,
           "arrowwidth": 1
          },
          "coloraxis": {
           "colorbar": {
            "outlinewidth": 0,
            "ticks": ""
           }
          },
          "colorscale": {
           "diverging": [
            [
             0,
             "#8e0152"
            ],
            [
             0.1,
             "#c51b7d"
            ],
            [
             0.2,
             "#de77ae"
            ],
            [
             0.3,
             "#f1b6da"
            ],
            [
             0.4,
             "#fde0ef"
            ],
            [
             0.5,
             "#f7f7f7"
            ],
            [
             0.6,
             "#e6f5d0"
            ],
            [
             0.7,
             "#b8e186"
            ],
            [
             0.8,
             "#7fbc41"
            ],
            [
             0.9,
             "#4d9221"
            ],
            [
             1,
             "#276419"
            ]
           ],
           "sequential": [
            [
             0,
             "#0d0887"
            ],
            [
             0.1111111111111111,
             "#46039f"
            ],
            [
             0.2222222222222222,
             "#7201a8"
            ],
            [
             0.3333333333333333,
             "#9c179e"
            ],
            [
             0.4444444444444444,
             "#bd3786"
            ],
            [
             0.5555555555555556,
             "#d8576b"
            ],
            [
             0.6666666666666666,
             "#ed7953"
            ],
            [
             0.7777777777777778,
             "#fb9f3a"
            ],
            [
             0.8888888888888888,
             "#fdca26"
            ],
            [
             1,
             "#f0f921"
            ]
           ],
           "sequentialminus": [
            [
             0,
             "#0d0887"
            ],
            [
             0.1111111111111111,
             "#46039f"
            ],
            [
             0.2222222222222222,
             "#7201a8"
            ],
            [
             0.3333333333333333,
             "#9c179e"
            ],
            [
             0.4444444444444444,
             "#bd3786"
            ],
            [
             0.5555555555555556,
             "#d8576b"
            ],
            [
             0.6666666666666666,
             "#ed7953"
            ],
            [
             0.7777777777777778,
             "#fb9f3a"
            ],
            [
             0.8888888888888888,
             "#fdca26"
            ],
            [
             1,
             "#f0f921"
            ]
           ]
          },
          "colorway": [
           "#636efa",
           "#EF553B",
           "#00cc96",
           "#ab63fa",
           "#FFA15A",
           "#19d3f3",
           "#FF6692",
           "#B6E880",
           "#FF97FF",
           "#FECB52"
          ],
          "font": {
           "color": "#2a3f5f"
          },
          "geo": {
           "bgcolor": "white",
           "lakecolor": "white",
           "landcolor": "#E5ECF6",
           "showlakes": true,
           "showland": true,
           "subunitcolor": "white"
          },
          "hoverlabel": {
           "align": "left"
          },
          "hovermode": "closest",
          "mapbox": {
           "style": "light"
          },
          "paper_bgcolor": "white",
          "plot_bgcolor": "#E5ECF6",
          "polar": {
           "angularaxis": {
            "gridcolor": "white",
            "linecolor": "white",
            "ticks": ""
           },
           "bgcolor": "#E5ECF6",
           "radialaxis": {
            "gridcolor": "white",
            "linecolor": "white",
            "ticks": ""
           }
          },
          "scene": {
           "xaxis": {
            "backgroundcolor": "#E5ECF6",
            "gridcolor": "white",
            "gridwidth": 2,
            "linecolor": "white",
            "showbackground": true,
            "ticks": "",
            "zerolinecolor": "white"
           },
           "yaxis": {
            "backgroundcolor": "#E5ECF6",
            "gridcolor": "white",
            "gridwidth": 2,
            "linecolor": "white",
            "showbackground": true,
            "ticks": "",
            "zerolinecolor": "white"
           },
           "zaxis": {
            "backgroundcolor": "#E5ECF6",
            "gridcolor": "white",
            "gridwidth": 2,
            "linecolor": "white",
            "showbackground": true,
            "ticks": "",
            "zerolinecolor": "white"
           }
          },
          "shapedefaults": {
           "line": {
            "color": "#2a3f5f"
           }
          },
          "ternary": {
           "aaxis": {
            "gridcolor": "white",
            "linecolor": "white",
            "ticks": ""
           },
           "baxis": {
            "gridcolor": "white",
            "linecolor": "white",
            "ticks": ""
           },
           "bgcolor": "#E5ECF6",
           "caxis": {
            "gridcolor": "white",
            "linecolor": "white",
            "ticks": ""
           }
          },
          "title": {
           "x": 0.05
          },
          "xaxis": {
           "automargin": true,
           "gridcolor": "white",
           "linecolor": "white",
           "ticks": "",
           "title": {
            "standoff": 15
           },
           "zerolinecolor": "white",
           "zerolinewidth": 2
          },
          "yaxis": {
           "automargin": true,
           "gridcolor": "white",
           "linecolor": "white",
           "ticks": "",
           "title": {
            "standoff": 15
           },
           "zerolinecolor": "white",
           "zerolinewidth": 2
          }
         }
        }
       }
      },
      "image/png": "[encoded data removed]",
      "text/html": [
       "<div>\n",
       "        \n",
       "        \n",
       "            <div id=\"56d8f8d2-5da5-4d84-b342-a7af54059f04\" class=\"plotly-graph-div\" style=\"height:525px; width:100%;\"></div>\n",
       "            <script type=\"text/javascript\">\n",
       "                require([\"plotly\"], function(Plotly) {\n",
       "                    window.PLOTLYENV=window.PLOTLYENV || {};\n",
       "                    \n",
       "                if (document.getElementById(\"56d8f8d2-5da5-4d84-b342-a7af54059f04\")) {\n",
       "                    Plotly.newPlot(\n",
       "                        '56d8f8d2-5da5-4d84-b342-a7af54059f04',\n",
       "                        [{\"dimensions\": [{\"label\": \"sale_price_sqr_foot\", \"values\": [903.9932576720645, 788.8448175872469, 779.810842264425, 689.5558168113664, 687.0875745178323, 676.5065775293257, 675.3502120510033, 665.964041578323, 662.0136128276529, 650.1244791945729]}, {\"label\": \"housing_units\", \"values\": [377427.5, 380348.0, 375967.25, 378401.0, 382295.0, 378401.0, 378401.0, 378401.0, 378401.0, 375805.0]}, {\"label\": \"gross_rent\", \"values\": [2555.1666666666665, 3414.0, 2155.25, 2817.285714285714, 3959.0, 2817.285714285714, 2817.285714285714, 2817.285714285714, 2817.285714285714, 2099.0]}], \"domain\": {\"x\": [0.0, 1.0], \"y\": [0.0, 1.0]}, \"line\": {\"color\": [903.9932576720645, 788.8448175872469, 779.810842264425, 689.5558168113664, 687.0875745178323, 676.5065775293257, 675.3502120510033, 665.964041578323, 662.0136128276529, 650.1244791945729], \"coloraxis\": \"coloraxis\"}, \"name\": \"\", \"type\": \"parcoords\"}],\n",
       "                        {\"coloraxis\": {\"colorbar\": {\"title\": {\"text\": \"sale_price_sqr_foot\"}}, \"colorscale\": [[0.0, \"#0d0887\"], [0.1111111111111111, \"#46039f\"], [0.2222222222222222, \"#7201a8\"], [0.3333333333333333, \"#9c179e\"], [0.4444444444444444, \"#bd3786\"], [0.5555555555555556, \"#d8576b\"], [0.6666666666666666, \"#ed7953\"], [0.7777777777777778, \"#fb9f3a\"], [0.8888888888888888, \"#fdca26\"], [1.0, \"#f0f921\"]]}, \"legend\": {\"tracegroupgap\": 0}, \"margin\": {\"t\": 60}, \"template\": {\"data\": {\"bar\": [{\"error_x\": {\"color\": \"#2a3f5f\"}, \"error_y\": {\"color\": \"#2a3f5f\"}, \"marker\": {\"line\": {\"color\": \"#E5ECF6\", \"width\": 0.5}}, \"type\": \"bar\"}], \"barpolar\": [{\"marker\": {\"line\": {\"color\": \"#E5ECF6\", \"width\": 0.5}}, \"type\": \"barpolar\"}], \"carpet\": [{\"aaxis\": {\"endlinecolor\": \"#2a3f5f\", \"gridcolor\": \"white\", \"linecolor\": \"white\", \"minorgridcolor\": \"white\", \"startlinecolor\": \"#2a3f5f\"}, \"baxis\": {\"endlinecolor\": \"#2a3f5f\", \"gridcolor\": \"white\", \"linecolor\": \"white\", \"minorgridcolor\": \"white\", \"startlinecolor\": \"#2a3f5f\"}, \"type\": \"carpet\"}], \"choropleth\": [{\"colorbar\": {\"outlinewidth\": 0, \"ticks\": \"\"}, \"type\": \"choropleth\"}], \"contour\": [{\"colorbar\": {\"outlinewidth\": 0, \"ticks\": \"\"}, \"colorscale\": [[0.0, \"#0d0887\"], [0.1111111111111111, \"#46039f\"], [0.2222222222222222, \"#7201a8\"], [0.3333333333333333, \"#9c179e\"], [0.4444444444444444, \"#bd3786\"], [0.5555555555555556, \"#d8576b\"], [0.6666666666666666, \"#ed7953\"], [0.7777777777777778, \"#fb9f3a\"], [0.8888888888888888, \"#fdca26\"], [1.0, \"#f0f921\"]], \"type\": \"contour\"}], \"contourcarpet\": [{\"colorbar\": {\"outlinewidth\": 0, \"ticks\": \"\"}, \"type\": \"contourcarpet\"}], \"heatmap\": [{\"colorbar\": {\"outlinewidth\": 0, \"ticks\": \"\"}, \"colorscale\": [[0.0, \"#0d0887\"], [0.1111111111111111, \"#46039f\"], [0.2222222222222222, \"#7201a8\"], [0.3333333333333333, \"#9c179e\"], [0.4444444444444444, \"#bd3786\"], [0.5555555555555556, \"#d8576b\"], [0.6666666666666666, \"#ed7953\"], [0.7777777777777778, \"#fb9f3a\"], [0.8888888888888888, \"#fdca26\"], [1.0, \"#f0f921\"]], \"type\": \"heatmap\"}], \"heatmapgl\": [{\"colorbar\": {\"outlinewidth\": 0, \"ticks\": \"\"}, \"colorscale\": [[0.0, \"#0d0887\"], [0.1111111111111111, \"#46039f\"], [0.2222222222222222, \"#7201a8\"], [0.3333333333333333, \"#9c179e\"], [0.4444444444444444, \"#bd3786\"], [0.5555555555555556, \"#d8576b\"], [0.6666666666666666, \"#ed7953\"], [0.7777777777777778, \"#fb9f3a\"], [0.8888888888888888, \"#fdca26\"], [1.0, \"#f0f921\"]], \"type\": \"heatmapgl\"}], \"histogram\": [{\"marker\": {\"colorbar\": {\"outlinewidth\": 0, \"ticks\": \"\"}}, \"type\": \"histogram\"}], \"histogram2d\": [{\"colorbar\": {\"outlinewidth\": 0, \"ticks\": \"\"}, \"colorscale\": [[0.0, \"#0d0887\"], [0.1111111111111111, \"#46039f\"], [0.2222222222222222, \"#7201a8\"], [0.3333333333333333, \"#9c179e\"], [0.4444444444444444, \"#bd3786\"], [0.5555555555555556, \"#d8576b\"], [0.6666666666666666, \"#ed7953\"], [0.7777777777777778, \"#fb9f3a\"], [0.8888888888888888, \"#fdca26\"], [1.0, \"#f0f921\"]], \"type\": \"histogram2d\"}], \"histogram2dcontour\": [{\"colorbar\": {\"outlinewidth\": 0, \"ticks\": \"\"}, \"colorscale\": [[0.0, \"#0d0887\"], [0.1111111111111111, \"#46039f\"], [0.2222222222222222, \"#7201a8\"], [0.3333333333333333, \"#9c179e\"], [0.4444444444444444, \"#bd3786\"], [0.5555555555555556, \"#d8576b\"], [0.6666666666666666, \"#ed7953\"], [0.7777777777777778, \"#fb9f3a\"], [0.8888888888888888, \"#fdca26\"], [1.0, \"#f0f921\"]], \"type\": \"histogram2dcontour\"}], \"mesh3d\": [{\"colorbar\": {\"outlinewidth\": 0, \"ticks\": \"\"}, \"type\": \"mesh3d\"}], \"parcoords\": [{\"line\": {\"colorbar\": {\"outlinewidth\": 0, \"ticks\": \"\"}}, \"type\": \"parcoords\"}], \"pie\": [{\"automargin\": true, \"type\": \"pie\"}], \"scatter\": [{\"marker\": {\"colorbar\": {\"outlinewidth\": 0, \"ticks\": \"\"}}, \"type\": \"scatter\"}], \"scatter3d\": [{\"line\": {\"colorbar\": {\"outlinewidth\": 0, \"ticks\": \"\"}}, \"marker\": {\"colorbar\": {\"outlinewidth\": 0, \"ticks\": \"\"}}, \"type\": \"scatter3d\"}], \"scattercarpet\": [{\"marker\": {\"colorbar\": {\"outlinewidth\": 0, \"ticks\": \"\"}}, \"type\": \"scattercarpet\"}], \"scattergeo\": [{\"marker\": {\"colorbar\": {\"outlinewidth\": 0, \"ticks\": \"\"}}, \"type\": \"scattergeo\"}], \"scattergl\": [{\"marker\": {\"colorbar\": {\"outlinewidth\": 0, \"ticks\": \"\"}}, \"type\": \"scattergl\"}], \"scattermapbox\": [{\"marker\": {\"colorbar\": {\"outlinewidth\": 0, \"ticks\": \"\"}}, \"type\": \"scattermapbox\"}], \"scatterpolar\": [{\"marker\": {\"colorbar\": {\"outlinewidth\": 0, \"ticks\": \"\"}}, \"type\": \"scatterpolar\"}], \"scatterpolargl\": [{\"marker\": {\"colorbar\": {\"outlinewidth\": 0, \"ticks\": \"\"}}, \"type\": \"scatterpolargl\"}], \"scatterternary\": [{\"marker\": {\"colorbar\": {\"outlinewidth\": 0, \"ticks\": \"\"}}, \"type\": \"scatterternary\"}], \"surface\": [{\"colorbar\": {\"outlinewidth\": 0, \"ticks\": \"\"}, \"colorscale\": [[0.0, \"#0d0887\"], [0.1111111111111111, \"#46039f\"], [0.2222222222222222, \"#7201a8\"], [0.3333333333333333, \"#9c179e\"], [0.4444444444444444, \"#bd3786\"], [0.5555555555555556, \"#d8576b\"], [0.6666666666666666, \"#ed7953\"], [0.7777777777777778, \"#fb9f3a\"], [0.8888888888888888, \"#fdca26\"], [1.0, \"#f0f921\"]], \"type\": \"surface\"}], \"table\": [{\"cells\": {\"fill\": {\"color\": \"#EBF0F8\"}, \"line\": {\"color\": \"white\"}}, \"header\": {\"fill\": {\"color\": \"#C8D4E3\"}, \"line\": {\"color\": \"white\"}}, \"type\": \"table\"}]}, \"layout\": {\"annotationdefaults\": {\"arrowcolor\": \"#2a3f5f\", \"arrowhead\": 0, \"arrowwidth\": 1}, \"coloraxis\": {\"colorbar\": {\"outlinewidth\": 0, \"ticks\": \"\"}}, \"colorscale\": {\"diverging\": [[0, \"#8e0152\"], [0.1, \"#c51b7d\"], [0.2, \"#de77ae\"], [0.3, \"#f1b6da\"], [0.4, \"#fde0ef\"], [0.5, \"#f7f7f7\"], [0.6, \"#e6f5d0\"], [0.7, \"#b8e186\"], [0.8, \"#7fbc41\"], [0.9, \"#4d9221\"], [1, \"#276419\"]], \"sequential\": [[0.0, \"#0d0887\"], [0.1111111111111111, \"#46039f\"], [0.2222222222222222, \"#7201a8\"], [0.3333333333333333, \"#9c179e\"], [0.4444444444444444, \"#bd3786\"], [0.5555555555555556, \"#d8576b\"], [0.6666666666666666, \"#ed7953\"], [0.7777777777777778, \"#fb9f3a\"], [0.8888888888888888, \"#fdca26\"], [1.0, \"#f0f921\"]], \"sequentialminus\": [[0.0, \"#0d0887\"], [0.1111111111111111, \"#46039f\"], [0.2222222222222222, \"#7201a8\"], [0.3333333333333333, \"#9c179e\"], [0.4444444444444444, \"#bd3786\"], [0.5555555555555556, \"#d8576b\"], [0.6666666666666666, \"#ed7953\"], [0.7777777777777778, \"#fb9f3a\"], [0.8888888888888888, \"#fdca26\"], [1.0, \"#f0f921\"]]}, \"colorway\": [\"#636efa\", \"#EF553B\", \"#00cc96\", \"#ab63fa\", \"#FFA15A\", \"#19d3f3\", \"#FF6692\", \"#B6E880\", \"#FF97FF\", \"#FECB52\"], \"font\": {\"color\": \"#2a3f5f\"}, \"geo\": {\"bgcolor\": \"white\", \"lakecolor\": \"white\", \"landcolor\": \"#E5ECF6\", \"showlakes\": true, \"showland\": true, \"subunitcolor\": \"white\"}, \"hoverlabel\": {\"align\": \"left\"}, \"hovermode\": \"closest\", \"mapbox\": {\"style\": \"light\"}, \"paper_bgcolor\": \"white\", \"plot_bgcolor\": \"#E5ECF6\", \"polar\": {\"angularaxis\": {\"gridcolor\": \"white\", \"linecolor\": \"white\", \"ticks\": \"\"}, \"bgcolor\": \"#E5ECF6\", \"radialaxis\": {\"gridcolor\": \"white\", \"linecolor\": \"white\", \"ticks\": \"\"}}, \"scene\": {\"xaxis\": {\"backgroundcolor\": \"#E5ECF6\", \"gridcolor\": \"white\", \"gridwidth\": 2, \"linecolor\": \"white\", \"showbackground\": true, \"ticks\": \"\", \"zerolinecolor\": \"white\"}, \"yaxis\": {\"backgroundcolor\": \"#E5ECF6\", \"gridcolor\": \"white\", \"gridwidth\": 2, \"linecolor\": \"white\", \"showbackground\": true, \"ticks\": \"\", \"zerolinecolor\": \"white\"}, \"zaxis\": {\"backgroundcolor\": \"#E5ECF6\", \"gridcolor\": \"white\", \"gridwidth\": 2, \"linecolor\": \"white\", \"showbackground\": true, \"ticks\": \"\", \"zerolinecolor\": \"white\"}}, \"shapedefaults\": {\"line\": {\"color\": \"#2a3f5f\"}}, \"ternary\": {\"aaxis\": {\"gridcolor\": \"white\", \"linecolor\": \"white\", \"ticks\": \"\"}, \"baxis\": {\"gridcolor\": \"white\", \"linecolor\": \"white\", \"ticks\": \"\"}, \"bgcolor\": \"#E5ECF6\", \"caxis\": {\"gridcolor\": \"white\", \"linecolor\": \"white\", \"ticks\": \"\"}}, \"title\": {\"x\": 0.05}, \"xaxis\": {\"automargin\": true, \"gridcolor\": \"white\", \"linecolor\": \"white\", \"ticks\": \"\", \"title\": {\"standoff\": 15}, \"zerolinecolor\": \"white\", \"zerolinewidth\": 2}, \"yaxis\": {\"automargin\": true, \"gridcolor\": \"white\", \"linecolor\": \"white\", \"ticks\": \"\", \"title\": {\"standoff\": 15}, \"zerolinecolor\": \"white\", \"zerolinewidth\": 2}}}},\n",
       "                        {\"responsive\": true}\n",
       "                    ).then(function(){\n",
       "                            \n",
       "var gd = document.getElementById('56d8f8d2-5da5-4d84-b342-a7af54059f04');\n",
       "var x = new MutationObserver(function (mutations, observer) {{\n",
       "        var display = window.getComputedStyle(gd).display;\n",
       "        if (!display || display === 'none') {{\n",
       "            console.log([gd, 'removed!']);\n",
       "            Plotly.purge(gd);\n",
       "            observer.disconnect();\n",
       "        }}\n",
       "}});\n",
       "\n",
       "// Listen for the removal of the full notebook cells\n",
       "var notebookContainer = gd.closest('#notebook-container');\n",
       "if (notebookContainer) {{\n",
       "    x.observe(notebookContainer, {childList: true});\n",
       "}}\n",
       "\n",
       "// Listen for the clearing of the current output cell\n",
       "var outputEl = gd.closest('.output');\n",
       "if (outputEl) {{\n",
       "    x.observe(outputEl, {childList: true});\n",
       "}}\n",
       "\n",
       "                        })\n",
       "                };\n",
       "                });\n",
       "            </script>\n",
       "        </div>"
      ]
     },
     "metadata": {},
     "output_type": "display_data"
    }
   ],
   "source": [
    "# Parallel Coordinates Plot\n",
    "# YOUR CODE HERE!\n",
    "\n",
    "px.parallel_coordinates(avg_top_10_expensive, color='sale_price_sqr_foot')"
   ]
  },
  {
   "cell_type": "code",
   "execution_count": 144,
   "metadata": {},
   "outputs": [
    {
     "data": {
      "text/html": [
       "<div>\n",
       "<style scoped>\n",
       "    .dataframe tbody tr th:only-of-type {\n",
       "        vertical-align: middle;\n",
       "    }\n",
       "\n",
       "    .dataframe tbody tr th {\n",
       "        vertical-align: top;\n",
       "    }\n",
       "\n",
       "    .dataframe thead th {\n",
       "        text-align: right;\n",
       "    }\n",
       "</style>\n",
       "<table border=\"1\" class=\"dataframe\">\n",
       "  <thead>\n",
       "    <tr style=\"text-align: right;\">\n",
       "      <th></th>\n",
       "      <th>neighborhood</th>\n",
       "      <th>sale_price_sqr_foot</th>\n",
       "      <th>housing_units</th>\n",
       "      <th>gross_rent</th>\n",
       "    </tr>\n",
       "  </thead>\n",
       "  <tbody>\n",
       "    <tr>\n",
       "      <th>0</th>\n",
       "      <td>Union Square District</td>\n",
       "      <td>903.993258</td>\n",
       "      <td>377427.50</td>\n",
       "      <td>2555.166667</td>\n",
       "    </tr>\n",
       "    <tr>\n",
       "      <th>1</th>\n",
       "      <td>Merced Heights</td>\n",
       "      <td>788.844818</td>\n",
       "      <td>380348.00</td>\n",
       "      <td>3414.000000</td>\n",
       "    </tr>\n",
       "    <tr>\n",
       "      <th>2</th>\n",
       "      <td>Miraloma Park</td>\n",
       "      <td>779.810842</td>\n",
       "      <td>375967.25</td>\n",
       "      <td>2155.250000</td>\n",
       "    </tr>\n",
       "    <tr>\n",
       "      <th>3</th>\n",
       "      <td>Pacific Heights</td>\n",
       "      <td>689.555817</td>\n",
       "      <td>378401.00</td>\n",
       "      <td>2817.285714</td>\n",
       "    </tr>\n",
       "    <tr>\n",
       "      <th>4</th>\n",
       "      <td>Westwood Park</td>\n",
       "      <td>687.087575</td>\n",
       "      <td>382295.00</td>\n",
       "      <td>3959.000000</td>\n",
       "    </tr>\n",
       "    <tr>\n",
       "      <th>5</th>\n",
       "      <td>Telegraph Hill</td>\n",
       "      <td>676.506578</td>\n",
       "      <td>378401.00</td>\n",
       "      <td>2817.285714</td>\n",
       "    </tr>\n",
       "    <tr>\n",
       "      <th>6</th>\n",
       "      <td>Presidio Heights</td>\n",
       "      <td>675.350212</td>\n",
       "      <td>378401.00</td>\n",
       "      <td>2817.285714</td>\n",
       "    </tr>\n",
       "    <tr>\n",
       "      <th>7</th>\n",
       "      <td>Cow Hollow</td>\n",
       "      <td>665.964042</td>\n",
       "      <td>378401.00</td>\n",
       "      <td>2817.285714</td>\n",
       "    </tr>\n",
       "    <tr>\n",
       "      <th>8</th>\n",
       "      <td>Potrero Hill</td>\n",
       "      <td>662.013613</td>\n",
       "      <td>378401.00</td>\n",
       "      <td>2817.285714</td>\n",
       "    </tr>\n",
       "    <tr>\n",
       "      <th>9</th>\n",
       "      <td>South Beach</td>\n",
       "      <td>650.124479</td>\n",
       "      <td>375805.00</td>\n",
       "      <td>2099.000000</td>\n",
       "    </tr>\n",
       "  </tbody>\n",
       "</table>\n",
       "</div>"
      ],
      "text/plain": [
       "            neighborhood  sale_price_sqr_foot  housing_units   gross_rent\n",
       "0  Union Square District           903.993258      377427.50  2555.166667\n",
       "1         Merced Heights           788.844818      380348.00  3414.000000\n",
       "2          Miraloma Park           779.810842      375967.25  2155.250000\n",
       "3        Pacific Heights           689.555817      378401.00  2817.285714\n",
       "4          Westwood Park           687.087575      382295.00  3959.000000\n",
       "5         Telegraph Hill           676.506578      378401.00  2817.285714\n",
       "6       Presidio Heights           675.350212      378401.00  2817.285714\n",
       "7             Cow Hollow           665.964042      378401.00  2817.285714\n",
       "8           Potrero Hill           662.013613      378401.00  2817.285714\n",
       "9            South Beach           650.124479      375805.00  2099.000000"
      ]
     },
     "execution_count": 144,
     "metadata": {},
     "output_type": "execute_result"
    }
   ],
   "source": [
    "# Reset index and create new dataframe in order to construct parallel categories ploy\n",
    "\n",
    "avg_top_10_expensive_df = avg_top_10_expensive.reset_index()"
   ]
  },
  {
   "cell_type": "code",
   "execution_count": 146,
   "metadata": {},
   "outputs": [
    {
     "data": {
      "application/vnd.plotly.v1+json": {
       "config": {
        "plotlyServerURL": "https://plot.ly"
       },
       "data": [
        {
         "dimensions": [
          {
           "label": "neighborhood",
           "values": [
            "Union Square District",
            "Merced Heights",
            "Miraloma Park",
            "Pacific Heights",
            "Westwood Park",
            "Telegraph Hill",
            "Presidio Heights",
            "Cow Hollow",
            "Potrero Hill",
            "South Beach"
           ]
          },
          {
           "label": "sale_price_sqr_foot",
           "values": [
            903.9932576720645,
            788.8448175872469,
            779.810842264425,
            689.5558168113664,
            687.0875745178323,
            676.5065775293257,
            675.3502120510033,
            665.964041578323,
            662.0136128276529,
            650.1244791945729
           ]
          },
          {
           "label": "housing_units",
           "values": [
            377427.5,
            380348,
            375967.25,
            378401,
            382295,
            378401,
            378401,
            378401,
            378401,
            375805
           ]
          },
          {
           "label": "gross_rent",
           "values": [
            2555.1666666666665,
            3414,
            2155.25,
            2817.285714285714,
            3959,
            2817.285714285714,
            2817.285714285714,
            2817.285714285714,
            2817.285714285714,
            2099
           ]
          }
         ],
         "domain": {
          "x": [
           0,
           1
          ],
          "y": [
           0,
           1
          ]
         },
         "line": {
          "color": [
           903.9932576720645,
           788.8448175872469,
           779.810842264425,
           689.5558168113664,
           687.0875745178323,
           676.5065775293257,
           675.3502120510033,
           665.964041578323,
           662.0136128276529,
           650.1244791945729
          ],
          "coloraxis": "coloraxis"
         },
         "name": "",
         "type": "parcats"
        }
       ],
       "layout": {
        "autosize": true,
        "coloraxis": {
         "colorbar": {
          "title": {
           "text": "sale_price_sqr_foot"
          }
         },
         "colorscale": [
          [
           0,
           "#000004"
          ],
          [
           0.1111111111111111,
           "#1b0c41"
          ],
          [
           0.2222222222222222,
           "#4a0c6b"
          ],
          [
           0.3333333333333333,
           "#781c6d"
          ],
          [
           0.4444444444444444,
           "#a52c60"
          ],
          [
           0.5555555555555556,
           "#cf4446"
          ],
          [
           0.6666666666666666,
           "#ed6925"
          ],
          [
           0.7777777777777778,
           "#fb9b06"
          ],
          [
           0.8888888888888888,
           "#f7d13d"
          ],
          [
           1,
           "#fcffa4"
          ]
         ]
        },
        "legend": {
         "tracegroupgap": 0
        },
        "margin": {
         "t": 60
        },
        "template": {
         "data": {
          "bar": [
           {
            "error_x": {
             "color": "#2a3f5f"
            },
            "error_y": {
             "color": "#2a3f5f"
            },
            "marker": {
             "line": {
              "color": "#E5ECF6",
              "width": 0.5
             }
            },
            "type": "bar"
           }
          ],
          "barpolar": [
           {
            "marker": {
             "line": {
              "color": "#E5ECF6",
              "width": 0.5
             }
            },
            "type": "barpolar"
           }
          ],
          "carpet": [
           {
            "aaxis": {
             "endlinecolor": "#2a3f5f",
             "gridcolor": "white",
             "linecolor": "white",
             "minorgridcolor": "white",
             "startlinecolor": "#2a3f5f"
            },
            "baxis": {
             "endlinecolor": "#2a3f5f",
             "gridcolor": "white",
             "linecolor": "white",
             "minorgridcolor": "white",
             "startlinecolor": "#2a3f5f"
            },
            "type": "carpet"
           }
          ],
          "choropleth": [
           {
            "colorbar": {
             "outlinewidth": 0,
             "ticks": ""
            },
            "type": "choropleth"
           }
          ],
          "contour": [
           {
            "colorbar": {
             "outlinewidth": 0,
             "ticks": ""
            },
            "colorscale": [
             [
              0,
              "#0d0887"
             ],
             [
              0.1111111111111111,
              "#46039f"
             ],
             [
              0.2222222222222222,
              "#7201a8"
             ],
             [
              0.3333333333333333,
              "#9c179e"
             ],
             [
              0.4444444444444444,
              "#bd3786"
             ],
             [
              0.5555555555555556,
              "#d8576b"
             ],
             [
              0.6666666666666666,
              "#ed7953"
             ],
             [
              0.7777777777777778,
              "#fb9f3a"
             ],
             [
              0.8888888888888888,
              "#fdca26"
             ],
             [
              1,
              "#f0f921"
             ]
            ],
            "type": "contour"
           }
          ],
          "contourcarpet": [
           {
            "colorbar": {
             "outlinewidth": 0,
             "ticks": ""
            },
            "type": "contourcarpet"
           }
          ],
          "heatmap": [
           {
            "colorbar": {
             "outlinewidth": 0,
             "ticks": ""
            },
            "colorscale": [
             [
              0,
              "#0d0887"
             ],
             [
              0.1111111111111111,
              "#46039f"
             ],
             [
              0.2222222222222222,
              "#7201a8"
             ],
             [
              0.3333333333333333,
              "#9c179e"
             ],
             [
              0.4444444444444444,
              "#bd3786"
             ],
             [
              0.5555555555555556,
              "#d8576b"
             ],
             [
              0.6666666666666666,
              "#ed7953"
             ],
             [
              0.7777777777777778,
              "#fb9f3a"
             ],
             [
              0.8888888888888888,
              "#fdca26"
             ],
             [
              1,
              "#f0f921"
             ]
            ],
            "type": "heatmap"
           }
          ],
          "heatmapgl": [
           {
            "colorbar": {
             "outlinewidth": 0,
             "ticks": ""
            },
            "colorscale": [
             [
              0,
              "#0d0887"
             ],
             [
              0.1111111111111111,
              "#46039f"
             ],
             [
              0.2222222222222222,
              "#7201a8"
             ],
             [
              0.3333333333333333,
              "#9c179e"
             ],
             [
              0.4444444444444444,
              "#bd3786"
             ],
             [
              0.5555555555555556,
              "#d8576b"
             ],
             [
              0.6666666666666666,
              "#ed7953"
             ],
             [
              0.7777777777777778,
              "#fb9f3a"
             ],
             [
              0.8888888888888888,
              "#fdca26"
             ],
             [
              1,
              "#f0f921"
             ]
            ],
            "type": "heatmapgl"
           }
          ],
          "histogram": [
           {
            "marker": {
             "colorbar": {
              "outlinewidth": 0,
              "ticks": ""
             }
            },
            "type": "histogram"
           }
          ],
          "histogram2d": [
           {
            "colorbar": {
             "outlinewidth": 0,
             "ticks": ""
            },
            "colorscale": [
             [
              0,
              "#0d0887"
             ],
             [
              0.1111111111111111,
              "#46039f"
             ],
             [
              0.2222222222222222,
              "#7201a8"
             ],
             [
              0.3333333333333333,
              "#9c179e"
             ],
             [
              0.4444444444444444,
              "#bd3786"
             ],
             [
              0.5555555555555556,
              "#d8576b"
             ],
             [
              0.6666666666666666,
              "#ed7953"
             ],
             [
              0.7777777777777778,
              "#fb9f3a"
             ],
             [
              0.8888888888888888,
              "#fdca26"
             ],
             [
              1,
              "#f0f921"
             ]
            ],
            "type": "histogram2d"
           }
          ],
          "histogram2dcontour": [
           {
            "colorbar": {
             "outlinewidth": 0,
             "ticks": ""
            },
            "colorscale": [
             [
              0,
              "#0d0887"
             ],
             [
              0.1111111111111111,
              "#46039f"
             ],
             [
              0.2222222222222222,
              "#7201a8"
             ],
             [
              0.3333333333333333,
              "#9c179e"
             ],
             [
              0.4444444444444444,
              "#bd3786"
             ],
             [
              0.5555555555555556,
              "#d8576b"
             ],
             [
              0.6666666666666666,
              "#ed7953"
             ],
             [
              0.7777777777777778,
              "#fb9f3a"
             ],
             [
              0.8888888888888888,
              "#fdca26"
             ],
             [
              1,
              "#f0f921"
             ]
            ],
            "type": "histogram2dcontour"
           }
          ],
          "mesh3d": [
           {
            "colorbar": {
             "outlinewidth": 0,
             "ticks": ""
            },
            "type": "mesh3d"
           }
          ],
          "parcoords": [
           {
            "line": {
             "colorbar": {
              "outlinewidth": 0,
              "ticks": ""
             }
            },
            "type": "parcoords"
           }
          ],
          "pie": [
           {
            "automargin": true,
            "type": "pie"
           }
          ],
          "scatter": [
           {
            "marker": {
             "colorbar": {
              "outlinewidth": 0,
              "ticks": ""
             }
            },
            "type": "scatter"
           }
          ],
          "scatter3d": [
           {
            "line": {
             "colorbar": {
              "outlinewidth": 0,
              "ticks": ""
             }
            },
            "marker": {
             "colorbar": {
              "outlinewidth": 0,
              "ticks": ""
             }
            },
            "type": "scatter3d"
           }
          ],
          "scattercarpet": [
           {
            "marker": {
             "colorbar": {
              "outlinewidth": 0,
              "ticks": ""
             }
            },
            "type": "scattercarpet"
           }
          ],
          "scattergeo": [
           {
            "marker": {
             "colorbar": {
              "outlinewidth": 0,
              "ticks": ""
             }
            },
            "type": "scattergeo"
           }
          ],
          "scattergl": [
           {
            "marker": {
             "colorbar": {
              "outlinewidth": 0,
              "ticks": ""
             }
            },
            "type": "scattergl"
           }
          ],
          "scattermapbox": [
           {
            "marker": {
             "colorbar": {
              "outlinewidth": 0,
              "ticks": ""
             }
            },
            "type": "scattermapbox"
           }
          ],
          "scatterpolar": [
           {
            "marker": {
             "colorbar": {
              "outlinewidth": 0,
              "ticks": ""
             }
            },
            "type": "scatterpolar"
           }
          ],
          "scatterpolargl": [
           {
            "marker": {
             "colorbar": {
              "outlinewidth": 0,
              "ticks": ""
             }
            },
            "type": "scatterpolargl"
           }
          ],
          "scatterternary": [
           {
            "marker": {
             "colorbar": {
              "outlinewidth": 0,
              "ticks": ""
             }
            },
            "type": "scatterternary"
           }
          ],
          "surface": [
           {
            "colorbar": {
             "outlinewidth": 0,
             "ticks": ""
            },
            "colorscale": [
             [
              0,
              "#0d0887"
             ],
             [
              0.1111111111111111,
              "#46039f"
             ],
             [
              0.2222222222222222,
              "#7201a8"
             ],
             [
              0.3333333333333333,
              "#9c179e"
             ],
             [
              0.4444444444444444,
              "#bd3786"
             ],
             [
              0.5555555555555556,
              "#d8576b"
             ],
             [
              0.6666666666666666,
              "#ed7953"
             ],
             [
              0.7777777777777778,
              "#fb9f3a"
             ],
             [
              0.8888888888888888,
              "#fdca26"
             ],
             [
              1,
              "#f0f921"
             ]
            ],
            "type": "surface"
           }
          ],
          "table": [
           {
            "cells": {
             "fill": {
              "color": "#EBF0F8"
             },
             "line": {
              "color": "white"
             }
            },
            "header": {
             "fill": {
              "color": "#C8D4E3"
             },
             "line": {
              "color": "white"
             }
            },
            "type": "table"
           }
          ]
         },
         "layout": {
          "annotationdefaults": {
           "arrowcolor": "#2a3f5f",
           "arrowhead": 0,
           "arrowwidth": 1
          },
          "coloraxis": {
           "colorbar": {
            "outlinewidth": 0,
            "ticks": ""
           }
          },
          "colorscale": {
           "diverging": [
            [
             0,
             "#8e0152"
            ],
            [
             0.1,
             "#c51b7d"
            ],
            [
             0.2,
             "#de77ae"
            ],
            [
             0.3,
             "#f1b6da"
            ],
            [
             0.4,
             "#fde0ef"
            ],
            [
             0.5,
             "#f7f7f7"
            ],
            [
             0.6,
             "#e6f5d0"
            ],
            [
             0.7,
             "#b8e186"
            ],
            [
             0.8,
             "#7fbc41"
            ],
            [
             0.9,
             "#4d9221"
            ],
            [
             1,
             "#276419"
            ]
           ],
           "sequential": [
            [
             0,
             "#0d0887"
            ],
            [
             0.1111111111111111,
             "#46039f"
            ],
            [
             0.2222222222222222,
             "#7201a8"
            ],
            [
             0.3333333333333333,
             "#9c179e"
            ],
            [
             0.4444444444444444,
             "#bd3786"
            ],
            [
             0.5555555555555556,
             "#d8576b"
            ],
            [
             0.6666666666666666,
             "#ed7953"
            ],
            [
             0.7777777777777778,
             "#fb9f3a"
            ],
            [
             0.8888888888888888,
             "#fdca26"
            ],
            [
             1,
             "#f0f921"
            ]
           ],
           "sequentialminus": [
            [
             0,
             "#0d0887"
            ],
            [
             0.1111111111111111,
             "#46039f"
            ],
            [
             0.2222222222222222,
             "#7201a8"
            ],
            [
             0.3333333333333333,
             "#9c179e"
            ],
            [
             0.4444444444444444,
             "#bd3786"
            ],
            [
             0.5555555555555556,
             "#d8576b"
            ],
            [
             0.6666666666666666,
             "#ed7953"
            ],
            [
             0.7777777777777778,
             "#fb9f3a"
            ],
            [
             0.8888888888888888,
             "#fdca26"
            ],
            [
             1,
             "#f0f921"
            ]
           ]
          },
          "colorway": [
           "#636efa",
           "#EF553B",
           "#00cc96",
           "#ab63fa",
           "#FFA15A",
           "#19d3f3",
           "#FF6692",
           "#B6E880",
           "#FF97FF",
           "#FECB52"
          ],
          "font": {
           "color": "#2a3f5f"
          },
          "geo": {
           "bgcolor": "white",
           "lakecolor": "white",
           "landcolor": "#E5ECF6",
           "showlakes": true,
           "showland": true,
           "subunitcolor": "white"
          },
          "hoverlabel": {
           "align": "left"
          },
          "hovermode": "closest",
          "mapbox": {
           "style": "light"
          },
          "paper_bgcolor": "white",
          "plot_bgcolor": "#E5ECF6",
          "polar": {
           "angularaxis": {
            "gridcolor": "white",
            "linecolor": "white",
            "ticks": ""
           },
           "bgcolor": "#E5ECF6",
           "radialaxis": {
            "gridcolor": "white",
            "linecolor": "white",
            "ticks": ""
           }
          },
          "scene": {
           "xaxis": {
            "backgroundcolor": "#E5ECF6",
            "gridcolor": "white",
            "gridwidth": 2,
            "linecolor": "white",
            "showbackground": true,
            "ticks": "",
            "zerolinecolor": "white"
           },
           "yaxis": {
            "backgroundcolor": "#E5ECF6",
            "gridcolor": "white",
            "gridwidth": 2,
            "linecolor": "white",
            "showbackground": true,
            "ticks": "",
            "zerolinecolor": "white"
           },
           "zaxis": {
            "backgroundcolor": "#E5ECF6",
            "gridcolor": "white",
            "gridwidth": 2,
            "linecolor": "white",
            "showbackground": true,
            "ticks": "",
            "zerolinecolor": "white"
           }
          },
          "shapedefaults": {
           "line": {
            "color": "#2a3f5f"
           }
          },
          "ternary": {
           "aaxis": {
            "gridcolor": "white",
            "linecolor": "white",
            "ticks": ""
           },
           "baxis": {
            "gridcolor": "white",
            "linecolor": "white",
            "ticks": ""
           },
           "bgcolor": "#E5ECF6",
           "caxis": {
            "gridcolor": "white",
            "linecolor": "white",
            "ticks": ""
           }
          },
          "title": {
           "x": 0.05
          },
          "xaxis": {
           "automargin": true,
           "gridcolor": "white",
           "linecolor": "white",
           "ticks": "",
           "title": {
            "standoff": 15
           },
           "zerolinecolor": "white",
           "zerolinewidth": 2
          },
          "yaxis": {
           "automargin": true,
           "gridcolor": "white",
           "linecolor": "white",
           "ticks": "",
           "title": {
            "standoff": 15
           },
           "zerolinecolor": "white",
           "zerolinewidth": 2
          }
         }
        }
       }
      },
      "image/png": "[encoded data removed]",
      "text/html": [
       "<div>\n",
       "        \n",
       "        \n",
       "            <div id=\"77860ba3-2527-48f9-9cf0-67015c726d7a\" class=\"plotly-graph-div\" style=\"height:525px; width:100%;\"></div>\n",
       "            <script type=\"text/javascript\">\n",
       "                require([\"plotly\"], function(Plotly) {\n",
       "                    window.PLOTLYENV=window.PLOTLYENV || {};\n",
       "                    \n",
       "                if (document.getElementById(\"77860ba3-2527-48f9-9cf0-67015c726d7a\")) {\n",
       "                    Plotly.newPlot(\n",
       "                        '77860ba3-2527-48f9-9cf0-67015c726d7a',\n",
       "                        [{\"dimensions\": [{\"label\": \"neighborhood\", \"values\": [\"Union Square District\", \"Merced Heights\", \"Miraloma Park\", \"Pacific Heights\", \"Westwood Park\", \"Telegraph Hill\", \"Presidio Heights\", \"Cow Hollow\", \"Potrero Hill\", \"South Beach\"]}, {\"label\": \"sale_price_sqr_foot\", \"values\": [903.9932576720645, 788.8448175872469, 779.810842264425, 689.5558168113664, 687.0875745178323, 676.5065775293257, 675.3502120510033, 665.964041578323, 662.0136128276529, 650.1244791945729]}, {\"label\": \"housing_units\", \"values\": [377427.5, 380348.0, 375967.25, 378401.0, 382295.0, 378401.0, 378401.0, 378401.0, 378401.0, 375805.0]}, {\"label\": \"gross_rent\", \"values\": [2555.1666666666665, 3414.0, 2155.25, 2817.285714285714, 3959.0, 2817.285714285714, 2817.285714285714, 2817.285714285714, 2817.285714285714, 2099.0]}], \"domain\": {\"x\": [0.0, 1.0], \"y\": [0.0, 1.0]}, \"line\": {\"color\": [903.9932576720645, 788.8448175872469, 779.810842264425, 689.5558168113664, 687.0875745178323, 676.5065775293257, 675.3502120510033, 665.964041578323, 662.0136128276529, 650.1244791945729], \"coloraxis\": \"coloraxis\"}, \"name\": \"\", \"type\": \"parcats\"}],\n",
       "                        {\"coloraxis\": {\"colorbar\": {\"title\": {\"text\": \"sale_price_sqr_foot\"}}, \"colorscale\": [[0.0, \"#000004\"], [0.1111111111111111, \"#1b0c41\"], [0.2222222222222222, \"#4a0c6b\"], [0.3333333333333333, \"#781c6d\"], [0.4444444444444444, \"#a52c60\"], [0.5555555555555556, \"#cf4446\"], [0.6666666666666666, \"#ed6925\"], [0.7777777777777778, \"#fb9b06\"], [0.8888888888888888, \"#f7d13d\"], [1.0, \"#fcffa4\"]]}, \"legend\": {\"tracegroupgap\": 0}, \"margin\": {\"t\": 60}, \"template\": {\"data\": {\"bar\": [{\"error_x\": {\"color\": \"#2a3f5f\"}, \"error_y\": {\"color\": \"#2a3f5f\"}, \"marker\": {\"line\": {\"color\": \"#E5ECF6\", \"width\": 0.5}}, \"type\": \"bar\"}], \"barpolar\": [{\"marker\": {\"line\": {\"color\": \"#E5ECF6\", \"width\": 0.5}}, \"type\": \"barpolar\"}], \"carpet\": [{\"aaxis\": {\"endlinecolor\": \"#2a3f5f\", \"gridcolor\": \"white\", \"linecolor\": \"white\", \"minorgridcolor\": \"white\", \"startlinecolor\": \"#2a3f5f\"}, \"baxis\": {\"endlinecolor\": \"#2a3f5f\", \"gridcolor\": \"white\", \"linecolor\": \"white\", \"minorgridcolor\": \"white\", \"startlinecolor\": \"#2a3f5f\"}, \"type\": \"carpet\"}], \"choropleth\": [{\"colorbar\": {\"outlinewidth\": 0, \"ticks\": \"\"}, \"type\": \"choropleth\"}], \"contour\": [{\"colorbar\": {\"outlinewidth\": 0, \"ticks\": \"\"}, \"colorscale\": [[0.0, \"#0d0887\"], [0.1111111111111111, \"#46039f\"], [0.2222222222222222, \"#7201a8\"], [0.3333333333333333, \"#9c179e\"], [0.4444444444444444, \"#bd3786\"], [0.5555555555555556, \"#d8576b\"], [0.6666666666666666, \"#ed7953\"], [0.7777777777777778, \"#fb9f3a\"], [0.8888888888888888, \"#fdca26\"], [1.0, \"#f0f921\"]], \"type\": \"contour\"}], \"contourcarpet\": [{\"colorbar\": {\"outlinewidth\": 0, \"ticks\": \"\"}, \"type\": \"contourcarpet\"}], \"heatmap\": [{\"colorbar\": {\"outlinewidth\": 0, \"ticks\": \"\"}, \"colorscale\": [[0.0, \"#0d0887\"], [0.1111111111111111, \"#46039f\"], [0.2222222222222222, \"#7201a8\"], [0.3333333333333333, \"#9c179e\"], [0.4444444444444444, \"#bd3786\"], [0.5555555555555556, \"#d8576b\"], [0.6666666666666666, \"#ed7953\"], [0.7777777777777778, \"#fb9f3a\"], [0.8888888888888888, \"#fdca26\"], [1.0, \"#f0f921\"]], \"type\": \"heatmap\"}], \"heatmapgl\": [{\"colorbar\": {\"outlinewidth\": 0, \"ticks\": \"\"}, \"colorscale\": [[0.0, \"#0d0887\"], [0.1111111111111111, \"#46039f\"], [0.2222222222222222, \"#7201a8\"], [0.3333333333333333, \"#9c179e\"], [0.4444444444444444, \"#bd3786\"], [0.5555555555555556, \"#d8576b\"], [0.6666666666666666, \"#ed7953\"], [0.7777777777777778, \"#fb9f3a\"], [0.8888888888888888, \"#fdca26\"], [1.0, \"#f0f921\"]], \"type\": \"heatmapgl\"}], \"histogram\": [{\"marker\": {\"colorbar\": {\"outlinewidth\": 0, \"ticks\": \"\"}}, \"type\": \"histogram\"}], \"histogram2d\": [{\"colorbar\": {\"outlinewidth\": 0, \"ticks\": \"\"}, \"colorscale\": [[0.0, \"#0d0887\"], [0.1111111111111111, \"#46039f\"], [0.2222222222222222, \"#7201a8\"], [0.3333333333333333, \"#9c179e\"], [0.4444444444444444, \"#bd3786\"], [0.5555555555555556, \"#d8576b\"], [0.6666666666666666, \"#ed7953\"], [0.7777777777777778, \"#fb9f3a\"], [0.8888888888888888, \"#fdca26\"], [1.0, \"#f0f921\"]], \"type\": \"histogram2d\"}], \"histogram2dcontour\": [{\"colorbar\": {\"outlinewidth\": 0, \"ticks\": \"\"}, \"colorscale\": [[0.0, \"#0d0887\"], [0.1111111111111111, \"#46039f\"], [0.2222222222222222, \"#7201a8\"], [0.3333333333333333, \"#9c179e\"], [0.4444444444444444, \"#bd3786\"], [0.5555555555555556, \"#d8576b\"], [0.6666666666666666, \"#ed7953\"], [0.7777777777777778, \"#fb9f3a\"], [0.8888888888888888, \"#fdca26\"], [1.0, \"#f0f921\"]], \"type\": \"histogram2dcontour\"}], \"mesh3d\": [{\"colorbar\": {\"outlinewidth\": 0, \"ticks\": \"\"}, \"type\": \"mesh3d\"}], \"parcoords\": [{\"line\": {\"colorbar\": {\"outlinewidth\": 0, \"ticks\": \"\"}}, \"type\": \"parcoords\"}], \"pie\": [{\"automargin\": true, \"type\": \"pie\"}], \"scatter\": [{\"marker\": {\"colorbar\": {\"outlinewidth\": 0, \"ticks\": \"\"}}, \"type\": \"scatter\"}], \"scatter3d\": [{\"line\": {\"colorbar\": {\"outlinewidth\": 0, \"ticks\": \"\"}}, \"marker\": {\"colorbar\": {\"outlinewidth\": 0, \"ticks\": \"\"}}, \"type\": \"scatter3d\"}], \"scattercarpet\": [{\"marker\": {\"colorbar\": {\"outlinewidth\": 0, \"ticks\": \"\"}}, \"type\": \"scattercarpet\"}], \"scattergeo\": [{\"marker\": {\"colorbar\": {\"outlinewidth\": 0, \"ticks\": \"\"}}, \"type\": \"scattergeo\"}], \"scattergl\": [{\"marker\": {\"colorbar\": {\"outlinewidth\": 0, \"ticks\": \"\"}}, \"type\": \"scattergl\"}], \"scattermapbox\": [{\"marker\": {\"colorbar\": {\"outlinewidth\": 0, \"ticks\": \"\"}}, \"type\": \"scattermapbox\"}], \"scatterpolar\": [{\"marker\": {\"colorbar\": {\"outlinewidth\": 0, \"ticks\": \"\"}}, \"type\": \"scatterpolar\"}], \"scatterpolargl\": [{\"marker\": {\"colorbar\": {\"outlinewidth\": 0, \"ticks\": \"\"}}, \"type\": \"scatterpolargl\"}], \"scatterternary\": [{\"marker\": {\"colorbar\": {\"outlinewidth\": 0, \"ticks\": \"\"}}, \"type\": \"scatterternary\"}], \"surface\": [{\"colorbar\": {\"outlinewidth\": 0, \"ticks\": \"\"}, \"colorscale\": [[0.0, \"#0d0887\"], [0.1111111111111111, \"#46039f\"], [0.2222222222222222, \"#7201a8\"], [0.3333333333333333, \"#9c179e\"], [0.4444444444444444, \"#bd3786\"], [0.5555555555555556, \"#d8576b\"], [0.6666666666666666, \"#ed7953\"], [0.7777777777777778, \"#fb9f3a\"], [0.8888888888888888, \"#fdca26\"], [1.0, \"#f0f921\"]], \"type\": \"surface\"}], \"table\": [{\"cells\": {\"fill\": {\"color\": \"#EBF0F8\"}, \"line\": {\"color\": \"white\"}}, \"header\": {\"fill\": {\"color\": \"#C8D4E3\"}, \"line\": {\"color\": \"white\"}}, \"type\": \"table\"}]}, \"layout\": {\"annotationdefaults\": {\"arrowcolor\": \"#2a3f5f\", \"arrowhead\": 0, \"arrowwidth\": 1}, \"coloraxis\": {\"colorbar\": {\"outlinewidth\": 0, \"ticks\": \"\"}}, \"colorscale\": {\"diverging\": [[0, \"#8e0152\"], [0.1, \"#c51b7d\"], [0.2, \"#de77ae\"], [0.3, \"#f1b6da\"], [0.4, \"#fde0ef\"], [0.5, \"#f7f7f7\"], [0.6, \"#e6f5d0\"], [0.7, \"#b8e186\"], [0.8, \"#7fbc41\"], [0.9, \"#4d9221\"], [1, \"#276419\"]], \"sequential\": [[0.0, \"#0d0887\"], [0.1111111111111111, \"#46039f\"], [0.2222222222222222, \"#7201a8\"], [0.3333333333333333, \"#9c179e\"], [0.4444444444444444, \"#bd3786\"], [0.5555555555555556, \"#d8576b\"], [0.6666666666666666, \"#ed7953\"], [0.7777777777777778, \"#fb9f3a\"], [0.8888888888888888, \"#fdca26\"], [1.0, \"#f0f921\"]], \"sequentialminus\": [[0.0, \"#0d0887\"], [0.1111111111111111, \"#46039f\"], [0.2222222222222222, \"#7201a8\"], [0.3333333333333333, \"#9c179e\"], [0.4444444444444444, \"#bd3786\"], [0.5555555555555556, \"#d8576b\"], [0.6666666666666666, \"#ed7953\"], [0.7777777777777778, \"#fb9f3a\"], [0.8888888888888888, \"#fdca26\"], [1.0, \"#f0f921\"]]}, \"colorway\": [\"#636efa\", \"#EF553B\", \"#00cc96\", \"#ab63fa\", \"#FFA15A\", \"#19d3f3\", \"#FF6692\", \"#B6E880\", \"#FF97FF\", \"#FECB52\"], \"font\": {\"color\": \"#2a3f5f\"}, \"geo\": {\"bgcolor\": \"white\", \"lakecolor\": \"white\", \"landcolor\": \"#E5ECF6\", \"showlakes\": true, \"showland\": true, \"subunitcolor\": \"white\"}, \"hoverlabel\": {\"align\": \"left\"}, \"hovermode\": \"closest\", \"mapbox\": {\"style\": \"light\"}, \"paper_bgcolor\": \"white\", \"plot_bgcolor\": \"#E5ECF6\", \"polar\": {\"angularaxis\": {\"gridcolor\": \"white\", \"linecolor\": \"white\", \"ticks\": \"\"}, \"bgcolor\": \"#E5ECF6\", \"radialaxis\": {\"gridcolor\": \"white\", \"linecolor\": \"white\", \"ticks\": \"\"}}, \"scene\": {\"xaxis\": {\"backgroundcolor\": \"#E5ECF6\", \"gridcolor\": \"white\", \"gridwidth\": 2, \"linecolor\": \"white\", \"showbackground\": true, \"ticks\": \"\", \"zerolinecolor\": \"white\"}, \"yaxis\": {\"backgroundcolor\": \"#E5ECF6\", \"gridcolor\": \"white\", \"gridwidth\": 2, \"linecolor\": \"white\", \"showbackground\": true, \"ticks\": \"\", \"zerolinecolor\": \"white\"}, \"zaxis\": {\"backgroundcolor\": \"#E5ECF6\", \"gridcolor\": \"white\", \"gridwidth\": 2, \"linecolor\": \"white\", \"showbackground\": true, \"ticks\": \"\", \"zerolinecolor\": \"white\"}}, \"shapedefaults\": {\"line\": {\"color\": \"#2a3f5f\"}}, \"ternary\": {\"aaxis\": {\"gridcolor\": \"white\", \"linecolor\": \"white\", \"ticks\": \"\"}, \"baxis\": {\"gridcolor\": \"white\", \"linecolor\": \"white\", \"ticks\": \"\"}, \"bgcolor\": \"#E5ECF6\", \"caxis\": {\"gridcolor\": \"white\", \"linecolor\": \"white\", \"ticks\": \"\"}}, \"title\": {\"x\": 0.05}, \"xaxis\": {\"automargin\": true, \"gridcolor\": \"white\", \"linecolor\": \"white\", \"ticks\": \"\", \"title\": {\"standoff\": 15}, \"zerolinecolor\": \"white\", \"zerolinewidth\": 2}, \"yaxis\": {\"automargin\": true, \"gridcolor\": \"white\", \"linecolor\": \"white\", \"ticks\": \"\", \"title\": {\"standoff\": 15}, \"zerolinecolor\": \"white\", \"zerolinewidth\": 2}}}},\n",
       "                        {\"responsive\": true}\n",
       "                    ).then(function(){\n",
       "                            \n",
       "var gd = document.getElementById('77860ba3-2527-48f9-9cf0-67015c726d7a');\n",
       "var x = new MutationObserver(function (mutations, observer) {{\n",
       "        var display = window.getComputedStyle(gd).display;\n",
       "        if (!display || display === 'none') {{\n",
       "            console.log([gd, 'removed!']);\n",
       "            Plotly.purge(gd);\n",
       "            observer.disconnect();\n",
       "        }}\n",
       "}});\n",
       "\n",
       "// Listen for the removal of the full notebook cells\n",
       "var notebookContainer = gd.closest('#notebook-container');\n",
       "if (notebookContainer) {{\n",
       "    x.observe(notebookContainer, {childList: true});\n",
       "}}\n",
       "\n",
       "// Listen for the clearing of the current output cell\n",
       "var outputEl = gd.closest('.output');\n",
       "if (outputEl) {{\n",
       "    x.observe(outputEl, {childList: true});\n",
       "}}\n",
       "\n",
       "                        })\n",
       "                };\n",
       "                });\n",
       "            </script>\n",
       "        </div>"
      ]
     },
     "metadata": {},
     "output_type": "display_data"
    }
   ],
   "source": [
    "# Parallel Categories Plot\n",
    "# YOUR CODE HERE!\n",
    "\n",
    "px.parallel_categories(\n",
    "    avg_top_10_expensive_df,\n",
    "    dimensions=[\"neighborhood\", \"sale_price_sqr_foot\", \"housing_units\", \"gross_rent\"],\n",
    "    color=\"sale_price_sqr_foot\",\n",
    "    color_continuous_scale=px.colors.sequential.Inferno,)"
   ]
  },
  {
   "cell_type": "markdown",
   "metadata": {},
   "source": [
    "- - - "
   ]
  },
  {
   "cell_type": "markdown",
   "metadata": {},
   "source": [
    "## Neighborhood Map\n",
    "\n",
    "In this section, you will read in neighboor location data and build an interactive map with the average prices per neighborhood. Use a scatter_mapbox from plotly express to create the visualization. Remember, you will need your mapbox api key for this."
   ]
  },
  {
   "cell_type": "markdown",
   "metadata": {},
   "source": [
    "### Load Location Data"
   ]
  },
  {
   "cell_type": "code",
   "execution_count": null,
   "metadata": {},
   "outputs": [],
   "source": [
    "# Load neighborhoods coordinates data\n",
    "file_path = Path(\"Data/neighborhoods_coordinates.csv\")\n",
    "df_neighborhood_locations = pd.read_csv(file_path)\n",
    "df_neighborhood_locations.head()"
   ]
  },
  {
   "cell_type": "markdown",
   "metadata": {},
   "source": [
    "### Data Preparation\n",
    "\n",
    "You will need to join the location data with the mean prices per neighborhood\n",
    "\n",
    "1. Calculate the mean values for each neighborhood\n",
    "2. Join the average values with the neighborhood locations"
   ]
  },
  {
   "cell_type": "code",
   "execution_count": null,
   "metadata": {},
   "outputs": [],
   "source": [
    "# Calculate the mean values for each neighborhood\n",
    "# YOUR CODE HERE!"
   ]
  },
  {
   "cell_type": "code",
   "execution_count": null,
   "metadata": {},
   "outputs": [],
   "source": [
    "# Join the average values with the neighborhood locations\n",
    "# YOUR CODE HERE!"
   ]
  },
  {
   "cell_type": "markdown",
   "metadata": {},
   "source": [
    "### Mapbox Visualization\n",
    "\n",
    "Plot the aveage values per neighborhood with a plotly express scatter_mapbox visualization."
   ]
  },
  {
   "cell_type": "code",
   "execution_count": null,
   "metadata": {},
   "outputs": [],
   "source": [
    "# Create a scatter mapbox to analyze neighborhood info\n",
    "# YOUR CODE HERE!"
   ]
  }
 ],
 "metadata": {
  "file_extension": ".py",
  "kernelspec": {
   "display_name": "Python 3",
   "language": "python",
   "name": "python3"
  },
  "language_info": {
   "codemirror_mode": {
    "name": "ipython",
    "version": 3
   },
   "file_extension": ".py",
   "mimetype": "text/x-python",
   "name": "python",
   "nbconvert_exporter": "python",
   "pygments_lexer": "ipython3",
   "version": "3.7.7"
  },
  "mimetype": "text/x-python",
  "name": "python",
  "npconvert_exporter": "python",
  "pygments_lexer": "ipython3",
  "version": 3
 },
 "nbformat": 4,
 "nbformat_minor": 4
}
